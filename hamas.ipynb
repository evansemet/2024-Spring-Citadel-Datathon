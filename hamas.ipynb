{
 "cells": [
  {
   "cell_type": "code",
   "execution_count": 49,
   "metadata": {},
   "outputs": [],
   "source": [
    "import pandas as pd\n",
    "import numpy as np\n",
    "import plotly.graph_objects as plgo\n",
    "from plotly.subplots import make_subplots\n",
    "import seaborn as sns\n"
   ]
  },
  {
   "cell_type": "code",
   "execution_count": 2,
   "metadata": {},
   "outputs": [],
   "source": [
    "START_DATE = pd.to_datetime('2023-10-27')\n",
    "END_DATE = pd.to_datetime('2023-11-24')"
   ]
  },
  {
   "cell_type": "code",
   "execution_count": 4,
   "metadata": {},
   "outputs": [
    {
     "data": {
      "text/html": [
       "<div>\n",
       "<style scoped>\n",
       "    .dataframe tbody tr th:only-of-type {\n",
       "        vertical-align: middle;\n",
       "    }\n",
       "\n",
       "    .dataframe tbody tr th {\n",
       "        vertical-align: top;\n",
       "    }\n",
       "\n",
       "    .dataframe thead th {\n",
       "        text-align: right;\n",
       "    }\n",
       "</style>\n",
       "<table border=\"1\" class=\"dataframe\">\n",
       "  <thead>\n",
       "    <tr style=\"text-align: right;\">\n",
       "      <th></th>\n",
       "      <th>Date</th>\n",
       "      <th>Value</th>\n",
       "    </tr>\n",
       "  </thead>\n",
       "  <tbody>\n",
       "    <tr>\n",
       "      <th>0</th>\n",
       "      <td>2023-10-27</td>\n",
       "      <td>89.20</td>\n",
       "    </tr>\n",
       "    <tr>\n",
       "      <th>1</th>\n",
       "      <td>2023-10-30</td>\n",
       "      <td>86.35</td>\n",
       "    </tr>\n",
       "    <tr>\n",
       "      <th>2</th>\n",
       "      <td>2023-10-31</td>\n",
       "      <td>85.02</td>\n",
       "    </tr>\n",
       "    <tr>\n",
       "      <th>3</th>\n",
       "      <td>2023-11-01</td>\n",
       "      <td>84.63</td>\n",
       "    </tr>\n",
       "    <tr>\n",
       "      <th>4</th>\n",
       "      <td>2023-11-02</td>\n",
       "      <td>86.85</td>\n",
       "    </tr>\n",
       "  </tbody>\n",
       "</table>\n",
       "</div>"
      ],
      "text/plain": [
       "        Date  Value\n",
       "0 2023-10-27  89.20\n",
       "1 2023-10-30  86.35\n",
       "2 2023-10-31  85.02\n",
       "3 2023-11-01  84.63\n",
       "4 2023-11-02  86.85"
      ]
     },
     "execution_count": 4,
     "metadata": {},
     "output_type": "execute_result"
    }
   ],
   "source": [
    "brent_df = pd.read_csv('oil_futures_data.csv',\n",
    "                       usecols=['Date', 'Close'],\n",
    "                       parse_dates=['Date'],\n",
    "                       dtype={'Close': float})\n",
    "\n",
    "brent_df = brent_df[(brent_df['Date'] >= START_DATE) & (brent_df['Date'] <= END_DATE)]\n",
    "brent_df = brent_df.iloc[::-1].reset_index(drop=True)\n",
    "brent_df.rename(columns={'Close': 'Value'}, inplace=True)\n",
    "brent_df.head()"
   ]
  },
  {
   "cell_type": "code",
   "execution_count": 5,
   "metadata": {},
   "outputs": [
    {
     "data": {
      "text/html": [
       "<div>\n",
       "<style scoped>\n",
       "    .dataframe tbody tr th:only-of-type {\n",
       "        vertical-align: middle;\n",
       "    }\n",
       "\n",
       "    .dataframe tbody tr th {\n",
       "        vertical-align: top;\n",
       "    }\n",
       "\n",
       "    .dataframe thead th {\n",
       "        text-align: right;\n",
       "    }\n",
       "</style>\n",
       "<table border=\"1\" class=\"dataframe\">\n",
       "  <thead>\n",
       "    <tr style=\"text-align: right;\">\n",
       "      <th></th>\n",
       "      <th>Date</th>\n",
       "      <th>Value</th>\n",
       "    </tr>\n",
       "  </thead>\n",
       "  <tbody>\n",
       "    <tr>\n",
       "      <th>0</th>\n",
       "      <td>2023-10-27</td>\n",
       "      <td>86.04</td>\n",
       "    </tr>\n",
       "    <tr>\n",
       "      <th>1</th>\n",
       "      <td>2023-10-30</td>\n",
       "      <td>83.03</td>\n",
       "    </tr>\n",
       "    <tr>\n",
       "      <th>2</th>\n",
       "      <td>2023-10-31</td>\n",
       "      <td>81.64</td>\n",
       "    </tr>\n",
       "    <tr>\n",
       "      <th>3</th>\n",
       "      <td>2023-11-01</td>\n",
       "      <td>81.05</td>\n",
       "    </tr>\n",
       "    <tr>\n",
       "      <th>4</th>\n",
       "      <td>2023-11-02</td>\n",
       "      <td>83.04</td>\n",
       "    </tr>\n",
       "  </tbody>\n",
       "</table>\n",
       "</div>"
      ],
      "text/plain": [
       "        Date  Value\n",
       "0 2023-10-27  86.04\n",
       "1 2023-10-30  83.03\n",
       "2 2023-10-31  81.64\n",
       "3 2023-11-01  81.05\n",
       "4 2023-11-02  83.04"
      ]
     },
     "execution_count": 5,
     "metadata": {},
     "output_type": "execute_result"
    }
   ],
   "source": [
    "wti_df = pd.read_csv('/Users/shrek/Downloads/Datathon Data/all_commodities.csv',\n",
    "                     usecols=['Date_Time','Value','Commodity'],\n",
    "                     parse_dates=['Date_Time'],\n",
    "                     dtype={'Value': float, 'Commodity': str})\n",
    "\n",
    "wti_df = wti_df[(wti_df['Commodity']=='West Texas Intermediary Crude Oil') & (wti_df['Date_Time'] >= START_DATE) & (wti_df['Date_Time'] <= END_DATE)]\n",
    "wti_df = wti_df.iloc[::-1].reset_index(drop=True)\n",
    "wti_df.drop(columns=['Commodity'], inplace=True)\n",
    "wti_df.rename(columns={'Date_Time': 'Date'}, inplace=True)\n",
    "wti_df.head()"
   ]
  },
  {
   "cell_type": "code",
   "execution_count": 6,
   "metadata": {},
   "outputs": [
    {
     "data": {
      "text/html": [
       "<div>\n",
       "<style scoped>\n",
       "    .dataframe tbody tr th:only-of-type {\n",
       "        vertical-align: middle;\n",
       "    }\n",
       "\n",
       "    .dataframe tbody tr th {\n",
       "        vertical-align: top;\n",
       "    }\n",
       "\n",
       "    .dataframe thead th {\n",
       "        text-align: right;\n",
       "    }\n",
       "</style>\n",
       "<table border=\"1\" class=\"dataframe\">\n",
       "  <thead>\n",
       "    <tr style=\"text-align: right;\">\n",
       "      <th></th>\n",
       "      <th>Date</th>\n",
       "      <th>Value</th>\n",
       "    </tr>\n",
       "  </thead>\n",
       "  <tbody>\n",
       "    <tr>\n",
       "      <th>0</th>\n",
       "      <td>2023-10-27</td>\n",
       "      <td>3.24</td>\n",
       "    </tr>\n",
       "    <tr>\n",
       "      <th>1</th>\n",
       "      <td>2023-10-30</td>\n",
       "      <td>3.17</td>\n",
       "    </tr>\n",
       "    <tr>\n",
       "      <th>2</th>\n",
       "      <td>2023-10-31</td>\n",
       "      <td>3.34</td>\n",
       "    </tr>\n",
       "    <tr>\n",
       "      <th>3</th>\n",
       "      <td>2023-11-01</td>\n",
       "      <td>3.19</td>\n",
       "    </tr>\n",
       "    <tr>\n",
       "      <th>4</th>\n",
       "      <td>2023-11-02</td>\n",
       "      <td>3.12</td>\n",
       "    </tr>\n",
       "  </tbody>\n",
       "</table>\n",
       "</div>"
      ],
      "text/plain": [
       "        Date  Value\n",
       "0 2023-10-27   3.24\n",
       "1 2023-10-30   3.17\n",
       "2 2023-10-31   3.34\n",
       "3 2023-11-01   3.19\n",
       "4 2023-11-02   3.12"
      ]
     },
     "execution_count": 6,
     "metadata": {},
     "output_type": "execute_result"
    }
   ],
   "source": [
    "henry_df = pd.read_csv('/Users/shrek/Downloads/Datathon Data/all_commodities.csv',\n",
    "                       usecols=['Date_Time','Value','Commodity'],\n",
    "                       parse_dates=['Date_Time'],\n",
    "                       dtype={'Value': float, 'Commodity': str})\n",
    "\n",
    "henry_df = henry_df[(henry_df['Commodity']=='Henry Hub Natural Gas Spot Price') & (henry_df['Date_Time'] >= START_DATE) & (henry_df['Date_Time'] <= END_DATE)]\n",
    "henry_df = henry_df.iloc[::-1].reset_index(drop=True)\n",
    "henry_df.drop(columns=['Commodity'], inplace=True)\n",
    "henry_df.rename(columns={'Date_Time': 'Date'}, inplace=True)\n",
    "henry_df.head()"
   ]
  },
  {
   "cell_type": "code",
   "execution_count": 7,
   "metadata": {},
   "outputs": [],
   "source": [
    "for df in [brent_df, henry_df, wti_df]:\n",
    "    df['Value'].fillna(method='bfill', inplace=True)\n",
    "    df['Value_EMA'] = df['Value'].ewm(span=5, adjust=False).mean()"
   ]
  },
  {
   "cell_type": "code",
   "execution_count": 8,
   "metadata": {},
   "outputs": [
    {
     "data": {
      "text/html": [
       "<div>\n",
       "<style scoped>\n",
       "    .dataframe tbody tr th:only-of-type {\n",
       "        vertical-align: middle;\n",
       "    }\n",
       "\n",
       "    .dataframe tbody tr th {\n",
       "        vertical-align: top;\n",
       "    }\n",
       "\n",
       "    .dataframe thead th {\n",
       "        text-align: right;\n",
       "    }\n",
       "</style>\n",
       "<table border=\"1\" class=\"dataframe\">\n",
       "  <thead>\n",
       "    <tr style=\"text-align: right;\">\n",
       "      <th></th>\n",
       "      <th>day</th>\n",
       "      <th>prediction</th>\n",
       "      <th>prediction_EMA</th>\n",
       "    </tr>\n",
       "  </thead>\n",
       "  <tbody>\n",
       "    <tr>\n",
       "      <th>0</th>\n",
       "      <td>2023-10-27</td>\n",
       "      <td>0.21200</td>\n",
       "      <td>0.212000</td>\n",
       "    </tr>\n",
       "    <tr>\n",
       "      <th>3</th>\n",
       "      <td>2023-10-30</td>\n",
       "      <td>0.19375</td>\n",
       "      <td>0.205917</td>\n",
       "    </tr>\n",
       "    <tr>\n",
       "      <th>4</th>\n",
       "      <td>2023-10-31</td>\n",
       "      <td>0.15500</td>\n",
       "      <td>0.188944</td>\n",
       "    </tr>\n",
       "    <tr>\n",
       "      <th>5</th>\n",
       "      <td>2023-11-01</td>\n",
       "      <td>0.10125</td>\n",
       "      <td>0.159713</td>\n",
       "    </tr>\n",
       "    <tr>\n",
       "      <th>6</th>\n",
       "      <td>2023-11-02</td>\n",
       "      <td>0.10625</td>\n",
       "      <td>0.141892</td>\n",
       "    </tr>\n",
       "  </tbody>\n",
       "</table>\n",
       "</div>"
      ],
      "text/plain": [
       "         day  prediction  prediction_EMA\n",
       "0 2023-10-27     0.21200        0.212000\n",
       "3 2023-10-30     0.19375        0.205917\n",
       "4 2023-10-31     0.15500        0.188944\n",
       "5 2023-11-01     0.10125        0.159713\n",
       "6 2023-11-02     0.10625        0.141892"
      ]
     },
     "execution_count": 8,
     "metadata": {},
     "output_type": "execute_result"
    }
   ],
   "source": [
    "df_probs = pd.read_excel('manual_data.xlsx', header=3)\n",
    "df_probs['date'] = df_probs['date'].map(lambda date: date - pd.DateOffset(years=1)).ffill()\n",
    "df_probs_grouped = df_probs.groupby('date').mean().reset_index()\n",
    "df_probs_grouped.drop(columns=['hour'], inplace=True)\n",
    "df_probs_grouped['value'] /= 100\n",
    "df_probs_grouped.rename(columns={'date': 'day', 'value': 'prediction'}, inplace=True)\n",
    "df_probs_grouped = df_probs_grouped[(df_probs_grouped['day'].dt.weekday < 5) & (df_probs_grouped['day'] >= START_DATE) & (df_probs_grouped['day'] <= END_DATE)]\n",
    "df_probs_grouped['prediction_EMA'] = df_probs_grouped['prediction'].ewm(span=5, adjust=False).mean()\n",
    "df_probs_grouped.head()"
   ]
  },
  {
   "cell_type": "code",
   "execution_count": 9,
   "metadata": {},
   "outputs": [
    {
     "data": {
      "application/vnd.plotly.v1+json": {
       "config": {
        "plotlyServerURL": "https://plot.ly"
       },
       "data": [
        {
         "mode": "lines+markers",
         "name": "PolyMarket Prediction %",
         "type": "scatter",
         "x": [
          "2023-10-27T00:00:00",
          "2023-10-30T00:00:00",
          "2023-10-31T00:00:00",
          "2023-11-01T00:00:00",
          "2023-11-02T00:00:00",
          "2023-11-03T00:00:00",
          "2023-11-06T00:00:00",
          "2023-11-07T00:00:00",
          "2023-11-08T00:00:00",
          "2023-11-09T00:00:00",
          "2023-11-10T00:00:00",
          "2023-11-13T00:00:00",
          "2023-11-14T00:00:00",
          "2023-11-15T00:00:00",
          "2023-11-16T00:00:00",
          "2023-11-17T00:00:00",
          "2023-11-20T00:00:00",
          "2023-11-21T00:00:00",
          "2023-11-22T00:00:00",
          "2023-11-23T00:00:00",
          "2023-11-24T00:00:00"
         ],
         "y": [
          0.212,
          0.19375,
          0.155,
          0.10125,
          0.10625,
          0.11375,
          0.13,
          0.15625,
          0.17125,
          0.21125,
          0.17375,
          0.18875,
          0.29125,
          0.35875,
          0.35,
          0.26125,
          0.4875,
          0.76875,
          0.9025,
          0.87875,
          0.91625
         ]
        },
        {
         "mode": "lines+markers",
         "name": "PolyMarket Prediction % EMA",
         "type": "scatter",
         "x": [
          "2023-10-27T00:00:00",
          "2023-10-30T00:00:00",
          "2023-10-31T00:00:00",
          "2023-11-01T00:00:00",
          "2023-11-02T00:00:00",
          "2023-11-03T00:00:00",
          "2023-11-06T00:00:00",
          "2023-11-07T00:00:00",
          "2023-11-08T00:00:00",
          "2023-11-09T00:00:00",
          "2023-11-10T00:00:00",
          "2023-11-13T00:00:00",
          "2023-11-14T00:00:00",
          "2023-11-15T00:00:00",
          "2023-11-16T00:00:00",
          "2023-11-17T00:00:00",
          "2023-11-20T00:00:00",
          "2023-11-21T00:00:00",
          "2023-11-22T00:00:00",
          "2023-11-23T00:00:00",
          "2023-11-24T00:00:00"
         ],
         "y": [
          0.212,
          0.20591666666666666,
          0.18894444444444447,
          0.159712962962963,
          0.141891975308642,
          0.132511316872428,
          0.13167421124828535,
          0.13986614083219023,
          0.15032742722146017,
          0.17063495148097343,
          0.17167330098731562,
          0.17736553399154376,
          0.21532702266102918,
          0.2631346817740195,
          0.29208978784934636,
          0.2818098585662309,
          0.35037323904415396,
          0.4898321593627693,
          0.6273881062418462,
          0.7111754041612308,
          0.779533602774154
         ]
        }
       ],
       "layout": {
        "template": {
         "data": {
          "bar": [
           {
            "error_x": {
             "color": "#2a3f5f"
            },
            "error_y": {
             "color": "#2a3f5f"
            },
            "marker": {
             "line": {
              "color": "#E5ECF6",
              "width": 0.5
             },
             "pattern": {
              "fillmode": "overlay",
              "size": 10,
              "solidity": 0.2
             }
            },
            "type": "bar"
           }
          ],
          "barpolar": [
           {
            "marker": {
             "line": {
              "color": "#E5ECF6",
              "width": 0.5
             },
             "pattern": {
              "fillmode": "overlay",
              "size": 10,
              "solidity": 0.2
             }
            },
            "type": "barpolar"
           }
          ],
          "carpet": [
           {
            "aaxis": {
             "endlinecolor": "#2a3f5f",
             "gridcolor": "white",
             "linecolor": "white",
             "minorgridcolor": "white",
             "startlinecolor": "#2a3f5f"
            },
            "baxis": {
             "endlinecolor": "#2a3f5f",
             "gridcolor": "white",
             "linecolor": "white",
             "minorgridcolor": "white",
             "startlinecolor": "#2a3f5f"
            },
            "type": "carpet"
           }
          ],
          "choropleth": [
           {
            "colorbar": {
             "outlinewidth": 0,
             "ticks": ""
            },
            "type": "choropleth"
           }
          ],
          "contour": [
           {
            "colorbar": {
             "outlinewidth": 0,
             "ticks": ""
            },
            "colorscale": [
             [
              0,
              "#0d0887"
             ],
             [
              0.1111111111111111,
              "#46039f"
             ],
             [
              0.2222222222222222,
              "#7201a8"
             ],
             [
              0.3333333333333333,
              "#9c179e"
             ],
             [
              0.4444444444444444,
              "#bd3786"
             ],
             [
              0.5555555555555556,
              "#d8576b"
             ],
             [
              0.6666666666666666,
              "#ed7953"
             ],
             [
              0.7777777777777778,
              "#fb9f3a"
             ],
             [
              0.8888888888888888,
              "#fdca26"
             ],
             [
              1,
              "#f0f921"
             ]
            ],
            "type": "contour"
           }
          ],
          "contourcarpet": [
           {
            "colorbar": {
             "outlinewidth": 0,
             "ticks": ""
            },
            "type": "contourcarpet"
           }
          ],
          "heatmap": [
           {
            "colorbar": {
             "outlinewidth": 0,
             "ticks": ""
            },
            "colorscale": [
             [
              0,
              "#0d0887"
             ],
             [
              0.1111111111111111,
              "#46039f"
             ],
             [
              0.2222222222222222,
              "#7201a8"
             ],
             [
              0.3333333333333333,
              "#9c179e"
             ],
             [
              0.4444444444444444,
              "#bd3786"
             ],
             [
              0.5555555555555556,
              "#d8576b"
             ],
             [
              0.6666666666666666,
              "#ed7953"
             ],
             [
              0.7777777777777778,
              "#fb9f3a"
             ],
             [
              0.8888888888888888,
              "#fdca26"
             ],
             [
              1,
              "#f0f921"
             ]
            ],
            "type": "heatmap"
           }
          ],
          "heatmapgl": [
           {
            "colorbar": {
             "outlinewidth": 0,
             "ticks": ""
            },
            "colorscale": [
             [
              0,
              "#0d0887"
             ],
             [
              0.1111111111111111,
              "#46039f"
             ],
             [
              0.2222222222222222,
              "#7201a8"
             ],
             [
              0.3333333333333333,
              "#9c179e"
             ],
             [
              0.4444444444444444,
              "#bd3786"
             ],
             [
              0.5555555555555556,
              "#d8576b"
             ],
             [
              0.6666666666666666,
              "#ed7953"
             ],
             [
              0.7777777777777778,
              "#fb9f3a"
             ],
             [
              0.8888888888888888,
              "#fdca26"
             ],
             [
              1,
              "#f0f921"
             ]
            ],
            "type": "heatmapgl"
           }
          ],
          "histogram": [
           {
            "marker": {
             "pattern": {
              "fillmode": "overlay",
              "size": 10,
              "solidity": 0.2
             }
            },
            "type": "histogram"
           }
          ],
          "histogram2d": [
           {
            "colorbar": {
             "outlinewidth": 0,
             "ticks": ""
            },
            "colorscale": [
             [
              0,
              "#0d0887"
             ],
             [
              0.1111111111111111,
              "#46039f"
             ],
             [
              0.2222222222222222,
              "#7201a8"
             ],
             [
              0.3333333333333333,
              "#9c179e"
             ],
             [
              0.4444444444444444,
              "#bd3786"
             ],
             [
              0.5555555555555556,
              "#d8576b"
             ],
             [
              0.6666666666666666,
              "#ed7953"
             ],
             [
              0.7777777777777778,
              "#fb9f3a"
             ],
             [
              0.8888888888888888,
              "#fdca26"
             ],
             [
              1,
              "#f0f921"
             ]
            ],
            "type": "histogram2d"
           }
          ],
          "histogram2dcontour": [
           {
            "colorbar": {
             "outlinewidth": 0,
             "ticks": ""
            },
            "colorscale": [
             [
              0,
              "#0d0887"
             ],
             [
              0.1111111111111111,
              "#46039f"
             ],
             [
              0.2222222222222222,
              "#7201a8"
             ],
             [
              0.3333333333333333,
              "#9c179e"
             ],
             [
              0.4444444444444444,
              "#bd3786"
             ],
             [
              0.5555555555555556,
              "#d8576b"
             ],
             [
              0.6666666666666666,
              "#ed7953"
             ],
             [
              0.7777777777777778,
              "#fb9f3a"
             ],
             [
              0.8888888888888888,
              "#fdca26"
             ],
             [
              1,
              "#f0f921"
             ]
            ],
            "type": "histogram2dcontour"
           }
          ],
          "mesh3d": [
           {
            "colorbar": {
             "outlinewidth": 0,
             "ticks": ""
            },
            "type": "mesh3d"
           }
          ],
          "parcoords": [
           {
            "line": {
             "colorbar": {
              "outlinewidth": 0,
              "ticks": ""
             }
            },
            "type": "parcoords"
           }
          ],
          "pie": [
           {
            "automargin": true,
            "type": "pie"
           }
          ],
          "scatter": [
           {
            "fillpattern": {
             "fillmode": "overlay",
             "size": 10,
             "solidity": 0.2
            },
            "type": "scatter"
           }
          ],
          "scatter3d": [
           {
            "line": {
             "colorbar": {
              "outlinewidth": 0,
              "ticks": ""
             }
            },
            "marker": {
             "colorbar": {
              "outlinewidth": 0,
              "ticks": ""
             }
            },
            "type": "scatter3d"
           }
          ],
          "scattercarpet": [
           {
            "marker": {
             "colorbar": {
              "outlinewidth": 0,
              "ticks": ""
             }
            },
            "type": "scattercarpet"
           }
          ],
          "scattergeo": [
           {
            "marker": {
             "colorbar": {
              "outlinewidth": 0,
              "ticks": ""
             }
            },
            "type": "scattergeo"
           }
          ],
          "scattergl": [
           {
            "marker": {
             "colorbar": {
              "outlinewidth": 0,
              "ticks": ""
             }
            },
            "type": "scattergl"
           }
          ],
          "scattermapbox": [
           {
            "marker": {
             "colorbar": {
              "outlinewidth": 0,
              "ticks": ""
             }
            },
            "type": "scattermapbox"
           }
          ],
          "scatterpolar": [
           {
            "marker": {
             "colorbar": {
              "outlinewidth": 0,
              "ticks": ""
             }
            },
            "type": "scatterpolar"
           }
          ],
          "scatterpolargl": [
           {
            "marker": {
             "colorbar": {
              "outlinewidth": 0,
              "ticks": ""
             }
            },
            "type": "scatterpolargl"
           }
          ],
          "scatterternary": [
           {
            "marker": {
             "colorbar": {
              "outlinewidth": 0,
              "ticks": ""
             }
            },
            "type": "scatterternary"
           }
          ],
          "surface": [
           {
            "colorbar": {
             "outlinewidth": 0,
             "ticks": ""
            },
            "colorscale": [
             [
              0,
              "#0d0887"
             ],
             [
              0.1111111111111111,
              "#46039f"
             ],
             [
              0.2222222222222222,
              "#7201a8"
             ],
             [
              0.3333333333333333,
              "#9c179e"
             ],
             [
              0.4444444444444444,
              "#bd3786"
             ],
             [
              0.5555555555555556,
              "#d8576b"
             ],
             [
              0.6666666666666666,
              "#ed7953"
             ],
             [
              0.7777777777777778,
              "#fb9f3a"
             ],
             [
              0.8888888888888888,
              "#fdca26"
             ],
             [
              1,
              "#f0f921"
             ]
            ],
            "type": "surface"
           }
          ],
          "table": [
           {
            "cells": {
             "fill": {
              "color": "#EBF0F8"
             },
             "line": {
              "color": "white"
             }
            },
            "header": {
             "fill": {
              "color": "#C8D4E3"
             },
             "line": {
              "color": "white"
             }
            },
            "type": "table"
           }
          ]
         },
         "layout": {
          "annotationdefaults": {
           "arrowcolor": "#2a3f5f",
           "arrowhead": 0,
           "arrowwidth": 1
          },
          "autotypenumbers": "strict",
          "coloraxis": {
           "colorbar": {
            "outlinewidth": 0,
            "ticks": ""
           }
          },
          "colorscale": {
           "diverging": [
            [
             0,
             "#8e0152"
            ],
            [
             0.1,
             "#c51b7d"
            ],
            [
             0.2,
             "#de77ae"
            ],
            [
             0.3,
             "#f1b6da"
            ],
            [
             0.4,
             "#fde0ef"
            ],
            [
             0.5,
             "#f7f7f7"
            ],
            [
             0.6,
             "#e6f5d0"
            ],
            [
             0.7,
             "#b8e186"
            ],
            [
             0.8,
             "#7fbc41"
            ],
            [
             0.9,
             "#4d9221"
            ],
            [
             1,
             "#276419"
            ]
           ],
           "sequential": [
            [
             0,
             "#0d0887"
            ],
            [
             0.1111111111111111,
             "#46039f"
            ],
            [
             0.2222222222222222,
             "#7201a8"
            ],
            [
             0.3333333333333333,
             "#9c179e"
            ],
            [
             0.4444444444444444,
             "#bd3786"
            ],
            [
             0.5555555555555556,
             "#d8576b"
            ],
            [
             0.6666666666666666,
             "#ed7953"
            ],
            [
             0.7777777777777778,
             "#fb9f3a"
            ],
            [
             0.8888888888888888,
             "#fdca26"
            ],
            [
             1,
             "#f0f921"
            ]
           ],
           "sequentialminus": [
            [
             0,
             "#0d0887"
            ],
            [
             0.1111111111111111,
             "#46039f"
            ],
            [
             0.2222222222222222,
             "#7201a8"
            ],
            [
             0.3333333333333333,
             "#9c179e"
            ],
            [
             0.4444444444444444,
             "#bd3786"
            ],
            [
             0.5555555555555556,
             "#d8576b"
            ],
            [
             0.6666666666666666,
             "#ed7953"
            ],
            [
             0.7777777777777778,
             "#fb9f3a"
            ],
            [
             0.8888888888888888,
             "#fdca26"
            ],
            [
             1,
             "#f0f921"
            ]
           ]
          },
          "colorway": [
           "#636efa",
           "#EF553B",
           "#00cc96",
           "#ab63fa",
           "#FFA15A",
           "#19d3f3",
           "#FF6692",
           "#B6E880",
           "#FF97FF",
           "#FECB52"
          ],
          "font": {
           "color": "#2a3f5f"
          },
          "geo": {
           "bgcolor": "white",
           "lakecolor": "white",
           "landcolor": "#E5ECF6",
           "showlakes": true,
           "showland": true,
           "subunitcolor": "white"
          },
          "hoverlabel": {
           "align": "left"
          },
          "hovermode": "closest",
          "mapbox": {
           "style": "light"
          },
          "paper_bgcolor": "white",
          "plot_bgcolor": "#E5ECF6",
          "polar": {
           "angularaxis": {
            "gridcolor": "white",
            "linecolor": "white",
            "ticks": ""
           },
           "bgcolor": "#E5ECF6",
           "radialaxis": {
            "gridcolor": "white",
            "linecolor": "white",
            "ticks": ""
           }
          },
          "scene": {
           "xaxis": {
            "backgroundcolor": "#E5ECF6",
            "gridcolor": "white",
            "gridwidth": 2,
            "linecolor": "white",
            "showbackground": true,
            "ticks": "",
            "zerolinecolor": "white"
           },
           "yaxis": {
            "backgroundcolor": "#E5ECF6",
            "gridcolor": "white",
            "gridwidth": 2,
            "linecolor": "white",
            "showbackground": true,
            "ticks": "",
            "zerolinecolor": "white"
           },
           "zaxis": {
            "backgroundcolor": "#E5ECF6",
            "gridcolor": "white",
            "gridwidth": 2,
            "linecolor": "white",
            "showbackground": true,
            "ticks": "",
            "zerolinecolor": "white"
           }
          },
          "shapedefaults": {
           "line": {
            "color": "#2a3f5f"
           }
          },
          "ternary": {
           "aaxis": {
            "gridcolor": "white",
            "linecolor": "white",
            "ticks": ""
           },
           "baxis": {
            "gridcolor": "white",
            "linecolor": "white",
            "ticks": ""
           },
           "bgcolor": "#E5ECF6",
           "caxis": {
            "gridcolor": "white",
            "linecolor": "white",
            "ticks": ""
           }
          },
          "title": {
           "x": 0.05
          },
          "xaxis": {
           "automargin": true,
           "gridcolor": "white",
           "linecolor": "white",
           "ticks": "",
           "title": {
            "standoff": 15
           },
           "zerolinecolor": "white",
           "zerolinewidth": 2
          },
          "yaxis": {
           "automargin": true,
           "gridcolor": "white",
           "linecolor": "white",
           "ticks": "",
           "title": {
            "standoff": 15
           },
           "zerolinecolor": "white",
           "zerolinewidth": 2
          }
         }
        },
        "title": {
         "text": "PolyMarket Prediction of Hamas Ceasefire Before November 30th 2023"
        },
        "yaxis": {
         "range": [
          0,
          1
         ]
        }
       }
      }
     },
     "metadata": {},
     "output_type": "display_data"
    }
   ],
   "source": [
    "fig = plgo.Figure()\n",
    "fig.add_trace(plgo.Scatter(x=df_probs_grouped['day'], y=df_probs_grouped['prediction'], mode='lines+markers', name='PolyMarket Prediction %'))\n",
    "fig.add_trace(plgo.Scatter(x=df_probs_grouped['day'], y=df_probs_grouped['prediction_EMA'], mode='lines+markers', name='PolyMarket Prediction % EMA'))\n",
    "\n",
    "fig.update_yaxes(range=[0, 1])\n",
    "fig.update_layout(title='PolyMarket Prediction of Hamas Ceasefire Before November 30th 2023')\n",
    "fig.show()"
   ]
  },
  {
   "cell_type": "code",
   "execution_count": 10,
   "metadata": {},
   "outputs": [
    {
     "data": {
      "application/vnd.plotly.v1+json": {
       "config": {
        "plotlyServerURL": "https://plot.ly"
       },
       "data": [
        {
         "mode": "lines+markers",
         "name": "Brent Crude",
         "type": "scatter",
         "x": [
          "2023-10-27T00:00:00",
          "2023-10-30T00:00:00",
          "2023-10-31T00:00:00",
          "2023-11-01T00:00:00",
          "2023-11-02T00:00:00",
          "2023-11-03T00:00:00",
          "2023-11-06T00:00:00",
          "2023-11-07T00:00:00",
          "2023-11-08T00:00:00",
          "2023-11-09T00:00:00",
          "2023-11-10T00:00:00",
          "2023-11-13T00:00:00",
          "2023-11-14T00:00:00",
          "2023-11-15T00:00:00",
          "2023-11-16T00:00:00",
          "2023-11-17T00:00:00",
          "2023-11-20T00:00:00",
          "2023-11-21T00:00:00",
          "2023-11-22T00:00:00",
          "2023-11-23T00:00:00",
          "2023-11-24T00:00:00"
         ],
         "y": [
          1,
          0.7580645161290316,
          0.6451612903225801,
          0.612054329371816,
          0.8005093378607803,
          0.6341256366723258,
          0.6587436332767406,
          0.3556876061120541,
          0.17996604414261497,
          0.21986417657045867,
          0.34040747028862517,
          0.4329371816638365,
          0.42869269949066185,
          0.3191850594227508,
          0,
          0.27079796264855666,
          0.4159592529711368,
          0.4269949066213922,
          0.38539898132427775,
          0.3395585738539898,
          0.2597623089983024
         ]
        },
        {
         "mode": "lines+markers",
         "name": "Brent Crude EMA",
         "type": "scatter",
         "x": [
          "2023-10-27T00:00:00",
          "2023-10-30T00:00:00",
          "2023-10-31T00:00:00",
          "2023-11-01T00:00:00",
          "2023-11-02T00:00:00",
          "2023-11-03T00:00:00",
          "2023-11-06T00:00:00",
          "2023-11-07T00:00:00",
          "2023-11-08T00:00:00",
          "2023-11-09T00:00:00",
          "2023-11-10T00:00:00",
          "2023-11-13T00:00:00",
          "2023-11-14T00:00:00",
          "2023-11-15T00:00:00",
          "2023-11-16T00:00:00",
          "2023-11-17T00:00:00",
          "2023-11-20T00:00:00",
          "2023-11-21T00:00:00",
          "2023-11-22T00:00:00",
          "2023-11-23T00:00:00",
          "2023-11-24T00:00:00"
         ],
         "y": [
          1,
          0.8926301431018777,
          0.770944305284006,
          0.6751276961456819,
          0.6948854241986706,
          0.6342169202619549,
          0.6046966048306192,
          0.4505215211654147,
          0.2697537096766433,
          0.16694844333048486,
          0.15190815937877797,
          0.18294556447025417,
          0.20175348616460415,
          0.1656931127683545,
          0,
          0.009716817278994271,
          0.08061660960386285,
          0.13278071024035767,
          0.14909669667167677,
          0.13963025859957845,
          0.09790608392546574
         ]
        },
        {
         "mode": "lines+markers",
         "name": "Henry Hub",
         "type": "scatter",
         "x": [
          "2023-10-27T00:00:00",
          "2023-10-30T00:00:00",
          "2023-10-31T00:00:00",
          "2023-11-01T00:00:00",
          "2023-11-02T00:00:00",
          "2023-11-03T00:00:00",
          "2023-11-06T00:00:00",
          "2023-11-07T00:00:00",
          "2023-11-08T00:00:00",
          "2023-11-09T00:00:00",
          "2023-11-10T00:00:00",
          "2023-11-13T00:00:00",
          "2023-11-14T00:00:00",
          "2023-11-15T00:00:00",
          "2023-11-16T00:00:00",
          "2023-11-17T00:00:00",
          "2023-11-20T00:00:00",
          "2023-11-21T00:00:00",
          "2023-11-22T00:00:00",
          "2023-11-23T00:00:00",
          "2023-11-24T00:00:00"
         ],
         "y": [
          0.9253731343283584,
          0.873134328358209,
          1,
          0.8880597014925373,
          0.8358208955223883,
          0.746268656716418,
          0.5298507462686567,
          0,
          0.13432835820895536,
          0.5298507462686567,
          0.5298507462686567,
          0.4552238805970149,
          0.5149253731343284,
          0.6567164179104478,
          0.6791044776119405,
          0.4626865671641792,
          0.365671641791045,
          0.47014925373134325,
          0.5373134328358211,
          0.5373134328358211,
          0.5373134328358211
         ]
        },
        {
         "mode": "lines+markers",
         "name": "Henry Hub EMA",
         "type": "scatter",
         "x": [
          "2023-10-27T00:00:00",
          "2023-10-30T00:00:00",
          "2023-10-31T00:00:00",
          "2023-11-01T00:00:00",
          "2023-11-02T00:00:00",
          "2023-11-03T00:00:00",
          "2023-11-06T00:00:00",
          "2023-11-07T00:00:00",
          "2023-11-08T00:00:00",
          "2023-11-09T00:00:00",
          "2023-11-10T00:00:00",
          "2023-11-13T00:00:00",
          "2023-11-14T00:00:00",
          "2023-11-15T00:00:00",
          "2023-11-16T00:00:00",
          "2023-11-17T00:00:00",
          "2023-11-20T00:00:00",
          "2023-11-21T00:00:00",
          "2023-11-22T00:00:00",
          "2023-11-23T00:00:00",
          "2023-11-24T00:00:00"
         ],
         "y": [
          0.9765286369142716,
          0.9457224728642546,
          1,
          0.9701718094118876,
          0.9194801849697957,
          0.8328752017321805,
          0.6475130094617928,
          0.21147569353611864,
          0,
          0.0922628749736726,
          0.15377145828945393,
          0.1507683747142355,
          0.18397336362601466,
          0.28972675389343894,
          0.3734316558074435,
          0.30160938697146944,
          0.19651642689269236,
          0.18806678160687604,
          0.22204160995683064,
          0.24469149552346667,
          0.2597914192345575
         ]
        },
        {
         "mode": "lines+markers",
         "name": "WTI",
         "type": "scatter",
         "x": [
          "2023-10-27T00:00:00",
          "2023-10-30T00:00:00",
          "2023-10-31T00:00:00",
          "2023-11-01T00:00:00",
          "2023-11-02T00:00:00",
          "2023-11-03T00:00:00",
          "2023-11-06T00:00:00",
          "2023-11-07T00:00:00",
          "2023-11-08T00:00:00",
          "2023-11-09T00:00:00",
          "2023-11-10T00:00:00",
          "2023-11-13T00:00:00",
          "2023-11-14T00:00:00",
          "2023-11-15T00:00:00",
          "2023-11-16T00:00:00",
          "2023-11-17T00:00:00",
          "2023-11-20T00:00:00",
          "2023-11-21T00:00:00",
          "2023-11-22T00:00:00",
          "2023-11-23T00:00:00",
          "2023-11-24T00:00:00"
         ],
         "y": [
          1,
          0.759968102073365,
          0.6491228070175435,
          0.6020733652312594,
          0.7607655502392345,
          0.6132376395534286,
          0.6411483253588518,
          0.3556618819776708,
          0.1874003189792658,
          0.22647527910685822,
          0.42743221690590083,
          0.42743221690590083,
          0.43062200956937824,
          0.2910685805422651,
          0,
          0.2368421052631577,
          0.3668261562998399,
          0.3867623604465703,
          0.26315789473684176,
          0.10606060606060587,
          0.10606060606060587
         ]
        },
        {
         "mode": "lines+markers",
         "name": "WTI EMA",
         "type": "scatter",
         "x": [
          "2023-10-27T00:00:00",
          "2023-10-30T00:00:00",
          "2023-10-31T00:00:00",
          "2023-11-01T00:00:00",
          "2023-11-02T00:00:00",
          "2023-11-03T00:00:00",
          "2023-11-06T00:00:00",
          "2023-11-07T00:00:00",
          "2023-11-08T00:00:00",
          "2023-11-09T00:00:00",
          "2023-11-10T00:00:00",
          "2023-11-13T00:00:00",
          "2023-11-14T00:00:00",
          "2023-11-15T00:00:00",
          "2023-11-16T00:00:00",
          "2023-11-17T00:00:00",
          "2023-11-20T00:00:00",
          "2023-11-21T00:00:00",
          "2023-11-22T00:00:00",
          "2023-11-23T00:00:00",
          "2023-11-24T00:00:00"
         ],
         "y": [
          1,
          0.9009246037796574,
          0.78912191413566,
          0.6951666934305806,
          0.698031553540312,
          0.6390479443307521,
          0.6112459331003874,
          0.47487407673125426,
          0.3145079822221778,
          0.22372580542254,
          0.24615119757004558,
          0.26110145900171505,
          0.27238491651722924,
          0.22230524698086201,
          0.06877753942585792,
          0.06418451404846275,
          0.11477462199370755,
          0.15673021413054328,
          0.13368171714706176,
          0.053472686858824704,
          0
         ]
        }
       ],
       "layout": {
        "template": {
         "data": {
          "bar": [
           {
            "error_x": {
             "color": "#2a3f5f"
            },
            "error_y": {
             "color": "#2a3f5f"
            },
            "marker": {
             "line": {
              "color": "#E5ECF6",
              "width": 0.5
             },
             "pattern": {
              "fillmode": "overlay",
              "size": 10,
              "solidity": 0.2
             }
            },
            "type": "bar"
           }
          ],
          "barpolar": [
           {
            "marker": {
             "line": {
              "color": "#E5ECF6",
              "width": 0.5
             },
             "pattern": {
              "fillmode": "overlay",
              "size": 10,
              "solidity": 0.2
             }
            },
            "type": "barpolar"
           }
          ],
          "carpet": [
           {
            "aaxis": {
             "endlinecolor": "#2a3f5f",
             "gridcolor": "white",
             "linecolor": "white",
             "minorgridcolor": "white",
             "startlinecolor": "#2a3f5f"
            },
            "baxis": {
             "endlinecolor": "#2a3f5f",
             "gridcolor": "white",
             "linecolor": "white",
             "minorgridcolor": "white",
             "startlinecolor": "#2a3f5f"
            },
            "type": "carpet"
           }
          ],
          "choropleth": [
           {
            "colorbar": {
             "outlinewidth": 0,
             "ticks": ""
            },
            "type": "choropleth"
           }
          ],
          "contour": [
           {
            "colorbar": {
             "outlinewidth": 0,
             "ticks": ""
            },
            "colorscale": [
             [
              0,
              "#0d0887"
             ],
             [
              0.1111111111111111,
              "#46039f"
             ],
             [
              0.2222222222222222,
              "#7201a8"
             ],
             [
              0.3333333333333333,
              "#9c179e"
             ],
             [
              0.4444444444444444,
              "#bd3786"
             ],
             [
              0.5555555555555556,
              "#d8576b"
             ],
             [
              0.6666666666666666,
              "#ed7953"
             ],
             [
              0.7777777777777778,
              "#fb9f3a"
             ],
             [
              0.8888888888888888,
              "#fdca26"
             ],
             [
              1,
              "#f0f921"
             ]
            ],
            "type": "contour"
           }
          ],
          "contourcarpet": [
           {
            "colorbar": {
             "outlinewidth": 0,
             "ticks": ""
            },
            "type": "contourcarpet"
           }
          ],
          "heatmap": [
           {
            "colorbar": {
             "outlinewidth": 0,
             "ticks": ""
            },
            "colorscale": [
             [
              0,
              "#0d0887"
             ],
             [
              0.1111111111111111,
              "#46039f"
             ],
             [
              0.2222222222222222,
              "#7201a8"
             ],
             [
              0.3333333333333333,
              "#9c179e"
             ],
             [
              0.4444444444444444,
              "#bd3786"
             ],
             [
              0.5555555555555556,
              "#d8576b"
             ],
             [
              0.6666666666666666,
              "#ed7953"
             ],
             [
              0.7777777777777778,
              "#fb9f3a"
             ],
             [
              0.8888888888888888,
              "#fdca26"
             ],
             [
              1,
              "#f0f921"
             ]
            ],
            "type": "heatmap"
           }
          ],
          "heatmapgl": [
           {
            "colorbar": {
             "outlinewidth": 0,
             "ticks": ""
            },
            "colorscale": [
             [
              0,
              "#0d0887"
             ],
             [
              0.1111111111111111,
              "#46039f"
             ],
             [
              0.2222222222222222,
              "#7201a8"
             ],
             [
              0.3333333333333333,
              "#9c179e"
             ],
             [
              0.4444444444444444,
              "#bd3786"
             ],
             [
              0.5555555555555556,
              "#d8576b"
             ],
             [
              0.6666666666666666,
              "#ed7953"
             ],
             [
              0.7777777777777778,
              "#fb9f3a"
             ],
             [
              0.8888888888888888,
              "#fdca26"
             ],
             [
              1,
              "#f0f921"
             ]
            ],
            "type": "heatmapgl"
           }
          ],
          "histogram": [
           {
            "marker": {
             "pattern": {
              "fillmode": "overlay",
              "size": 10,
              "solidity": 0.2
             }
            },
            "type": "histogram"
           }
          ],
          "histogram2d": [
           {
            "colorbar": {
             "outlinewidth": 0,
             "ticks": ""
            },
            "colorscale": [
             [
              0,
              "#0d0887"
             ],
             [
              0.1111111111111111,
              "#46039f"
             ],
             [
              0.2222222222222222,
              "#7201a8"
             ],
             [
              0.3333333333333333,
              "#9c179e"
             ],
             [
              0.4444444444444444,
              "#bd3786"
             ],
             [
              0.5555555555555556,
              "#d8576b"
             ],
             [
              0.6666666666666666,
              "#ed7953"
             ],
             [
              0.7777777777777778,
              "#fb9f3a"
             ],
             [
              0.8888888888888888,
              "#fdca26"
             ],
             [
              1,
              "#f0f921"
             ]
            ],
            "type": "histogram2d"
           }
          ],
          "histogram2dcontour": [
           {
            "colorbar": {
             "outlinewidth": 0,
             "ticks": ""
            },
            "colorscale": [
             [
              0,
              "#0d0887"
             ],
             [
              0.1111111111111111,
              "#46039f"
             ],
             [
              0.2222222222222222,
              "#7201a8"
             ],
             [
              0.3333333333333333,
              "#9c179e"
             ],
             [
              0.4444444444444444,
              "#bd3786"
             ],
             [
              0.5555555555555556,
              "#d8576b"
             ],
             [
              0.6666666666666666,
              "#ed7953"
             ],
             [
              0.7777777777777778,
              "#fb9f3a"
             ],
             [
              0.8888888888888888,
              "#fdca26"
             ],
             [
              1,
              "#f0f921"
             ]
            ],
            "type": "histogram2dcontour"
           }
          ],
          "mesh3d": [
           {
            "colorbar": {
             "outlinewidth": 0,
             "ticks": ""
            },
            "type": "mesh3d"
           }
          ],
          "parcoords": [
           {
            "line": {
             "colorbar": {
              "outlinewidth": 0,
              "ticks": ""
             }
            },
            "type": "parcoords"
           }
          ],
          "pie": [
           {
            "automargin": true,
            "type": "pie"
           }
          ],
          "scatter": [
           {
            "fillpattern": {
             "fillmode": "overlay",
             "size": 10,
             "solidity": 0.2
            },
            "type": "scatter"
           }
          ],
          "scatter3d": [
           {
            "line": {
             "colorbar": {
              "outlinewidth": 0,
              "ticks": ""
             }
            },
            "marker": {
             "colorbar": {
              "outlinewidth": 0,
              "ticks": ""
             }
            },
            "type": "scatter3d"
           }
          ],
          "scattercarpet": [
           {
            "marker": {
             "colorbar": {
              "outlinewidth": 0,
              "ticks": ""
             }
            },
            "type": "scattercarpet"
           }
          ],
          "scattergeo": [
           {
            "marker": {
             "colorbar": {
              "outlinewidth": 0,
              "ticks": ""
             }
            },
            "type": "scattergeo"
           }
          ],
          "scattergl": [
           {
            "marker": {
             "colorbar": {
              "outlinewidth": 0,
              "ticks": ""
             }
            },
            "type": "scattergl"
           }
          ],
          "scattermapbox": [
           {
            "marker": {
             "colorbar": {
              "outlinewidth": 0,
              "ticks": ""
             }
            },
            "type": "scattermapbox"
           }
          ],
          "scatterpolar": [
           {
            "marker": {
             "colorbar": {
              "outlinewidth": 0,
              "ticks": ""
             }
            },
            "type": "scatterpolar"
           }
          ],
          "scatterpolargl": [
           {
            "marker": {
             "colorbar": {
              "outlinewidth": 0,
              "ticks": ""
             }
            },
            "type": "scatterpolargl"
           }
          ],
          "scatterternary": [
           {
            "marker": {
             "colorbar": {
              "outlinewidth": 0,
              "ticks": ""
             }
            },
            "type": "scatterternary"
           }
          ],
          "surface": [
           {
            "colorbar": {
             "outlinewidth": 0,
             "ticks": ""
            },
            "colorscale": [
             [
              0,
              "#0d0887"
             ],
             [
              0.1111111111111111,
              "#46039f"
             ],
             [
              0.2222222222222222,
              "#7201a8"
             ],
             [
              0.3333333333333333,
              "#9c179e"
             ],
             [
              0.4444444444444444,
              "#bd3786"
             ],
             [
              0.5555555555555556,
              "#d8576b"
             ],
             [
              0.6666666666666666,
              "#ed7953"
             ],
             [
              0.7777777777777778,
              "#fb9f3a"
             ],
             [
              0.8888888888888888,
              "#fdca26"
             ],
             [
              1,
              "#f0f921"
             ]
            ],
            "type": "surface"
           }
          ],
          "table": [
           {
            "cells": {
             "fill": {
              "color": "#EBF0F8"
             },
             "line": {
              "color": "white"
             }
            },
            "header": {
             "fill": {
              "color": "#C8D4E3"
             },
             "line": {
              "color": "white"
             }
            },
            "type": "table"
           }
          ]
         },
         "layout": {
          "annotationdefaults": {
           "arrowcolor": "#2a3f5f",
           "arrowhead": 0,
           "arrowwidth": 1
          },
          "autotypenumbers": "strict",
          "coloraxis": {
           "colorbar": {
            "outlinewidth": 0,
            "ticks": ""
           }
          },
          "colorscale": {
           "diverging": [
            [
             0,
             "#8e0152"
            ],
            [
             0.1,
             "#c51b7d"
            ],
            [
             0.2,
             "#de77ae"
            ],
            [
             0.3,
             "#f1b6da"
            ],
            [
             0.4,
             "#fde0ef"
            ],
            [
             0.5,
             "#f7f7f7"
            ],
            [
             0.6,
             "#e6f5d0"
            ],
            [
             0.7,
             "#b8e186"
            ],
            [
             0.8,
             "#7fbc41"
            ],
            [
             0.9,
             "#4d9221"
            ],
            [
             1,
             "#276419"
            ]
           ],
           "sequential": [
            [
             0,
             "#0d0887"
            ],
            [
             0.1111111111111111,
             "#46039f"
            ],
            [
             0.2222222222222222,
             "#7201a8"
            ],
            [
             0.3333333333333333,
             "#9c179e"
            ],
            [
             0.4444444444444444,
             "#bd3786"
            ],
            [
             0.5555555555555556,
             "#d8576b"
            ],
            [
             0.6666666666666666,
             "#ed7953"
            ],
            [
             0.7777777777777778,
             "#fb9f3a"
            ],
            [
             0.8888888888888888,
             "#fdca26"
            ],
            [
             1,
             "#f0f921"
            ]
           ],
           "sequentialminus": [
            [
             0,
             "#0d0887"
            ],
            [
             0.1111111111111111,
             "#46039f"
            ],
            [
             0.2222222222222222,
             "#7201a8"
            ],
            [
             0.3333333333333333,
             "#9c179e"
            ],
            [
             0.4444444444444444,
             "#bd3786"
            ],
            [
             0.5555555555555556,
             "#d8576b"
            ],
            [
             0.6666666666666666,
             "#ed7953"
            ],
            [
             0.7777777777777778,
             "#fb9f3a"
            ],
            [
             0.8888888888888888,
             "#fdca26"
            ],
            [
             1,
             "#f0f921"
            ]
           ]
          },
          "colorway": [
           "#636efa",
           "#EF553B",
           "#00cc96",
           "#ab63fa",
           "#FFA15A",
           "#19d3f3",
           "#FF6692",
           "#B6E880",
           "#FF97FF",
           "#FECB52"
          ],
          "font": {
           "color": "#2a3f5f"
          },
          "geo": {
           "bgcolor": "white",
           "lakecolor": "white",
           "landcolor": "#E5ECF6",
           "showlakes": true,
           "showland": true,
           "subunitcolor": "white"
          },
          "hoverlabel": {
           "align": "left"
          },
          "hovermode": "closest",
          "mapbox": {
           "style": "light"
          },
          "paper_bgcolor": "white",
          "plot_bgcolor": "#E5ECF6",
          "polar": {
           "angularaxis": {
            "gridcolor": "white",
            "linecolor": "white",
            "ticks": ""
           },
           "bgcolor": "#E5ECF6",
           "radialaxis": {
            "gridcolor": "white",
            "linecolor": "white",
            "ticks": ""
           }
          },
          "scene": {
           "xaxis": {
            "backgroundcolor": "#E5ECF6",
            "gridcolor": "white",
            "gridwidth": 2,
            "linecolor": "white",
            "showbackground": true,
            "ticks": "",
            "zerolinecolor": "white"
           },
           "yaxis": {
            "backgroundcolor": "#E5ECF6",
            "gridcolor": "white",
            "gridwidth": 2,
            "linecolor": "white",
            "showbackground": true,
            "ticks": "",
            "zerolinecolor": "white"
           },
           "zaxis": {
            "backgroundcolor": "#E5ECF6",
            "gridcolor": "white",
            "gridwidth": 2,
            "linecolor": "white",
            "showbackground": true,
            "ticks": "",
            "zerolinecolor": "white"
           }
          },
          "shapedefaults": {
           "line": {
            "color": "#2a3f5f"
           }
          },
          "ternary": {
           "aaxis": {
            "gridcolor": "white",
            "linecolor": "white",
            "ticks": ""
           },
           "baxis": {
            "gridcolor": "white",
            "linecolor": "white",
            "ticks": ""
           },
           "bgcolor": "#E5ECF6",
           "caxis": {
            "gridcolor": "white",
            "linecolor": "white",
            "ticks": ""
           }
          },
          "title": {
           "x": 0.05
          },
          "xaxis": {
           "automargin": true,
           "gridcolor": "white",
           "linecolor": "white",
           "ticks": "",
           "title": {
            "standoff": 15
           },
           "zerolinecolor": "white",
           "zerolinewidth": 2
          },
          "yaxis": {
           "automargin": true,
           "gridcolor": "white",
           "linecolor": "white",
           "ticks": "",
           "title": {
            "standoff": 15
           },
           "zerolinecolor": "white",
           "zerolinewidth": 2
          }
         }
        },
        "title": {
         "text": "Normalized Oil and Natural Gas Prices"
        }
       }
      }
     },
     "metadata": {},
     "output_type": "display_data"
    }
   ],
   "source": [
    "fig = plgo.Figure()\n",
    "normalize = lambda series: (series - series.min()) / (series.max() - series.min())\n",
    "for (df,name) in [(brent_df, 'Brent Crude'), (henry_df, 'Henry Hub'), (wti_df, 'WTI')]:\n",
    "    fig.add_trace(plgo.Scatter(x=df['Date'], y=normalize(df['Value']), mode='lines+markers', name=name))\n",
    "    fig.add_trace(plgo.Scatter(x=df['Date'], y=normalize(df['Value_EMA']), mode='lines+markers', name=name + ' EMA'))\n",
    "\n",
    "fig.update_layout(title='Normalized Oil and Natural Gas Prices')\n",
    "fig.show()"
   ]
  },
  {
   "cell_type": "code",
   "execution_count": 11,
   "metadata": {},
   "outputs": [
    {
     "data": {
      "application/vnd.plotly.v1+json": {
       "config": {
        "plotlyServerURL": "https://plot.ly"
       },
       "data": [
        {
         "mode": "lines+markers",
         "name": "Brent Crude EMA",
         "type": "scatter",
         "x": [
          "2023-10-27T00:00:00",
          "2023-10-30T00:00:00",
          "2023-10-31T00:00:00",
          "2023-11-01T00:00:00",
          "2023-11-02T00:00:00",
          "2023-11-03T00:00:00",
          "2023-11-06T00:00:00",
          "2023-11-07T00:00:00",
          "2023-11-08T00:00:00",
          "2023-11-09T00:00:00",
          "2023-11-10T00:00:00",
          "2023-11-13T00:00:00",
          "2023-11-14T00:00:00",
          "2023-11-15T00:00:00",
          "2023-11-16T00:00:00",
          "2023-11-17T00:00:00",
          "2023-11-20T00:00:00",
          "2023-11-21T00:00:00",
          "2023-11-22T00:00:00",
          "2023-11-23T00:00:00",
          "2023-11-24T00:00:00"
         ],
         "y": [
          1,
          0.8926301431018777,
          0.770944305284006,
          0.6751276961456819,
          0.6948854241986706,
          0.6342169202619549,
          0.6046966048306192,
          0.4505215211654147,
          0.2697537096766433,
          0.16694844333048486,
          0.15190815937877797,
          0.18294556447025417,
          0.20175348616460415,
          0.1656931127683545,
          0,
          0.009716817278994271,
          0.08061660960386285,
          0.13278071024035767,
          0.14909669667167677,
          0.13963025859957845,
          0.09790608392546574
         ]
        },
        {
         "mode": "lines+markers",
         "name": "Henry Hub EMA",
         "type": "scatter",
         "x": [
          "2023-10-27T00:00:00",
          "2023-10-30T00:00:00",
          "2023-10-31T00:00:00",
          "2023-11-01T00:00:00",
          "2023-11-02T00:00:00",
          "2023-11-03T00:00:00",
          "2023-11-06T00:00:00",
          "2023-11-07T00:00:00",
          "2023-11-08T00:00:00",
          "2023-11-09T00:00:00",
          "2023-11-10T00:00:00",
          "2023-11-13T00:00:00",
          "2023-11-14T00:00:00",
          "2023-11-15T00:00:00",
          "2023-11-16T00:00:00",
          "2023-11-17T00:00:00",
          "2023-11-20T00:00:00",
          "2023-11-21T00:00:00",
          "2023-11-22T00:00:00",
          "2023-11-23T00:00:00",
          "2023-11-24T00:00:00"
         ],
         "y": [
          0.9765286369142716,
          0.9457224728642546,
          1,
          0.9701718094118876,
          0.9194801849697957,
          0.8328752017321805,
          0.6475130094617928,
          0.21147569353611864,
          0,
          0.0922628749736726,
          0.15377145828945393,
          0.1507683747142355,
          0.18397336362601466,
          0.28972675389343894,
          0.3734316558074435,
          0.30160938697146944,
          0.19651642689269236,
          0.18806678160687604,
          0.22204160995683064,
          0.24469149552346667,
          0.2597914192345575
         ]
        },
        {
         "mode": "lines+markers",
         "name": "WTI EMA",
         "type": "scatter",
         "x": [
          "2023-10-27T00:00:00",
          "2023-10-30T00:00:00",
          "2023-10-31T00:00:00",
          "2023-11-01T00:00:00",
          "2023-11-02T00:00:00",
          "2023-11-03T00:00:00",
          "2023-11-06T00:00:00",
          "2023-11-07T00:00:00",
          "2023-11-08T00:00:00",
          "2023-11-09T00:00:00",
          "2023-11-10T00:00:00",
          "2023-11-13T00:00:00",
          "2023-11-14T00:00:00",
          "2023-11-15T00:00:00",
          "2023-11-16T00:00:00",
          "2023-11-17T00:00:00",
          "2023-11-20T00:00:00",
          "2023-11-21T00:00:00",
          "2023-11-22T00:00:00",
          "2023-11-23T00:00:00",
          "2023-11-24T00:00:00"
         ],
         "y": [
          1,
          0.9009246037796574,
          0.78912191413566,
          0.6951666934305806,
          0.698031553540312,
          0.6390479443307521,
          0.6112459331003874,
          0.47487407673125426,
          0.3145079822221778,
          0.22372580542254,
          0.24615119757004558,
          0.26110145900171505,
          0.27238491651722924,
          0.22230524698086201,
          0.06877753942585792,
          0.06418451404846275,
          0.11477462199370755,
          0.15673021413054328,
          0.13368171714706176,
          0.053472686858824704,
          0
         ]
        },
        {
         "mode": "lines+markers",
         "name": "Manifold Prediction % EMA",
         "type": "scatter",
         "x": [
          "2023-10-27T00:00:00",
          "2023-10-30T00:00:00",
          "2023-10-31T00:00:00",
          "2023-11-01T00:00:00",
          "2023-11-02T00:00:00",
          "2023-11-03T00:00:00",
          "2023-11-06T00:00:00",
          "2023-11-07T00:00:00",
          "2023-11-08T00:00:00",
          "2023-11-09T00:00:00",
          "2023-11-10T00:00:00",
          "2023-11-13T00:00:00",
          "2023-11-14T00:00:00",
          "2023-11-15T00:00:00",
          "2023-11-16T00:00:00",
          "2023-11-17T00:00:00",
          "2023-11-20T00:00:00",
          "2023-11-21T00:00:00",
          "2023-11-22T00:00:00",
          "2023-11-23T00:00:00",
          "2023-11-24T00:00:00"
         ],
         "y": [
          0.12398645416334493,
          0.11459655658231956,
          0.08839917109370539,
          0.043279069627499694,
          0.015771576663095522,
          0.0012921100397588878,
          0,
          0.012644610375425552,
          0.028792074664908227,
          0.0601376482957605,
          0.061740387284997984,
          0.07052660398368861,
          0.12912186271734186,
          0.20291512671617268,
          0.2476086303591938,
          0.23174109888928077,
          0.3375717488339229,
          0.5528328411986646,
          0.7651566087913495,
          0.8944860574577413,
          1
         ]
        }
       ],
       "layout": {
        "template": {
         "data": {
          "bar": [
           {
            "error_x": {
             "color": "#2a3f5f"
            },
            "error_y": {
             "color": "#2a3f5f"
            },
            "marker": {
             "line": {
              "color": "#E5ECF6",
              "width": 0.5
             },
             "pattern": {
              "fillmode": "overlay",
              "size": 10,
              "solidity": 0.2
             }
            },
            "type": "bar"
           }
          ],
          "barpolar": [
           {
            "marker": {
             "line": {
              "color": "#E5ECF6",
              "width": 0.5
             },
             "pattern": {
              "fillmode": "overlay",
              "size": 10,
              "solidity": 0.2
             }
            },
            "type": "barpolar"
           }
          ],
          "carpet": [
           {
            "aaxis": {
             "endlinecolor": "#2a3f5f",
             "gridcolor": "white",
             "linecolor": "white",
             "minorgridcolor": "white",
             "startlinecolor": "#2a3f5f"
            },
            "baxis": {
             "endlinecolor": "#2a3f5f",
             "gridcolor": "white",
             "linecolor": "white",
             "minorgridcolor": "white",
             "startlinecolor": "#2a3f5f"
            },
            "type": "carpet"
           }
          ],
          "choropleth": [
           {
            "colorbar": {
             "outlinewidth": 0,
             "ticks": ""
            },
            "type": "choropleth"
           }
          ],
          "contour": [
           {
            "colorbar": {
             "outlinewidth": 0,
             "ticks": ""
            },
            "colorscale": [
             [
              0,
              "#0d0887"
             ],
             [
              0.1111111111111111,
              "#46039f"
             ],
             [
              0.2222222222222222,
              "#7201a8"
             ],
             [
              0.3333333333333333,
              "#9c179e"
             ],
             [
              0.4444444444444444,
              "#bd3786"
             ],
             [
              0.5555555555555556,
              "#d8576b"
             ],
             [
              0.6666666666666666,
              "#ed7953"
             ],
             [
              0.7777777777777778,
              "#fb9f3a"
             ],
             [
              0.8888888888888888,
              "#fdca26"
             ],
             [
              1,
              "#f0f921"
             ]
            ],
            "type": "contour"
           }
          ],
          "contourcarpet": [
           {
            "colorbar": {
             "outlinewidth": 0,
             "ticks": ""
            },
            "type": "contourcarpet"
           }
          ],
          "heatmap": [
           {
            "colorbar": {
             "outlinewidth": 0,
             "ticks": ""
            },
            "colorscale": [
             [
              0,
              "#0d0887"
             ],
             [
              0.1111111111111111,
              "#46039f"
             ],
             [
              0.2222222222222222,
              "#7201a8"
             ],
             [
              0.3333333333333333,
              "#9c179e"
             ],
             [
              0.4444444444444444,
              "#bd3786"
             ],
             [
              0.5555555555555556,
              "#d8576b"
             ],
             [
              0.6666666666666666,
              "#ed7953"
             ],
             [
              0.7777777777777778,
              "#fb9f3a"
             ],
             [
              0.8888888888888888,
              "#fdca26"
             ],
             [
              1,
              "#f0f921"
             ]
            ],
            "type": "heatmap"
           }
          ],
          "heatmapgl": [
           {
            "colorbar": {
             "outlinewidth": 0,
             "ticks": ""
            },
            "colorscale": [
             [
              0,
              "#0d0887"
             ],
             [
              0.1111111111111111,
              "#46039f"
             ],
             [
              0.2222222222222222,
              "#7201a8"
             ],
             [
              0.3333333333333333,
              "#9c179e"
             ],
             [
              0.4444444444444444,
              "#bd3786"
             ],
             [
              0.5555555555555556,
              "#d8576b"
             ],
             [
              0.6666666666666666,
              "#ed7953"
             ],
             [
              0.7777777777777778,
              "#fb9f3a"
             ],
             [
              0.8888888888888888,
              "#fdca26"
             ],
             [
              1,
              "#f0f921"
             ]
            ],
            "type": "heatmapgl"
           }
          ],
          "histogram": [
           {
            "marker": {
             "pattern": {
              "fillmode": "overlay",
              "size": 10,
              "solidity": 0.2
             }
            },
            "type": "histogram"
           }
          ],
          "histogram2d": [
           {
            "colorbar": {
             "outlinewidth": 0,
             "ticks": ""
            },
            "colorscale": [
             [
              0,
              "#0d0887"
             ],
             [
              0.1111111111111111,
              "#46039f"
             ],
             [
              0.2222222222222222,
              "#7201a8"
             ],
             [
              0.3333333333333333,
              "#9c179e"
             ],
             [
              0.4444444444444444,
              "#bd3786"
             ],
             [
              0.5555555555555556,
              "#d8576b"
             ],
             [
              0.6666666666666666,
              "#ed7953"
             ],
             [
              0.7777777777777778,
              "#fb9f3a"
             ],
             [
              0.8888888888888888,
              "#fdca26"
             ],
             [
              1,
              "#f0f921"
             ]
            ],
            "type": "histogram2d"
           }
          ],
          "histogram2dcontour": [
           {
            "colorbar": {
             "outlinewidth": 0,
             "ticks": ""
            },
            "colorscale": [
             [
              0,
              "#0d0887"
             ],
             [
              0.1111111111111111,
              "#46039f"
             ],
             [
              0.2222222222222222,
              "#7201a8"
             ],
             [
              0.3333333333333333,
              "#9c179e"
             ],
             [
              0.4444444444444444,
              "#bd3786"
             ],
             [
              0.5555555555555556,
              "#d8576b"
             ],
             [
              0.6666666666666666,
              "#ed7953"
             ],
             [
              0.7777777777777778,
              "#fb9f3a"
             ],
             [
              0.8888888888888888,
              "#fdca26"
             ],
             [
              1,
              "#f0f921"
             ]
            ],
            "type": "histogram2dcontour"
           }
          ],
          "mesh3d": [
           {
            "colorbar": {
             "outlinewidth": 0,
             "ticks": ""
            },
            "type": "mesh3d"
           }
          ],
          "parcoords": [
           {
            "line": {
             "colorbar": {
              "outlinewidth": 0,
              "ticks": ""
             }
            },
            "type": "parcoords"
           }
          ],
          "pie": [
           {
            "automargin": true,
            "type": "pie"
           }
          ],
          "scatter": [
           {
            "fillpattern": {
             "fillmode": "overlay",
             "size": 10,
             "solidity": 0.2
            },
            "type": "scatter"
           }
          ],
          "scatter3d": [
           {
            "line": {
             "colorbar": {
              "outlinewidth": 0,
              "ticks": ""
             }
            },
            "marker": {
             "colorbar": {
              "outlinewidth": 0,
              "ticks": ""
             }
            },
            "type": "scatter3d"
           }
          ],
          "scattercarpet": [
           {
            "marker": {
             "colorbar": {
              "outlinewidth": 0,
              "ticks": ""
             }
            },
            "type": "scattercarpet"
           }
          ],
          "scattergeo": [
           {
            "marker": {
             "colorbar": {
              "outlinewidth": 0,
              "ticks": ""
             }
            },
            "type": "scattergeo"
           }
          ],
          "scattergl": [
           {
            "marker": {
             "colorbar": {
              "outlinewidth": 0,
              "ticks": ""
             }
            },
            "type": "scattergl"
           }
          ],
          "scattermapbox": [
           {
            "marker": {
             "colorbar": {
              "outlinewidth": 0,
              "ticks": ""
             }
            },
            "type": "scattermapbox"
           }
          ],
          "scatterpolar": [
           {
            "marker": {
             "colorbar": {
              "outlinewidth": 0,
              "ticks": ""
             }
            },
            "type": "scatterpolar"
           }
          ],
          "scatterpolargl": [
           {
            "marker": {
             "colorbar": {
              "outlinewidth": 0,
              "ticks": ""
             }
            },
            "type": "scatterpolargl"
           }
          ],
          "scatterternary": [
           {
            "marker": {
             "colorbar": {
              "outlinewidth": 0,
              "ticks": ""
             }
            },
            "type": "scatterternary"
           }
          ],
          "surface": [
           {
            "colorbar": {
             "outlinewidth": 0,
             "ticks": ""
            },
            "colorscale": [
             [
              0,
              "#0d0887"
             ],
             [
              0.1111111111111111,
              "#46039f"
             ],
             [
              0.2222222222222222,
              "#7201a8"
             ],
             [
              0.3333333333333333,
              "#9c179e"
             ],
             [
              0.4444444444444444,
              "#bd3786"
             ],
             [
              0.5555555555555556,
              "#d8576b"
             ],
             [
              0.6666666666666666,
              "#ed7953"
             ],
             [
              0.7777777777777778,
              "#fb9f3a"
             ],
             [
              0.8888888888888888,
              "#fdca26"
             ],
             [
              1,
              "#f0f921"
             ]
            ],
            "type": "surface"
           }
          ],
          "table": [
           {
            "cells": {
             "fill": {
              "color": "#EBF0F8"
             },
             "line": {
              "color": "white"
             }
            },
            "header": {
             "fill": {
              "color": "#C8D4E3"
             },
             "line": {
              "color": "white"
             }
            },
            "type": "table"
           }
          ]
         },
         "layout": {
          "annotationdefaults": {
           "arrowcolor": "#2a3f5f",
           "arrowhead": 0,
           "arrowwidth": 1
          },
          "autotypenumbers": "strict",
          "coloraxis": {
           "colorbar": {
            "outlinewidth": 0,
            "ticks": ""
           }
          },
          "colorscale": {
           "diverging": [
            [
             0,
             "#8e0152"
            ],
            [
             0.1,
             "#c51b7d"
            ],
            [
             0.2,
             "#de77ae"
            ],
            [
             0.3,
             "#f1b6da"
            ],
            [
             0.4,
             "#fde0ef"
            ],
            [
             0.5,
             "#f7f7f7"
            ],
            [
             0.6,
             "#e6f5d0"
            ],
            [
             0.7,
             "#b8e186"
            ],
            [
             0.8,
             "#7fbc41"
            ],
            [
             0.9,
             "#4d9221"
            ],
            [
             1,
             "#276419"
            ]
           ],
           "sequential": [
            [
             0,
             "#0d0887"
            ],
            [
             0.1111111111111111,
             "#46039f"
            ],
            [
             0.2222222222222222,
             "#7201a8"
            ],
            [
             0.3333333333333333,
             "#9c179e"
            ],
            [
             0.4444444444444444,
             "#bd3786"
            ],
            [
             0.5555555555555556,
             "#d8576b"
            ],
            [
             0.6666666666666666,
             "#ed7953"
            ],
            [
             0.7777777777777778,
             "#fb9f3a"
            ],
            [
             0.8888888888888888,
             "#fdca26"
            ],
            [
             1,
             "#f0f921"
            ]
           ],
           "sequentialminus": [
            [
             0,
             "#0d0887"
            ],
            [
             0.1111111111111111,
             "#46039f"
            ],
            [
             0.2222222222222222,
             "#7201a8"
            ],
            [
             0.3333333333333333,
             "#9c179e"
            ],
            [
             0.4444444444444444,
             "#bd3786"
            ],
            [
             0.5555555555555556,
             "#d8576b"
            ],
            [
             0.6666666666666666,
             "#ed7953"
            ],
            [
             0.7777777777777778,
             "#fb9f3a"
            ],
            [
             0.8888888888888888,
             "#fdca26"
            ],
            [
             1,
             "#f0f921"
            ]
           ]
          },
          "colorway": [
           "#636efa",
           "#EF553B",
           "#00cc96",
           "#ab63fa",
           "#FFA15A",
           "#19d3f3",
           "#FF6692",
           "#B6E880",
           "#FF97FF",
           "#FECB52"
          ],
          "font": {
           "color": "#2a3f5f"
          },
          "geo": {
           "bgcolor": "white",
           "lakecolor": "white",
           "landcolor": "#E5ECF6",
           "showlakes": true,
           "showland": true,
           "subunitcolor": "white"
          },
          "hoverlabel": {
           "align": "left"
          },
          "hovermode": "closest",
          "mapbox": {
           "style": "light"
          },
          "paper_bgcolor": "white",
          "plot_bgcolor": "#E5ECF6",
          "polar": {
           "angularaxis": {
            "gridcolor": "white",
            "linecolor": "white",
            "ticks": ""
           },
           "bgcolor": "#E5ECF6",
           "radialaxis": {
            "gridcolor": "white",
            "linecolor": "white",
            "ticks": ""
           }
          },
          "scene": {
           "xaxis": {
            "backgroundcolor": "#E5ECF6",
            "gridcolor": "white",
            "gridwidth": 2,
            "linecolor": "white",
            "showbackground": true,
            "ticks": "",
            "zerolinecolor": "white"
           },
           "yaxis": {
            "backgroundcolor": "#E5ECF6",
            "gridcolor": "white",
            "gridwidth": 2,
            "linecolor": "white",
            "showbackground": true,
            "ticks": "",
            "zerolinecolor": "white"
           },
           "zaxis": {
            "backgroundcolor": "#E5ECF6",
            "gridcolor": "white",
            "gridwidth": 2,
            "linecolor": "white",
            "showbackground": true,
            "ticks": "",
            "zerolinecolor": "white"
           }
          },
          "shapedefaults": {
           "line": {
            "color": "#2a3f5f"
           }
          },
          "ternary": {
           "aaxis": {
            "gridcolor": "white",
            "linecolor": "white",
            "ticks": ""
           },
           "baxis": {
            "gridcolor": "white",
            "linecolor": "white",
            "ticks": ""
           },
           "bgcolor": "#E5ECF6",
           "caxis": {
            "gridcolor": "white",
            "linecolor": "white",
            "ticks": ""
           }
          },
          "title": {
           "x": 0.05
          },
          "xaxis": {
           "automargin": true,
           "gridcolor": "white",
           "linecolor": "white",
           "ticks": "",
           "title": {
            "standoff": 15
           },
           "zerolinecolor": "white",
           "zerolinewidth": 2
          },
          "yaxis": {
           "automargin": true,
           "gridcolor": "white",
           "linecolor": "white",
           "ticks": "",
           "title": {
            "standoff": 15
           },
           "zerolinecolor": "white",
           "zerolinewidth": 2
          }
         }
        },
        "title": {
         "text": "Normalized Oil and Natural Gas EMA Prices with PolyMarket Prediction % EMA"
        }
       }
      }
     },
     "metadata": {},
     "output_type": "display_data"
    }
   ],
   "source": [
    "fig = plgo.Figure()\n",
    "for (df,name) in [(brent_df, 'Brent Crude'), (henry_df, 'Henry Hub'), (wti_df, 'WTI')]:\n",
    "    fig.add_trace(plgo.Scatter(x=df['Date'], y=normalize(df['Value_EMA']), mode='lines+markers', name=name + ' EMA'))\n",
    "\n",
    "fig.add_trace(plgo.Scatter(x=df_probs_grouped['day'], y=normalize(df_probs_grouped['prediction_EMA']), mode='lines+markers', name='Manifold Prediction % EMA'))\n",
    "fig.update_layout(title='Normalized Oil and Natural Gas EMA Prices with PolyMarket Prediction % EMA')\n",
    "fig.show()"
   ]
  },
  {
   "cell_type": "code",
   "execution_count": 12,
   "metadata": {},
   "outputs": [
    {
     "name": "stdout",
     "output_type": "stream",
     "text": [
      "Brent Crude EMA correlation coefficient with PolyMarket Prediction % EMA: -0.4708552071353263\n",
      "WTI EMA correlation coefficient with PolyMarket Prediction % EMA: -0.587828188873307\n",
      "Henry Hub EMA correlation coefficient with PolyMarket Prediction % EMA: -0.3317747300454457\n"
     ]
    }
   ],
   "source": [
    "for (df, name) in [(brent_df, 'Brent Crude'), (wti_df, 'WTI'), (henry_df, 'Henry Hub')]:\n",
    "    print(f'{name} EMA correlation coefficient with PolyMarket Prediction % EMA: {np.corrcoef(df[\"Value_EMA\"], df_probs_grouped[\"prediction_EMA\"])[0, 1]}')"
   ]
  },
  {
   "attachments": {},
   "cell_type": "markdown",
   "metadata": {},
   "source": [
    "Visualization"
   ]
  },
  {
   "cell_type": "code",
   "execution_count": 61,
   "metadata": {},
   "outputs": [],
   "source": [
    "brent_df['pctchange'] = brent_df['Value_EMA'].pct_change().dropna()\n",
    "wti_df['pctchange'] = wti_df['Value_EMA'].pct_change().dropna()\n",
    "henry_df['pctchange'] = henry_df['Value_EMA'].pct_change().dropna()\n",
    "df_probs_grouped['pctchange'] = df_probs_grouped['prediction_EMA'].pct_change().dropna()"
   ]
  },
  {
   "cell_type": "code",
   "execution_count": 69,
   "metadata": {},
   "outputs": [
    {
     "data": {
      "application/vnd.plotly.v1+json": {
       "config": {
        "plotlyServerURL": "https://plot.ly"
       },
       "data": [
        {
         "box": {
          "visible": true
         },
         "meanline": {
          "visible": true
         },
         "name": "Brent Crude Front Month Future Prices",
         "type": "violin",
         "xaxis": "x",
         "y": [
          null,
          -0.01065022421524664,
          -0.012200188857412697,
          -0.009725196288365434,
          0.002025064463122117,
          -0.006205639596205126,
          -0.0030384194665652453,
          -0.015917047286491126,
          -0.018964338793578173,
          -0.010993783323231088,
          -0.0016262556734658595,
          0.0033614375133421692,
          0.0020301262194006853,
          -0.0038844691153726574,
          -0.01791827504790522,
          0.0010699614939522206,
          0.007798743658969487,
          0.005693477306118577,
          0.0017707350014042333,
          -0.0010255539087218324,
          -0.004524861305023831
         ],
         "yaxis": "y"
        },
        {
         "box": {
          "visible": true
         },
         "meanline": {
          "visible": true
         },
         "name": "West Texas Intermediary Crude Oil",
         "type": "violin",
         "xaxis": "x2",
         "y": [
          null,
          -0.011661242832790908,
          -0.013314517920374302,
          -0.011340060562721188,
          0.0003497445376601238,
          -0.007198251194418748,
          -0.003417506390861913,
          -0.016820721467894595,
          -0.020118690191267885,
          -0.011622893767081255,
          0.0029048990538427244,
          0.0019309900380937162,
          0.0014545733772364233,
          -0.006446494799918212,
          -0.01989104901549843,
          -0.0006071491787749128,
          0.006691537785052493,
          0.005512565533973612,
          -0.0030117506882408884,
          -0.01051258776542674,
          -0.007082850935708929
         ],
         "yaxis": "y2"
        },
        {
         "box": {
          "visible": true
         },
         "meanline": {
          "visible": true
         },
         "name": "Henry Hub Natural Gas Spot Price",
         "type": "violin",
         "xaxis": "x3",
         "y": [
          null,
          -0.007201646090534863,
          0.012780656303972515,
          -0.006934970441109578,
          -0.011867964128982944,
          -0.02051955407945205,
          -0.04483843269197074,
          -0.11042720616676371,
          -0.06020483806472832,
          0.027948899571386132,
          0.01812599801607484,
          -0.0008692247726946878,
          0.009619348955091755,
          0.030344429305125376,
          0.02331058321966384,
          -0.019545820324005758,
          -0.02917031402349546,
          -0.002415810751671299,
          0.009737156402572555,
          0.006428838990973018,
          0.004258515351115655
         ],
         "yaxis": "y3"
        },
        {
         "box": {
          "visible": true
         },
         "meanline": {
          "visible": true
         },
         "name": "Polymarket Prediction Values",
         "type": "violin",
         "xaxis": "x4",
         "y": [
          null,
          -0.0286949685534591,
          -0.08242277080803984,
          -0.15470939919631477,
          -0.1115813477109785,
          -0.06611126820815116,
          -0.0063172387377944395,
          0.06221362183410495,
          0.07479498845843802,
          0.13508861712637787,
          0.0060852099603869725,
          0.033157357442836766,
          0.21402968105006992,
          0.22202349952262979,
          0.11003910955452678,
          -0.03519441524747047,
          0.24329660015002386,
          0.39802960037436175,
          0.28082261290893107,
          0.13354938846591113,
          0.09612002638581929
         ],
         "yaxis": "y4"
        }
       ],
       "layout": {
        "template": {
         "data": {
          "bar": [
           {
            "error_x": {
             "color": "#2a3f5f"
            },
            "error_y": {
             "color": "#2a3f5f"
            },
            "marker": {
             "line": {
              "color": "#E5ECF6",
              "width": 0.5
             },
             "pattern": {
              "fillmode": "overlay",
              "size": 10,
              "solidity": 0.2
             }
            },
            "type": "bar"
           }
          ],
          "barpolar": [
           {
            "marker": {
             "line": {
              "color": "#E5ECF6",
              "width": 0.5
             },
             "pattern": {
              "fillmode": "overlay",
              "size": 10,
              "solidity": 0.2
             }
            },
            "type": "barpolar"
           }
          ],
          "carpet": [
           {
            "aaxis": {
             "endlinecolor": "#2a3f5f",
             "gridcolor": "white",
             "linecolor": "white",
             "minorgridcolor": "white",
             "startlinecolor": "#2a3f5f"
            },
            "baxis": {
             "endlinecolor": "#2a3f5f",
             "gridcolor": "white",
             "linecolor": "white",
             "minorgridcolor": "white",
             "startlinecolor": "#2a3f5f"
            },
            "type": "carpet"
           }
          ],
          "choropleth": [
           {
            "colorbar": {
             "outlinewidth": 0,
             "ticks": ""
            },
            "type": "choropleth"
           }
          ],
          "contour": [
           {
            "colorbar": {
             "outlinewidth": 0,
             "ticks": ""
            },
            "colorscale": [
             [
              0,
              "#0d0887"
             ],
             [
              0.1111111111111111,
              "#46039f"
             ],
             [
              0.2222222222222222,
              "#7201a8"
             ],
             [
              0.3333333333333333,
              "#9c179e"
             ],
             [
              0.4444444444444444,
              "#bd3786"
             ],
             [
              0.5555555555555556,
              "#d8576b"
             ],
             [
              0.6666666666666666,
              "#ed7953"
             ],
             [
              0.7777777777777778,
              "#fb9f3a"
             ],
             [
              0.8888888888888888,
              "#fdca26"
             ],
             [
              1,
              "#f0f921"
             ]
            ],
            "type": "contour"
           }
          ],
          "contourcarpet": [
           {
            "colorbar": {
             "outlinewidth": 0,
             "ticks": ""
            },
            "type": "contourcarpet"
           }
          ],
          "heatmap": [
           {
            "colorbar": {
             "outlinewidth": 0,
             "ticks": ""
            },
            "colorscale": [
             [
              0,
              "#0d0887"
             ],
             [
              0.1111111111111111,
              "#46039f"
             ],
             [
              0.2222222222222222,
              "#7201a8"
             ],
             [
              0.3333333333333333,
              "#9c179e"
             ],
             [
              0.4444444444444444,
              "#bd3786"
             ],
             [
              0.5555555555555556,
              "#d8576b"
             ],
             [
              0.6666666666666666,
              "#ed7953"
             ],
             [
              0.7777777777777778,
              "#fb9f3a"
             ],
             [
              0.8888888888888888,
              "#fdca26"
             ],
             [
              1,
              "#f0f921"
             ]
            ],
            "type": "heatmap"
           }
          ],
          "heatmapgl": [
           {
            "colorbar": {
             "outlinewidth": 0,
             "ticks": ""
            },
            "colorscale": [
             [
              0,
              "#0d0887"
             ],
             [
              0.1111111111111111,
              "#46039f"
             ],
             [
              0.2222222222222222,
              "#7201a8"
             ],
             [
              0.3333333333333333,
              "#9c179e"
             ],
             [
              0.4444444444444444,
              "#bd3786"
             ],
             [
              0.5555555555555556,
              "#d8576b"
             ],
             [
              0.6666666666666666,
              "#ed7953"
             ],
             [
              0.7777777777777778,
              "#fb9f3a"
             ],
             [
              0.8888888888888888,
              "#fdca26"
             ],
             [
              1,
              "#f0f921"
             ]
            ],
            "type": "heatmapgl"
           }
          ],
          "histogram": [
           {
            "marker": {
             "pattern": {
              "fillmode": "overlay",
              "size": 10,
              "solidity": 0.2
             }
            },
            "type": "histogram"
           }
          ],
          "histogram2d": [
           {
            "colorbar": {
             "outlinewidth": 0,
             "ticks": ""
            },
            "colorscale": [
             [
              0,
              "#0d0887"
             ],
             [
              0.1111111111111111,
              "#46039f"
             ],
             [
              0.2222222222222222,
              "#7201a8"
             ],
             [
              0.3333333333333333,
              "#9c179e"
             ],
             [
              0.4444444444444444,
              "#bd3786"
             ],
             [
              0.5555555555555556,
              "#d8576b"
             ],
             [
              0.6666666666666666,
              "#ed7953"
             ],
             [
              0.7777777777777778,
              "#fb9f3a"
             ],
             [
              0.8888888888888888,
              "#fdca26"
             ],
             [
              1,
              "#f0f921"
             ]
            ],
            "type": "histogram2d"
           }
          ],
          "histogram2dcontour": [
           {
            "colorbar": {
             "outlinewidth": 0,
             "ticks": ""
            },
            "colorscale": [
             [
              0,
              "#0d0887"
             ],
             [
              0.1111111111111111,
              "#46039f"
             ],
             [
              0.2222222222222222,
              "#7201a8"
             ],
             [
              0.3333333333333333,
              "#9c179e"
             ],
             [
              0.4444444444444444,
              "#bd3786"
             ],
             [
              0.5555555555555556,
              "#d8576b"
             ],
             [
              0.6666666666666666,
              "#ed7953"
             ],
             [
              0.7777777777777778,
              "#fb9f3a"
             ],
             [
              0.8888888888888888,
              "#fdca26"
             ],
             [
              1,
              "#f0f921"
             ]
            ],
            "type": "histogram2dcontour"
           }
          ],
          "mesh3d": [
           {
            "colorbar": {
             "outlinewidth": 0,
             "ticks": ""
            },
            "type": "mesh3d"
           }
          ],
          "parcoords": [
           {
            "line": {
             "colorbar": {
              "outlinewidth": 0,
              "ticks": ""
             }
            },
            "type": "parcoords"
           }
          ],
          "pie": [
           {
            "automargin": true,
            "type": "pie"
           }
          ],
          "scatter": [
           {
            "fillpattern": {
             "fillmode": "overlay",
             "size": 10,
             "solidity": 0.2
            },
            "type": "scatter"
           }
          ],
          "scatter3d": [
           {
            "line": {
             "colorbar": {
              "outlinewidth": 0,
              "ticks": ""
             }
            },
            "marker": {
             "colorbar": {
              "outlinewidth": 0,
              "ticks": ""
             }
            },
            "type": "scatter3d"
           }
          ],
          "scattercarpet": [
           {
            "marker": {
             "colorbar": {
              "outlinewidth": 0,
              "ticks": ""
             }
            },
            "type": "scattercarpet"
           }
          ],
          "scattergeo": [
           {
            "marker": {
             "colorbar": {
              "outlinewidth": 0,
              "ticks": ""
             }
            },
            "type": "scattergeo"
           }
          ],
          "scattergl": [
           {
            "marker": {
             "colorbar": {
              "outlinewidth": 0,
              "ticks": ""
             }
            },
            "type": "scattergl"
           }
          ],
          "scattermapbox": [
           {
            "marker": {
             "colorbar": {
              "outlinewidth": 0,
              "ticks": ""
             }
            },
            "type": "scattermapbox"
           }
          ],
          "scatterpolar": [
           {
            "marker": {
             "colorbar": {
              "outlinewidth": 0,
              "ticks": ""
             }
            },
            "type": "scatterpolar"
           }
          ],
          "scatterpolargl": [
           {
            "marker": {
             "colorbar": {
              "outlinewidth": 0,
              "ticks": ""
             }
            },
            "type": "scatterpolargl"
           }
          ],
          "scatterternary": [
           {
            "marker": {
             "colorbar": {
              "outlinewidth": 0,
              "ticks": ""
             }
            },
            "type": "scatterternary"
           }
          ],
          "surface": [
           {
            "colorbar": {
             "outlinewidth": 0,
             "ticks": ""
            },
            "colorscale": [
             [
              0,
              "#0d0887"
             ],
             [
              0.1111111111111111,
              "#46039f"
             ],
             [
              0.2222222222222222,
              "#7201a8"
             ],
             [
              0.3333333333333333,
              "#9c179e"
             ],
             [
              0.4444444444444444,
              "#bd3786"
             ],
             [
              0.5555555555555556,
              "#d8576b"
             ],
             [
              0.6666666666666666,
              "#ed7953"
             ],
             [
              0.7777777777777778,
              "#fb9f3a"
             ],
             [
              0.8888888888888888,
              "#fdca26"
             ],
             [
              1,
              "#f0f921"
             ]
            ],
            "type": "surface"
           }
          ],
          "table": [
           {
            "cells": {
             "fill": {
              "color": "#EBF0F8"
             },
             "line": {
              "color": "white"
             }
            },
            "header": {
             "fill": {
              "color": "#C8D4E3"
             },
             "line": {
              "color": "white"
             }
            },
            "type": "table"
           }
          ]
         },
         "layout": {
          "annotationdefaults": {
           "arrowcolor": "#2a3f5f",
           "arrowhead": 0,
           "arrowwidth": 1
          },
          "autotypenumbers": "strict",
          "coloraxis": {
           "colorbar": {
            "outlinewidth": 0,
            "ticks": ""
           }
          },
          "colorscale": {
           "diverging": [
            [
             0,
             "#8e0152"
            ],
            [
             0.1,
             "#c51b7d"
            ],
            [
             0.2,
             "#de77ae"
            ],
            [
             0.3,
             "#f1b6da"
            ],
            [
             0.4,
             "#fde0ef"
            ],
            [
             0.5,
             "#f7f7f7"
            ],
            [
             0.6,
             "#e6f5d0"
            ],
            [
             0.7,
             "#b8e186"
            ],
            [
             0.8,
             "#7fbc41"
            ],
            [
             0.9,
             "#4d9221"
            ],
            [
             1,
             "#276419"
            ]
           ],
           "sequential": [
            [
             0,
             "#0d0887"
            ],
            [
             0.1111111111111111,
             "#46039f"
            ],
            [
             0.2222222222222222,
             "#7201a8"
            ],
            [
             0.3333333333333333,
             "#9c179e"
            ],
            [
             0.4444444444444444,
             "#bd3786"
            ],
            [
             0.5555555555555556,
             "#d8576b"
            ],
            [
             0.6666666666666666,
             "#ed7953"
            ],
            [
             0.7777777777777778,
             "#fb9f3a"
            ],
            [
             0.8888888888888888,
             "#fdca26"
            ],
            [
             1,
             "#f0f921"
            ]
           ],
           "sequentialminus": [
            [
             0,
             "#0d0887"
            ],
            [
             0.1111111111111111,
             "#46039f"
            ],
            [
             0.2222222222222222,
             "#7201a8"
            ],
            [
             0.3333333333333333,
             "#9c179e"
            ],
            [
             0.4444444444444444,
             "#bd3786"
            ],
            [
             0.5555555555555556,
             "#d8576b"
            ],
            [
             0.6666666666666666,
             "#ed7953"
            ],
            [
             0.7777777777777778,
             "#fb9f3a"
            ],
            [
             0.8888888888888888,
             "#fdca26"
            ],
            [
             1,
             "#f0f921"
            ]
           ]
          },
          "colorway": [
           "#636efa",
           "#EF553B",
           "#00cc96",
           "#ab63fa",
           "#FFA15A",
           "#19d3f3",
           "#FF6692",
           "#B6E880",
           "#FF97FF",
           "#FECB52"
          ],
          "font": {
           "color": "#2a3f5f"
          },
          "geo": {
           "bgcolor": "white",
           "lakecolor": "white",
           "landcolor": "#E5ECF6",
           "showlakes": true,
           "showland": true,
           "subunitcolor": "white"
          },
          "hoverlabel": {
           "align": "left"
          },
          "hovermode": "closest",
          "mapbox": {
           "style": "light"
          },
          "paper_bgcolor": "white",
          "plot_bgcolor": "#E5ECF6",
          "polar": {
           "angularaxis": {
            "gridcolor": "white",
            "linecolor": "white",
            "ticks": ""
           },
           "bgcolor": "#E5ECF6",
           "radialaxis": {
            "gridcolor": "white",
            "linecolor": "white",
            "ticks": ""
           }
          },
          "scene": {
           "xaxis": {
            "backgroundcolor": "#E5ECF6",
            "gridcolor": "white",
            "gridwidth": 2,
            "linecolor": "white",
            "showbackground": true,
            "ticks": "",
            "zerolinecolor": "white"
           },
           "yaxis": {
            "backgroundcolor": "#E5ECF6",
            "gridcolor": "white",
            "gridwidth": 2,
            "linecolor": "white",
            "showbackground": true,
            "ticks": "",
            "zerolinecolor": "white"
           },
           "zaxis": {
            "backgroundcolor": "#E5ECF6",
            "gridcolor": "white",
            "gridwidth": 2,
            "linecolor": "white",
            "showbackground": true,
            "ticks": "",
            "zerolinecolor": "white"
           }
          },
          "shapedefaults": {
           "line": {
            "color": "#2a3f5f"
           }
          },
          "ternary": {
           "aaxis": {
            "gridcolor": "white",
            "linecolor": "white",
            "ticks": ""
           },
           "baxis": {
            "gridcolor": "white",
            "linecolor": "white",
            "ticks": ""
           },
           "bgcolor": "#E5ECF6",
           "caxis": {
            "gridcolor": "white",
            "linecolor": "white",
            "ticks": ""
           }
          },
          "title": {
           "x": 0.05
          },
          "xaxis": {
           "automargin": true,
           "gridcolor": "white",
           "linecolor": "white",
           "ticks": "",
           "title": {
            "standoff": 15
           },
           "zerolinecolor": "white",
           "zerolinewidth": 2
          },
          "yaxis": {
           "automargin": true,
           "gridcolor": "white",
           "linecolor": "white",
           "ticks": "",
           "title": {
            "standoff": 15
           },
           "zerolinecolor": "white",
           "zerolinewidth": 2
          }
         }
        },
        "xaxis": {
         "anchor": "y",
         "domain": [
          0,
          0.2125
         ]
        },
        "xaxis2": {
         "anchor": "y2",
         "domain": [
          0.2625,
          0.475
         ]
        },
        "xaxis3": {
         "anchor": "y3",
         "domain": [
          0.525,
          0.7375
         ]
        },
        "xaxis4": {
         "anchor": "y4",
         "domain": [
          0.7875,
          1
         ]
        },
        "yaxis": {
         "anchor": "x",
         "domain": [
          0,
          1
         ],
         "title": {
          "text": "Pct Change Values"
         }
        },
        "yaxis2": {
         "anchor": "x2",
         "domain": [
          0,
          1
         ]
        },
        "yaxis3": {
         "anchor": "x3",
         "domain": [
          0,
          1
         ]
        },
        "yaxis4": {
         "anchor": "x4",
         "domain": [
          0,
          1
         ]
        }
       }
      }
     },
     "metadata": {},
     "output_type": "display_data"
    }
   ],
   "source": [
    "brent_df['normalized'] = (brent_df['Value_EMA'] - np.mean(brent_df['Value_EMA'])) / np.std(brent_df['Value_EMA'])\n",
    "wti_df['normalized'] = (wti_df['Value_EMA'] - np.mean(wti_df['Value_EMA'])) / np.std(wti_df['Value_EMA'])\n",
    "henry_df['normalized'] = (henry_df['Value_EMA'] - np.mean(henry_df['Value_EMA'])) / np.std(henry_df['Value_EMA'])\n",
    "df_probs_grouped['normalized'] = (df_probs_grouped['prediction_EMA'] - np.mean(df_probs_grouped['prediction_EMA'])) / np.std(df_probs_grouped['prediction_EMA'])\n",
    "\n",
    "fig = make_subplots(rows=1, cols=4)\n",
    "\n",
    "fig.add_trace(plgo.Violin(y=brent_df['pctchange'], name='Brent Crude Front Month Future Prices', box_visible=True, meanline_visible=True), row=1, col=1)\n",
    "fig.add_trace(plgo.Violin(y=wti_df['pctchange'], name='West Texas Intermediary Crude Oil', box_visible=True, meanline_visible=True), row=1, col=2)\n",
    "fig.add_trace(plgo.Violin(y=henry_df['pctchange'], name='Henry Hub Natural Gas Spot Price', box_visible=True, meanline_visible=True), row=1, col=3)\n",
    "fig.add_trace(plgo.Violin(y=df_probs_grouped['pctchange'], name='Polymarket Prediction Values', box_visible=True, meanline_visible=True), row=1, col=4)\n",
    "\n",
    "\n",
    "\n",
    "#title='Violin Plot of Normalized Day-to-Day Values'\n",
    "fig.update_layout(yaxis_title='Pct Change Values')\n",
    "fig.show()\n"
   ]
  },
  {
   "cell_type": "code",
   "execution_count": 63,
   "metadata": {},
   "outputs": [
    {
     "name": "stdout",
     "output_type": "stream",
     "text": [
      "count    20.000000\n",
      "mean     -0.004646\n",
      "std       0.007894\n",
      "min      -0.018964\n",
      "25%      -0.010736\n",
      "50%      -0.003461\n",
      "75%       0.001834\n",
      "max       0.007799\n",
      "Name: pctchange, dtype: float64\n",
      "--------------------------------------------------\n",
      "count    20.000000\n",
      "mean     -0.006210\n",
      "std       0.008123\n",
      "min      -0.020119\n",
      "25%      -0.011632\n",
      "50%      -0.006765\n",
      "75%       0.000626\n",
      "max       0.006692\n",
      "Name: pctchange, dtype: float64\n",
      "--------------------------------------------------\n",
      "count    20.000000\n",
      "mean     -0.008572\n",
      "std       0.033439\n",
      "min      -0.110427\n",
      "25%      -0.019789\n",
      "50%      -0.001643\n",
      "75%       0.010498\n",
      "max       0.030344\n",
      "Name: pctchange, dtype: float64\n",
      "--------------------------------------------------\n",
      "count    20.000000\n",
      "mean      0.076211\n",
      "std       0.143840\n",
      "min      -0.154709\n",
      "25%      -0.030320\n",
      "50%       0.068504\n",
      "75%       0.154824\n",
      "max       0.398030\n",
      "Name: pctchange, dtype: float64\n"
     ]
    }
   ],
   "source": [
    "print(brent_df['pctchange'].describe())\n",
    "print(\"-\"*50)\n",
    "print(wti_df['pctchange'].describe())\n",
    "print(\"-\"*50)\n",
    "print(henry_df['pctchange'].describe())\n",
    "print(\"-\"*50)\n",
    "print(df_probs_grouped['pctchange'].describe())"
   ]
  },
  {
   "cell_type": "code",
   "execution_count": 64,
   "metadata": {},
   "outputs": [
    {
     "data": {
      "image/png": "[encoded data removed]",
      "text/plain": [
       "<Figure size 640x480 with 1 Axes>"
      ]
     },
     "metadata": {},
     "output_type": "display_data"
    }
   ],
   "source": [
    "sns_kde_brent = sns.kdeplot(brent_df['pctchange'], label='Brent')\n",
    "brent_kde_values = sns_kde_brent.get_lines()[0].get_ydata()\n",
    "brent_x_values = sns_kde_brent.get_lines()[0].get_xdata()"
   ]
  },
  {
   "cell_type": "code",
   "execution_count": 65,
   "metadata": {},
   "outputs": [
    {
     "data": {
      "image/png": "[encoded data removed]",
      "text/plain": [
       "<Figure size 640x480 with 1 Axes>"
      ]
     },
     "metadata": {},
     "output_type": "display_data"
    }
   ],
   "source": [
    "sns_kde_wti = sns.kdeplot(wti_df['pctchange'], label='WTI')\n",
    "wti_kde_values = sns_kde_wti.get_lines()[0].get_ydata()\n",
    "wti_x_values = sns_kde_wti.get_lines()[0].get_xdata()"
   ]
  },
  {
   "cell_type": "code",
   "execution_count": 66,
   "metadata": {},
   "outputs": [
    {
     "data": {
      "image/png": "[encoded data removed]",
      "text/plain": [
       "<Figure size 640x480 with 1 Axes>"
      ]
     },
     "metadata": {},
     "output_type": "display_data"
    }
   ],
   "source": [
    "sns_kde_henry = sns.kdeplot(henry_df['pctchange'], label='Henry')\n",
    "henry_kde_values = sns_kde_henry.get_lines()[0].get_ydata()\n",
    "henry_x_values = sns_kde_henry.get_lines()[0].get_xdata()"
   ]
  },
  {
   "cell_type": "code",
   "execution_count": 67,
   "metadata": {},
   "outputs": [
    {
     "data": {
      "image/png": "[encoded data removed]",
      "text/plain": [
       "<Figure size 640x480 with 1 Axes>"
      ]
     },
     "metadata": {},
     "output_type": "display_data"
    }
   ],
   "source": [
    "sns_kde_probs = sns.kdeplot(df_probs_grouped['pctchange'], label='Prediction Market')\n",
    "probs_kde_values = sns_kde_probs.get_lines()[0].get_ydata()\n",
    "probs_x_values = sns_kde_probs.get_lines()[0].get_xdata()"
   ]
  },
  {
   "cell_type": "code",
   "execution_count": 68,
   "metadata": {},
   "outputs": [
    {
     "data": {
      "application/vnd.plotly.v1+json": {
       "config": {
        "plotlyServerURL": "https://plot.ly"
       },
       "data": [
        {
         "mode": "lines",
         "name": "Brent",
         "type": "scatter",
         "x": [
          -0.03197282285751249,
          -0.03170759647268628,
          -0.031442370087860064,
          -0.03117714370303385,
          -0.030911917318207638,
          -0.03064669093338143,
          -0.030381464548555216,
          -0.030116238163729003,
          -0.02985101177890279,
          -0.029585785394076577,
          -0.029320559009250364,
          -0.02905533262442415,
          -0.028790106239597938,
          -0.028524879854771725,
          -0.028259653469945516,
          -0.027994427085119303,
          -0.02772920070029309,
          -0.027463974315466877,
          -0.027198747930640664,
          -0.02693352154581445,
          -0.026668295160988238,
          -0.026403068776162025,
          -0.026137842391335812,
          -0.0258726160065096,
          -0.025607389621683387,
          -0.025342163236857177,
          -0.025076936852030964,
          -0.02481171046720475,
          -0.02454648408237854,
          -0.024281257697552325,
          -0.024016031312726116,
          -0.023750804927899903,
          -0.02348557854307369,
          -0.023220352158247477,
          -0.022955125773421264,
          -0.02268989938859505,
          -0.02242467300376884,
          -0.022159446618942626,
          -0.021894220234116413,
          -0.0216289938492902,
          -0.021363767464463987,
          -0.021098541079637774,
          -0.02083331469481156,
          -0.020568088309985348,
          -0.02030286192515914,
          -0.020037635540332926,
          -0.019772409155506713,
          -0.0195071827706805,
          -0.019241956385854287,
          -0.018976730001028078,
          -0.018711503616201865,
          -0.018446277231375652,
          -0.01818105084654944,
          -0.017915824461723226,
          -0.017650598076897013,
          -0.0173853716920708,
          -0.017120145307244587,
          -0.016854918922418374,
          -0.01658969253759216,
          -0.01632446615276595,
          -0.01605923976793974,
          -0.015794013383113526,
          -0.015528786998287313,
          -0.0152635606134611,
          -0.014998334228634887,
          -0.014733107843808674,
          -0.014467881458982462,
          -0.014202655074156249,
          -0.013937428689330036,
          -0.013672202304503826,
          -0.013406975919677613,
          -0.0131417495348514,
          -0.012876523150025188,
          -0.012611296765198975,
          -0.012346070380372762,
          -0.012080843995546549,
          -0.011815617610720336,
          -0.011550391225894123,
          -0.011285164841067914,
          -0.0110199384562417,
          -0.010754712071415488,
          -0.010489485686589275,
          -0.010224259301763062,
          -0.009959032916936849,
          -0.009693806532110636,
          -0.009428580147284423,
          -0.00916335376245821,
          -0.008898127377632,
          -0.008632900992805788,
          -0.008367674607979575,
          -0.008102448223153362,
          -0.00783722183832715,
          -0.007571995453500936,
          -0.007306769068674723,
          -0.00704154268384851,
          -0.0067763162990222975,
          -0.006511089914196085,
          -0.006245863529369875,
          -0.005980637144543662,
          -0.005715410759717449,
          -0.005450184374891236,
          -0.0051849579900650235,
          -0.0049197316052388106,
          -0.004654505220412598,
          -0.004389278835586385,
          -0.004124052450760172,
          -0.0038588260659339624,
          -0.0035935996811077495,
          -0.0033283732962815366,
          -0.0030631469114553236,
          -0.0027979205266291107,
          -0.002532694141802898,
          -0.002267467756976685,
          -0.002002241372150472,
          -0.001737014987324259,
          -0.0014717886024980496,
          -0.0012065622176718367,
          -0.0009413358328456238,
          -0.0006761094480194074,
          -0.00041088306319320145,
          -0.00014565667836698853,
          0.00011956970645922438,
          0.0003847960912854373,
          0.0006500224761116502,
          0.0009152488609378631,
          0.001180475245764076,
          0.001445701630590289,
          0.0017109280154165019,
          0.0019761544002427148,
          0.0022413807850689277,
          0.0025066071698951406,
          0.0027718335547213535,
          0.0030370599395475664,
          0.0033022863243737793,
          0.0035675127091999922,
          0.003832739094026205,
          0.004097965478852418,
          0.004363191863678631,
          0.004628418248504837,
          0.00489364463333105,
          0.005158871018157263,
          0.005424097402983476,
          0.005689323787809689,
          0.0059545501726359015,
          0.0062197765574621144,
          0.006485002942288327,
          0.00675022932711454,
          0.007015455711940753,
          0.007280682096766966,
          0.007545908481593179,
          0.007811134866419392,
          0.008076361251245605,
          0.008341587636071818,
          0.00860681402089803,
          0.008872040405724244,
          0.009137266790550456,
          0.009402493175376662,
          0.009667719560202875,
          0.009932945945029088,
          0.010198172329855301,
          0.010463398714681514,
          0.010728625099507727,
          0.01099385148433394,
          0.011259077869160153,
          0.011524304253986366,
          0.011789530638812579,
          0.012054757023638792,
          0.012319983408465005,
          0.012585209793291217,
          0.01285043617811743,
          0.013115662562943643,
          0.013380888947769856,
          0.013646115332596069,
          0.013911341717422282,
          0.014176568102248488,
          0.014441794487074701,
          0.014707020871900914,
          0.014972247256727127,
          0.01523747364155334,
          0.015502700026379553,
          0.015767926411205765,
          0.01603315279603198,
          0.01629837918085819,
          0.016563605565684404,
          0.016828831950510617,
          0.01709405833533683,
          0.017359284720163043,
          0.017624511104989256,
          0.01788973748981547,
          0.01815496387464168,
          0.018420190259467895,
          0.018685416644294107,
          0.01895064302912032,
          0.019215869413946526,
          0.01948109579877274,
          0.019746322183598952,
          0.020011548568425165,
          0.020276774953251378,
          0.02054200133807759,
          0.020807227722903804
         ],
         "y": [
          0.08023634435518874,
          0.09692894726341804,
          0.11667539833306319,
          0.13994290535295897,
          0.16725179071594262,
          0.19917811053903298,
          0.23635575671192866,
          0.2794779044468184,
          0.3292976612035198,
          0.38662776949695266,
          0.4523392167748045,
          0.5273586109644178,
          0.6126641910424504,
          0.709280358583293,
          0.8182706390476917,
          0.9407290107466569,
          1.0777695748941813,
          1.230514581620066,
          1.4000808736365413,
          1.5875648605189556,
          1.7940261910396698,
          2.020470347151323,
          2.267830439239343,
          2.5369485361056108,
          2.828556912579979,
          3.1432596403544695,
          3.481514981253716,
          3.8436190644391814,
          4.229691337937442,
          4.639662278638887,
          5.073263822213607,
          5.530022934446988,
          6.00925868814314,
          6.510083135510746,
          7.031406176106772,
          7.571944517003532,
          8.130234707640877,
          8.704650110292487,
          9.293421542273437,
          9.894661202470838,
          10.506389377316617,
          11.126563314878535,
          11.753107565153577,
          12.383945014409882,
          13.017027795482536,
          13.650367237453057,
          14.282062029324537,
          14.91032381420002,
          15.533499502873864,
          16.150089697121743,
          16.758762740452028,
          17.35836406350646,
          17.947920657355574,
          18.526640684330182,
          19.09390841573614,
          19.649274861339087,
          20.19244461928471,
          20.723259619774883,
          21.241680554570216,
          21.74776687138195,
          22.24165626283647,
          22.723544590827768,
          23.193667157306955,
          23.652282162305692,
          24.099657081530683,
          24.53605855329006,
          24.961746193578747,
          25.376970566058258,
          25.781975328743936,
          26.177003370549613,
          26.562306547859492,
          26.93815844332233,
          27.30486940485643,
          27.662802990194972,
          28.0123928475943,
          28.354159011279492,
          28.688722583576382,
          29.016817815149313,
          29.339300678867325,
          29.657153158020872,
          29.971482630463598,
          30.283515919674983,
          30.59458779335044,
          30.906123910665123,
          31.219618441141407,
          31.53660679144149,
          31.85863407229016,
          32.18722010794655,
          32.52382192836744,
          32.869794784261984,
          33.226352784317974,
          33.59453027064948,
          33.975145023634944,
          34.36876432333187,
          34.775674795825296,
          35.195856844869205,
          35.62896431876904,
          36.074309897075516,
          36.53085650903036,
          36.997214923400314,
          37.471647484399206,
          37.9520778170009,
          38.43610619210324,
          38.92103013138009,
          39.403869745452546,
          39.881397237936994,
          40.35016997128158,
          40.80656647611627,
          41.24682479109845,
          41.66708254114662,
          42.06341819426132,
          42.43189297643163,
          42.76859296617421,
          43.06967093125657,
          43.33138750700783,
          43.55015134607538,
          43.722557892272256,
          43.84542644602216,
          43.915835196555925,
          43.93115389802703,
          43.8890738653704,
          43.787634963796144,
          43.62524926629444,
          43.40072105943368,
          43.113262891794044,
          42.762507383849425,
          42.34851455456128,
          41.87177446913909,
          41.333205074213936,
          40.73414516001233,
          40.076342472089515,
          39.361937085105104,
          38.59344024471635,
          37.773708977235316,
          36.90591685636886,
          35.99352139830728,
          35.040228627095395,
          34.04995540854194,
          33.026790190491134,
          31.974952808482417,
          30.898754017922926,
          29.80255539705902,
          28.690730230307175,
          27.56762593073443,
          26.4375284961935,
          25.304629418866156,
          24.172995386139775,
          23.046541025376243,
          21.929004859721502,
          20.823928559917263,
          19.734639500997257,
          18.66423656515316,
          17.61557907471137,
          16.59127869319287,
          15.593694098294346,
          14.62492820815922,
          13.686827730764215,
          12.78098480441688,
          11.908740503666731,
          11.0711899975598,
          10.269189164190681,
          9.503362485010925,
          8.7741120625508,
          8.081627624530501,
          7.4258973944965145,
          6.806719723174741,
          6.223715385101352,
          5.676340451548558,
          5.163899653413981,
          4.685560146987808,
          4.240365591984921,
          3.8272504457318504,
          3.4450543708311545,
          3.092536646918202,
          2.7683904711709912,
          2.4712570278338224,
          2.1997392048345175,
          1.952414836105337,
          1.7278493517651343,
          1.5246077249925292,
          1.341265614138131,
          1.176419611136473,
          1.0286965221882813,
          0.8967616234798618,
          0.7793258527989326,
          0.6751519166636342,
          0.5830593113657189,
          0.5019282745285627,
          0.43070270083844053,
          0.36839207104333854,
          0.31407245674044876,
          0.2668866746076702,
          0.22604367239894171,
          0.19081723514606422,
          0.16054410361674146,
          0.13462159828313458,
          0.11250484104391266,
          0.09370366396043718,
          0.07777928960066835,
          0.06434086154462432
         ]
        },
        {
         "mode": "lines",
         "name": "WTI",
         "type": "scatter",
         "x": [
          -0.0335044459986537,
          -0.033235191025834145,
          -0.03296593605301459,
          -0.03269668108019503,
          -0.03242742610737547,
          -0.032158171134555914,
          -0.03188891616173636,
          -0.0316196611889168,
          -0.03135040621609724,
          -0.03108115124327768,
          -0.030811896270458123,
          -0.030542641297638565,
          -0.030273386324819008,
          -0.03000413135199945,
          -0.029734876379179893,
          -0.029465621406360335,
          -0.029196366433540778,
          -0.02892711146072122,
          -0.02865785648790166,
          -0.0283886015150821,
          -0.028119346542262544,
          -0.027850091569442986,
          -0.02758083659662343,
          -0.02731158162380387,
          -0.027042326650984314,
          -0.026773071678164756,
          -0.0265038167053452,
          -0.02623456173252564,
          -0.025965306759706083,
          -0.025696051786886526,
          -0.025426796814066968,
          -0.02515754184124741,
          -0.024888286868427853,
          -0.024619031895608295,
          -0.024349776922788738,
          -0.02408052194996918,
          -0.02381126697714962,
          -0.02354201200433006,
          -0.023272757031510504,
          -0.023003502058690947,
          -0.02273424708587139,
          -0.02246499211305183,
          -0.02219573714023227,
          -0.021926482167412713,
          -0.021657227194593155,
          -0.021387972221773598,
          -0.02111871724895404,
          -0.020849462276134482,
          -0.020580207303314925,
          -0.020310952330495367,
          -0.02004169735767581,
          -0.019772442384856252,
          -0.019503187412036695,
          -0.019233932439217137,
          -0.01896467746639758,
          -0.018695422493578022,
          -0.018426167520758464,
          -0.018156912547938907,
          -0.01788765757511935,
          -0.017618402602299788,
          -0.01734914762948023,
          -0.017079892656660673,
          -0.016810637683841115,
          -0.016541382711021558,
          -0.016272127738202,
          -0.016002872765382443,
          -0.015733617792562885,
          -0.015464362819743328,
          -0.01519510784692377,
          -0.014925852874104212,
          -0.014656597901284655,
          -0.014387342928465094,
          -0.014118087955645536,
          -0.013848832982825979,
          -0.013579578010006421,
          -0.013310323037186864,
          -0.013041068064367306,
          -0.012771813091547748,
          -0.012502558118728191,
          -0.012233303145908633,
          -0.011964048173089076,
          -0.011694793200269518,
          -0.01142553822744996,
          -0.011156283254630403,
          -0.010887028281810842,
          -0.010617773308991284,
          -0.010348518336171727,
          -0.01007926336335217,
          -0.009810008390532612,
          -0.009540753417713054,
          -0.009271498444893497,
          -0.009002243472073939,
          -0.008732988499254381,
          -0.008463733526434824,
          -0.008194478553615266,
          -0.007925223580795709,
          -0.007655968607976148,
          -0.00738671363515659,
          -0.0071174586623370326,
          -0.006848203689517475,
          -0.006578948716697917,
          -0.00630969374387836,
          -0.006040438771058802,
          -0.005771183798239245,
          -0.005501928825419687,
          -0.00523267385260013,
          -0.004963418879780572,
          -0.004694163906961014,
          -0.004424908934141457,
          -0.004155653961321896,
          -0.0038863989885023383,
          -0.0036171440156827807,
          -0.003347889042863223,
          -0.0030786340700436655,
          -0.002809379097224108,
          -0.0025401241244045504,
          -0.002270869151584993,
          -0.002001614178765432,
          -0.0017323592059458742,
          -0.0014631042331263167,
          -0.001193849260306759,
          -0.0009245942874872015,
          -0.000655339314667644,
          -0.0003860843418480864,
          -0.0001168293690285288,
          0.00015242560379102876,
          0.00042168057661058633,
          0.0006909355494301439,
          0.0009601905222497015,
          0.001229445495069259,
          0.0014987004678888166,
          0.0017679554407083742,
          0.0020372104135279318,
          0.0023064653863474893,
          0.002575720359167047,
          0.0028449753319866045,
          0.003114230304806162,
          0.0033834852776257196,
          0.003652740250445277,
          0.003921995223264835,
          0.004191250196084392,
          0.004460505168903957,
          0.004729760141723514,
          0.004999015114543072,
          0.0052682700873626295,
          0.005537525060182187,
          0.005806780033001745,
          0.006076035005821302,
          0.00634528997864086,
          0.006614544951460417,
          0.006883799924279975,
          0.0071530548970995325,
          0.00742230986991909,
          0.007691564842738648,
          0.007960819815558205,
          0.008230074788377763,
          0.00849932976119732,
          0.008768584734016878,
          0.009037839706836436,
          0.009307094679655993,
          0.00957634965247555,
          0.009845604625295108,
          0.010114859598114666,
          0.010384114570934223,
          0.010653369543753781,
          0.010922624516573338,
          0.011191879489392896,
          0.01146113446221246,
          0.011730389435032018,
          0.011999644407851576,
          0.012268899380671133,
          0.01253815435349069,
          0.012807409326310248,
          0.013076664299129806,
          0.013345919271949364,
          0.013615174244768921,
          0.013884429217588479,
          0.014153684190408036,
          0.014422939163227594,
          0.014692194136047151,
          0.014961449108866709,
          0.015230704081686267,
          0.015499959054505824,
          0.01576921402732538,
          0.01603846900014494,
          0.016307723972964497,
          0.016576978945784054,
          0.016846233918603612,
          0.01711548889142317,
          0.017384743864242727,
          0.017653998837062285,
          0.017923253809881842,
          0.018192508782701407,
          0.018461763755520964,
          0.018731018728340522,
          0.01900027370116008,
          0.019269528673979637,
          0.019538783646799195,
          0.019808038619618752,
          0.02007729359243831
         ],
         "y": [
          0.09658007596788072,
          0.1159488006767433,
          0.13871082803789017,
          0.16535693329526951,
          0.196428781518332,
          0.2325205894079589,
          0.27428016142026035,
          0.3224091738419212,
          0.37766257938013376,
          0.44084700759134027,
          0.5128180436325036,
          0.5944762798665145,
          0.6867620521691705,
          0.7906487956021535,
          0.9071349824873097,
          1.037234639682469,
          1.1819664806190049,
          1.3423417307582404,
          1.5193507716288932,
          1.7139487773230608,
          1.9270405667974584,
          2.15946494386332,
          2.4119788424754924,
          2.6852416358374356,
          2.979800001846293,
          3.296073762448872,
          3.6343431286073993,
          3.9947377840288745,
          4.377228228138364,
          4.781619770918414,
          5.207549528623506,
          5.654486710003525,
          6.121736408151352,
          6.608447024703741,
          7.113621352822647,
          7.636131235768343,
          8.174735602156082,
          8.72810156089443,
          9.294828122481773,
          9.873472003200751,
          10.462574869325177,
          11.060691294188427,
          11.666416636043726,
          12.27841400279767,
          12.895439453995042,
          13.516364603127977,
          14.140195825716985,
          14.766089350863403,
          15.393361615136428,
          16.021494385583903,
          16.650134310025965,
          17.27908672320009,
          17.908303721404288,
          18.5378667098783,
          19.167963819542233,
          19.798862775839606,
          20.4308799752255,
          21.064346677473374,
          21.699573348162744,
          22.33681327998965,
          22.976226679523304,
          23.617846424607887,
          24.26154667511983,
          24.907015456130335,
          25.553732229170077,
          26.200951327290216,
          26.847691957459514,
          27.49273527532858,
          28.134628819395214,
          28.77169836178427,
          29.40206699936328,
          30.023681080053784,
          30.63434234308028,
          31.231745456112275,
          31.81351996355103,
          32.37727552423781,
          32.9206492179336,
          33.44135364087686,
          33.93722449282704,
          34.4062663809227,
          34.84669562756248,
          35.25697896708893,
          35.635867144827564,
          35.98242258652931,
          36.29604048029058,
          36.5764627999692,
          36.82378499224562,
          37.038455242240715,
          37.22126641887977,
          37.373340975549226,
          37.49610923944956,
          37.59128166081563,
          37.66081570833119,
          37.706878188156175,
          37.73180383059672,
          37.73805103110143,
          37.72815565229079,
          37.70468379308564,
          37.670184412123426,
          37.6271426582274,
          37.577934713506096,
          37.52478489740295,
          37.46972571517371,
          37.41456146399404,
          37.36083593595847,
          37.309804680969805,
          37.26241221487079,
          37.21927447970887,
          37.180666784029675,
          37.1465173716436,
          37.11640668738722,
          37.0895723280013,
          37.0649195854751,
          37.04103740936294,
          37.01621953422104,
          36.98849043929127,
          36.95563573102546,
          36.91523646642352,
          36.86470686810296,
          36.80133482231871,
          36.72232450065784,
          36.62484040662771,
          36.50605212145296,
          36.36317901042807,
          36.19353415308932,
          35.994566777765804,
          35.76390251371756,
          35.49938082150421,
          35.199089023338836,
          34.86139242835231,
          34.48496013086041,
          34.06878615046605,
          33.61220567846815,
          33.11490629277953,
          32.57693410056757,
          31.998694861429424,
          31.380950231642966,
          30.7248093497733,
          30.031716053961485,
          29.30343208034268,
          28.542016639503895,
          27.749802803461073,
          26.929371159547138,
          26.08352120051144,
          25.215240923039453,
          24.32767510107034,
          23.424092687152683,
          22.507853776132073,
          21.58237654218985,
          20.651104534021933,
          19.717474684962877,
          18.784886366101148,
          17.856671781622687,
          16.93606797722491,
          16.026190704674153,
          15.130010358425222,
          14.25033017349149,
          13.389766847130637,
          12.550733720010998,
          11.735426624957794,
          10.945812482809849,
          10.183620695111484,
          9.450337352227896,
          8.747202243081396,
          8.07520861931587,
          7.435105632740561,
          6.827403330975355,
          6.252380063041928,
          5.710092115035659,
          5.200385366832957,
          4.722908734898932,
          4.277129144464267,
          3.8623477573468623,
          3.4777171700682987,
          3.122259291052646,
          2.794883605795331,
          2.494405544947593,
          2.219564682065747,
          1.9690425049177855,
          1.7414795261409306,
          1.535491524973857,
          1.3496847409047137,
          1.1826698714642896,
          1.0330747591006644,
          0.8995556851495436,
          0.7808072214553703,
          0.6755706213674755,
          0.5826407608979187,
          0.5008716671684735,
          0.42918069441316115,
          0.3665514274002537,
          0.31203540799593976,
          0.2647527926486366,
          0.22389205689123062,
          0.18870886771142253,
          0.15852424609363538,
          0.13272214052807488,
          0.11074652820479894,
          0.09209815438682177,
          0.07633101252380906
         ]
        },
        {
         "mode": "lines",
         "name": "Henry",
         "type": "scatter",
         "x": [
          -0.1655292406394157,
          -0.1642680561951082,
          -0.1630068717508007,
          -0.1617456873064932,
          -0.16048450286218569,
          -0.1592233184178782,
          -0.1579621339735707,
          -0.1567009495292632,
          -0.1554397650849557,
          -0.15417858064064818,
          -0.15291739619634068,
          -0.15165621175203317,
          -0.15039502730772566,
          -0.14913384286341816,
          -0.14787265841911068,
          -0.14661147397480317,
          -0.14535028953049567,
          -0.14408910508618816,
          -0.14282792064188066,
          -0.14156673619757315,
          -0.14030555175326564,
          -0.13904436730895814,
          -0.13778318286465063,
          -0.13652199842034313,
          -0.13526081397603565,
          -0.13399962953172814,
          -0.13273844508742064,
          -0.13147726064311313,
          -0.13021607619880562,
          -0.12895489175449812,
          -0.1276937073101906,
          -0.12643252286588313,
          -0.12517133842157563,
          -0.12391015397726811,
          -0.12264896953296062,
          -0.12138778508865311,
          -0.1201266006443456,
          -0.1188654162000381,
          -0.11760423175573059,
          -0.11634304731142309,
          -0.1150818628671156,
          -0.11382067842280809,
          -0.11255949397850058,
          -0.11129830953419309,
          -0.11003712508988558,
          -0.10877594064557808,
          -0.10751475620127057,
          -0.10625357175696307,
          -0.10499238731265556,
          -0.10373120286834805,
          -0.10247001842404056,
          -0.10120883397973306,
          -0.09994764953542555,
          -0.09868646509111806,
          -0.09742528064681055,
          -0.09616409620250305,
          -0.09490291175819554,
          -0.09364172731388803,
          -0.09238054286958054,
          -0.09111935842527304,
          -0.08985817398096553,
          -0.08859698953665802,
          -0.08733580509235053,
          -0.08607462064804303,
          -0.08481343620373552,
          -0.08355225175942801,
          -0.08229106731512051,
          -0.08102988287081302,
          -0.07976869842650551,
          -0.078507513982198,
          -0.0772463295378905,
          -0.075985145093583,
          -0.0747239606492755,
          -0.073462776204968,
          -0.07220159176066049,
          -0.07094040731635298,
          -0.06967922287204549,
          -0.06841803842773798,
          -0.06715685398343048,
          -0.06589566953912297,
          -0.06463448509481548,
          -0.06337330065050797,
          -0.06211211620620047,
          -0.06085093176189296,
          -0.059589747317585456,
          -0.058328562873277964,
          -0.05706737842897046,
          -0.05580619398466295,
          -0.054545009540355446,
          -0.05328382509604794,
          -0.05202264065174045,
          -0.05076145620743294,
          -0.049500271763125436,
          -0.04823908731881793,
          -0.04697790287451044,
          -0.04571671843020293,
          -0.044455533985895426,
          -0.04319434954158792,
          -0.041933165097280414,
          -0.04067198065297292,
          -0.039410796208665416,
          -0.03814961176435791,
          -0.036888427320050404,
          -0.0356272428757429,
          -0.03436605843143539,
          -0.033104873987127886,
          -0.03184368954282041,
          -0.030582505098512902,
          -0.029321320654205396,
          -0.02806013620989789,
          -0.026798951765590384,
          -0.025537767321282878,
          -0.024276582876975372,
          -0.023015398432667866,
          -0.02175421398836036,
          -0.020493029544052882,
          -0.019231845099745376,
          -0.01797066065543787,
          -0.016709476211130364,
          -0.015448291766822858,
          -0.014187107322515352,
          -0.012925922878207846,
          -0.01166473843390034,
          -0.010403553989592834,
          -0.009142369545285356,
          -0.00788118510097785,
          -0.006620000656670344,
          -0.005358816212362838,
          -0.004097631768055332,
          -0.002836447323747826,
          -0.00157526287944032,
          -0.0003140784351328141,
          0.0009471060091746919,
          0.00220829045348217,
          0.003469474897789676,
          0.004730659342097182,
          0.005991843786404688,
          0.007253028230712194,
          0.0085142126750197,
          0.009775397119327206,
          0.011036581563634712,
          0.012297766007942218,
          0.013558950452249696,
          0.014820134896557202,
          0.016081319340864708,
          0.017342503785172214,
          0.01860368822947972,
          0.019864872673787226,
          0.021126057118094732,
          0.022387241562402238,
          0.023648426006709744,
          0.024909610451017222,
          0.026170794895324728,
          0.027431979339632234,
          0.02869316378393974,
          0.029954348228247246,
          0.031215532672554752,
          0.03247671711686226,
          0.033737901561169764,
          0.03499908600547727,
          0.03626027044978475,
          0.037521454894092254,
          0.03878263933839976,
          0.040043823782707266,
          0.04130500822701477,
          0.04256619267132228,
          0.043827377115629784,
          0.04508856155993729,
          0.046349746004244796,
          0.0476109304485523,
          0.04887211489285978,
          0.050133299337167286,
          0.05139448378147479,
          0.0526556682257823,
          0.053916852670089804,
          0.05517803711439731,
          0.056439221558704816,
          0.05770040600301232,
          0.05896159044731983,
          0.060222774891627306,
          0.06148395933593481,
          0.06274514378024232,
          0.06400632822454982,
          0.06526751266885733,
          0.06652869711316484,
          0.06778988155747234,
          0.06905106600177985,
          0.07031225044608735,
          0.07157343489039483,
          0.07283461933470234,
          0.07409580377900984,
          0.07535698822331735,
          0.07661817266762486,
          0.07787935711193236,
          0.07914054155623987,
          0.08040172600054737,
          0.08166291044485488,
          0.08292409488916236,
          0.08418527933346986,
          0.08544646377777737
         ],
         "y": [
          0.012064556690613624,
          0.014789380476497953,
          0.018044344089072014,
          0.021912137698252357,
          0.02648384011457844,
          0.031858825691311425,
          0.038144437262881525,
          0.045455386669002756,
          0.053912846384842554,
          0.06364319965790582,
          0.07477642254557659,
          0.08744407948961201,
          0.10177692460295042,
          0.11790211361989493,
          0.13594004628909423,
          0.1560008755501035,
          0.17818073766796377,
          0.20255777600653346,
          0.22918804957228947,
          0.2581014350201839,
          0.2892976465675742,
          0.3227425112573176,
          0.3583646462994308,
          0.3960526899137295,
          0.43565323641918713,
          0.4769696196645745,
          0.5197616758860434,
          0.5637465975938007,
          0.6086009643150807,
          0.6539640044577235,
          0.6994421060341434,
          0.7446145536336312,
          0.789040426259176,
          0.8322665470811724,
          0.8738363335832564,
          0.9132993568319098,
          0.9502213835148362,
          0.9841946456678319,
          1.0148480621380336,
          1.041857124007333,
          1.064953154248371,
          1.0839316602089815,
          1.0986595160684247,
          1.1090807406704029,
          1.115220673165187,
          1.1171883933441376,
          1.1151772837558087,
          1.1094636847439845,
          1.1004036493911196,
          1.0884278608933198,
          1.0740348281069176,
          1.0577825240245229,
          1.0402786751374604,
          1.022169945709352,
          1.0041302889647168,
          0.9868487565056339,
          0.9710170677017358,
          0.9573172424981553,
          0.9464095945055906,
          0.9389213670828493,
          0.9354362742900024,
          0.9364851820951461,
          0.9425381341298364,
          0.9539978916731635,
          0.9711951204150554,
          0.9943853178312183,
          1.0237475355128822,
          1.0593849112390195,
          1.1013269865561832,
          1.1495337476533791,
          1.2039012908361884,
          1.2642689793314092,
          1.3304279259004597,
          1.4021306062332293,
          1.4791013817932388,
          1.5610476881877953,
          1.6476716267751388,
          1.7386816836444479,
          1.8338042918567794,
          1.9327949504179263,
          2.035448617290994,
          2.141609104151407,
          2.2511772176861373,
          2.3641174159968834,
          2.480462778820774,
          2.600318126337049,
          2.7238611625534896,
          2.8513415647071794,
          2.9830779886144407,
          3.119453010143569,
          3.2609060735231403,
          3.407924566537942,
          3.5610331893029623,
          3.7207818258065104,
          3.887732164464281,
          4.062443344401106,
          4.245456927183912,
          4.4372815086527675,
          4.638377292023048,
          4.849140941563348,
          5.069891026205517,
          5.30085434502386,
          5.542153402499688,
          5.793795271947908,
          6.055662051663982,
          6.327503081582986,
          6.608929049880808,
          6.899408080297762,
          7.198263853223061,
          7.504675777775035,
          7.81768119906554,
          8.13617959512821,
          8.45893869194656,
          8.784602402720166,
          9.111700478810514,
          9.438659744379066,
          9.76381677409649,
          10.085431862909443,
          10.401704128126942,
          10.710787576498896,
          11.010807962069036,
          11.29988025409696,
          11.57612652813388,
          11.837694087463273,
          12.082773616819491,
          12.3096171659714,
          12.516555757919262,
          12.702016415685922,
          12.864538403579049,
          13.002788483897207,
          13.115574998770702,
          13.201860599420346,
          13.260773461628592,
          13.291616846458393,
          13.293876888802538,
          13.267228522555165,
          13.211539479242164,
          13.12687232587105,
          13.013484536545223,
          12.871826620024184,
          12.702538350979005,
          12.50644317542631,
          12.28454088017497,
          12.037998631794805,
          11.768140502599516,
          11.476435609684753,
          11.164484998681026,
          10.834007407271017,
          10.48682404551349,
          10.12484253149179,
          9.750040122607427,
          9.364446385689579,
          8.970125453511956,
          8.569158021563634,
          8.163623246974039,
          7.755580720999465,
          7.347052696792762,
          6.940006764396537,
          6.536339173925942,
          6.1378590145310366,
          5.746273459727856,
          5.3631742879241795,
          4.990025879487132,
          4.628154877822482,
          4.278741681317924,
          3.9428139056878924,
          3.6212419226935673,
          3.3147365422414152,
          3.023848861685473,
          2.748972260265268,
          2.4903464697054947,
          2.2480636059006924,
          2.022076003132434,
          1.81220565314532,
          1.6181550181777657,
          1.4395189609631978,
          1.2757975167077207,
          1.1264092226504316,
          0.9907047201619512,
          0.8679803521831068,
          0.7574914945323689,
          0.6584653822859243,
          0.5701132208738816,
          0.4916414043774436,
          0.4222616992915026,
          0.3612002892497475,
          0.30770561346069847,
          0.26105496755434654,
          0.2205598690395515,
          0.1855702196781803,
          0.15547732308013124,
          0.12971583724100474,
          0.10776475834492676,
          0.08914754392275208,
          0.07343149056996726,
          0.060226484231530666,
          0.04918324002213061,
          0.03999114422842426,
          0.03237580414525066,
          0.026096402358456342
         ]
        },
        {
         "mode": "lines",
         "name": "Prediction Market",
         "type": "scatter",
         "x": [
          -0.3917345250543174,
          -0.3865747800729773,
          -0.38141503509163716,
          -0.37625529011029707,
          -0.3710955451289569,
          -0.36593580014761684,
          -0.36077605516627675,
          -0.3556163101849366,
          -0.3504565652035965,
          -0.3452968202222564,
          -0.3401370752409163,
          -0.3349773302595762,
          -0.32981758527823607,
          -0.324657840296896,
          -0.31949809531555584,
          -0.31433835033421575,
          -0.30917860535287567,
          -0.3040188603715355,
          -0.29885911539019544,
          -0.2936993704088553,
          -0.2885396254275152,
          -0.2833798804461751,
          -0.278220135464835,
          -0.2730603904834949,
          -0.26790064550215476,
          -0.26274090052081467,
          -0.2575811555394746,
          -0.25242141055813444,
          -0.24726166557679433,
          -0.2421019205954542,
          -0.23694217561411413,
          -0.231782430632774,
          -0.2266226856514339,
          -0.22146294067009378,
          -0.21630319568875367,
          -0.21114345070741358,
          -0.20598370572607347,
          -0.20082396074473335,
          -0.19566421576339324,
          -0.19050447078205313,
          -0.18534472580071304,
          -0.18018498081937293,
          -0.1750252358380328,
          -0.1698654908566927,
          -0.16470574587535258,
          -0.15954600089401247,
          -0.15438625591267238,
          -0.14922651093133227,
          -0.14406676594999215,
          -0.13890702096865204,
          -0.13374727598731195,
          -0.1285875310059718,
          -0.12342778602463172,
          -0.11826804104329158,
          -0.1131082960619515,
          -0.10794855108061141,
          -0.10278880609927127,
          -0.09762906111793118,
          -0.09246931613659104,
          -0.08730957115525095,
          -0.08214982617391087,
          -0.07699008119257073,
          -0.07183033621123064,
          -0.0666705912298905,
          -0.06151084624855041,
          -0.056351101267210324,
          -0.05119135628587018,
          -0.046031611304530096,
          -0.040871866323189954,
          -0.03571212134184987,
          -0.03055237636050978,
          -0.02539263137916964,
          -0.020232886397829553,
          -0.01507314141648941,
          -0.009913396435149324,
          -0.004753651453809238,
          0.0004060935275309041,
          0.0055658385088709905,
          0.010725583490211132,
          0.01588532847155122,
          0.021045073452891305,
          0.026204818434231447,
          0.031364563415571534,
          0.036524308396911676,
          0.04168405337825176,
          0.046843798359591904,
          0.05200354334093199,
          0.05716328832227208,
          0.06232303330361222,
          0.0674827782849523,
          0.07264252326629245,
          0.07780226824763253,
          0.08296201322897262,
          0.08812175821031276,
          0.09328150319165285,
          0.09844124817299299,
          0.10360099315433308,
          0.10876073813567322,
          0.1139204831170133,
          0.11908022809835339,
          0.12423997307969348,
          0.12939971806103368,
          0.13455946304237376,
          0.13971920802371385,
          0.14487895300505393,
          0.15003869798639402,
          0.15519844296773422,
          0.1603581879490743,
          0.1655179329304144,
          0.17067767791175448,
          0.17583742289309456,
          0.18099716787443476,
          0.18615691285577485,
          0.19131665783711493,
          0.19647640281845502,
          0.2016361477997951,
          0.2067958927811353,
          0.2119556377624754,
          0.21711538274381548,
          0.22227512772515556,
          0.22743487270649565,
          0.23259461768783585,
          0.23775436266917593,
          0.24291410765051602,
          0.2480738526318561,
          0.2532335976131962,
          0.2583933425945364,
          0.2635530875758765,
          0.26871283255721656,
          0.27387257753855665,
          0.27903232251989674,
          0.28419206750123693,
          0.289351812482577,
          0.2945115574639171,
          0.2996713024452572,
          0.3048310474265973,
          0.3099907924079375,
          0.31515053738927756,
          0.32031028237061765,
          0.32547002735195774,
          0.3306297723332978,
          0.335789517314638,
          0.3409492622959781,
          0.3461090072773182,
          0.3512687522586583,
          0.35642849723999837,
          0.36158824222133856,
          0.36674798720267865,
          0.37190773218401874,
          0.3770674771653588,
          0.3822272221466989,
          0.3873869671280391,
          0.3925467121093792,
          0.3977064570907193,
          0.40286620207205937,
          0.40802594705339945,
          0.41318569203473965,
          0.41834543701607974,
          0.4235051819974198,
          0.4286649269787599,
          0.4338246719601,
          0.4389844169414402,
          0.4441441619227803,
          0.44930390690412036,
          0.45446365188546045,
          0.45962339686680065,
          0.46478314184814074,
          0.4699428868294808,
          0.4751026318108209,
          0.480262376792161,
          0.4854221217735012,
          0.4905818667548413,
          0.49574161173618136,
          0.5009013567175215,
          0.5060611016988615,
          0.5112208466802017,
          0.5163805916615418,
          0.5215403366428819,
          0.526700081624222,
          0.5318598266055621,
          0.5370195715869023,
          0.5421793165682424,
          0.5473390615495825,
          0.5524988065309225,
          0.5576585515122626,
          0.5628182964936028,
          0.5679780414749429,
          0.573137786456283,
          0.5782975314376231,
          0.5834572764189632,
          0.5886170214003034,
          0.5937767663816435,
          0.5989365113629835,
          0.6040962563443236,
          0.6092560013256638,
          0.6144157463070039,
          0.619575491288344,
          0.6247352362696841,
          0.6298949812510242,
          0.6350547262323644
         ],
         "y": [
          0.0034636586843387884,
          0.00424117193694191,
          0.005173073772599867,
          0.006285369529905917,
          0.007607465294885823,
          0.009172424892040986,
          0.011017212157867398,
          0.013182911081218104,
          0.015714915755197345,
          0.018663081584723955,
          0.022081828870481986,
          0.026030189780137214,
          0.030571789854456726,
          0.03577475560691903,
          0.04171154048077081,
          0.04845866243823734,
          0.05609634777287348,
          0.06470807734586771,
          0.0743800333256814,
          0.08520044661985288,
          0.09725884747770742,
          0.11064522415132412,
          0.12544909695813736,
          0.14175851751383844,
          0.15965900521682122,
          0.17923243518313112,
          0.20055589367524376,
          0.2237005185680976,
          0.2487303434920098,
          0.27570116493951635,
          0.30465945179413745,
          0.3356413164252214,
          0.36867156570591986,
          0.4037628490823439,
          0.4409149192005632,
          0.48011401864951625,
          0.5213324041792592,
          0.5645280173899444,
          0.6096443084446231,
          0.6566102169227156,
          0.7053403115770187,
          0.7557350885488929,
          0.8076814255804876,
          0.8610531879667767,
          0.9157119804199705,
          0.9715080376601312,
          1.0282812453650145,
          1.085862282060274,
          1.144073871548358,
          1.2027321344961732,
          1.2616480267652588,
          1.3206288509204114,
          1.3794798260558816,
          1.4380056996172628,
          1.4960123832837942,
          1.5533085932523298,
          1.6097074735042194,
          1.6650281789437293,
          1.7190973938014393,
          1.771750759548458,
          1.8228341859289219,
          1.872205018751603,
          1.9197330389384,
          1.9653012691363592,
          2.0088065670535937,
          2.0501599886237343,
          2.0892869091274457,
          2.1261268964288016,
          2.1606333373770488,
          2.1927728259721433,
          2.2225243298241972,
          2.2498781594280275,
          2.2748347724589864,
          2.2974034522859705,
          2.3176009057986406,
          2.335449830082866,
          2.350977500116296,
          2.364214430222732,
          2.3751931603313277,
          2.383947214047355,
          2.390510269182446,
          2.394915572862637,
          2.3971956229039795,
          2.3973821252067418,
          2.3955062239634834,
          2.391598988081294,
          2.3856921240209195,
          2.3778188729204737,
          2.36801503905796,
          2.356320088032512,
          2.342778247049278,
          2.327439536807011,
          2.3103606650013995,
          2.291605715499613,
          2.2712465747650947,
          2.2493630478866646,
          2.2260426301854435,
          2.201379916266365,
          2.175475645837995,
          2.148435403827777,
          2.120368010384668,
          2.0913836533793373,
          2.0615918310995545,
          2.031099185182219,
          2.000007312726924,
          1.9684106514574835,
          1.936394532383707,
          1.90403349052195,
          1.8713899159374487,
          1.8385131149736789,
          1.8054388355431157,
          1.7721892914656492,
          1.7387736999043413,
          1.7051893239235036,
          1.6714229901051683,
          1.637453030042908,
          1.6032515753831347,
          1.5687871198099932,
          1.5340272487426598,
          1.4989414291324274,
          1.4635037480087822,
          1.4276954895066807,
          1.3915074459621226,
          1.354941869018691,
          1.3180139810659592,
          1.2807529850724915,
          1.243202531175588,
          1.2054206203344173,
          1.1674789479685121,
          1.1294617128008742,
          1.0914639371461528,
          1.0535893637469211,
          1.015948010195458,
          0.978653474361329,
          0.9418200926232381,
          0.9055600568099272,
          0.8699805955149355,
          0.8351813209796074,
          0.8012518343329126,
          0.768269670091091,
          0.736298646045427,
          0.7053876676980837,
          0.67557001800959,
          0.6468631441977397,
          0.6192689344750852,
          0.5927744596932379,
          0.5673531385711956,
          0.5429662711204895,
          0.519564873522956,
          0.4970917394143818,
          0.47548364748270067,
          0.4546736335605472,
          0.43459324689426476,
          0.4151747147885231,
          0.3963529470248178,
          0.37806732090425527,
          0.36026319896863856,
          0.3428931438603584,
          0.3259178078220793,
          0.3093064874486686,
          0.2930373469535455,
          0.2770973249191943,
          0.2614817498569107,
          0.24619369857805293,
          0.23124313814570813,
          0.21664589689671396,
          0.20242251266126587,
          0.18859700691434825,
          0.17519563230592516,
          0.16224563804118136,
          0.14977409317940968,
          0.1378068023905649,
          0.12636734237430589,
          0.11547624033537582,
          0.10515030893938543,
          0.0954021453391287,
          0.08623979542355666,
          0.07766657861654323,
          0.06968106350916185,
          0.062277180464639974,
          0.055444454155742603,
          0.04916833679771892,
          0.04343062159995524,
          0.038209915612280106,
          0.03348215159334883,
          0.02922111966227357,
          0.02539900117994922,
          0.021986889406164997,
          0.018955283855956146,
          0.01627454780378947,
          0.013915320938825321,
          0.011848881655760866,
          0.010047455788588322,
          0.008484470693040218,
          0.0071347554107819375,
          0.005974689176215294,
          0.004982301743547574,
          0.004137329920729969,
          0.0034212353133193326,
          0.0028171886301172192
         ]
        }
       ],
       "layout": {
        "showlegend": true,
        "template": {
         "data": {
          "bar": [
           {
            "error_x": {
             "color": "#2a3f5f"
            },
            "error_y": {
             "color": "#2a3f5f"
            },
            "marker": {
             "line": {
              "color": "#E5ECF6",
              "width": 0.5
             },
             "pattern": {
              "fillmode": "overlay",
              "size": 10,
              "solidity": 0.2
             }
            },
            "type": "bar"
           }
          ],
          "barpolar": [
           {
            "marker": {
             "line": {
              "color": "#E5ECF6",
              "width": 0.5
             },
             "pattern": {
              "fillmode": "overlay",
              "size": 10,
              "solidity": 0.2
             }
            },
            "type": "barpolar"
           }
          ],
          "carpet": [
           {
            "aaxis": {
             "endlinecolor": "#2a3f5f",
             "gridcolor": "white",
             "linecolor": "white",
             "minorgridcolor": "white",
             "startlinecolor": "#2a3f5f"
            },
            "baxis": {
             "endlinecolor": "#2a3f5f",
             "gridcolor": "white",
             "linecolor": "white",
             "minorgridcolor": "white",
             "startlinecolor": "#2a3f5f"
            },
            "type": "carpet"
           }
          ],
          "choropleth": [
           {
            "colorbar": {
             "outlinewidth": 0,
             "ticks": ""
            },
            "type": "choropleth"
           }
          ],
          "contour": [
           {
            "colorbar": {
             "outlinewidth": 0,
             "ticks": ""
            },
            "colorscale": [
             [
              0,
              "#0d0887"
             ],
             [
              0.1111111111111111,
              "#46039f"
             ],
             [
              0.2222222222222222,
              "#7201a8"
             ],
             [
              0.3333333333333333,
              "#9c179e"
             ],
             [
              0.4444444444444444,
              "#bd3786"
             ],
             [
              0.5555555555555556,
              "#d8576b"
             ],
             [
              0.6666666666666666,
              "#ed7953"
             ],
             [
              0.7777777777777778,
              "#fb9f3a"
             ],
             [
              0.8888888888888888,
              "#fdca26"
             ],
             [
              1,
              "#f0f921"
             ]
            ],
            "type": "contour"
           }
          ],
          "contourcarpet": [
           {
            "colorbar": {
             "outlinewidth": 0,
             "ticks": ""
            },
            "type": "contourcarpet"
           }
          ],
          "heatmap": [
           {
            "colorbar": {
             "outlinewidth": 0,
             "ticks": ""
            },
            "colorscale": [
             [
              0,
              "#0d0887"
             ],
             [
              0.1111111111111111,
              "#46039f"
             ],
             [
              0.2222222222222222,
              "#7201a8"
             ],
             [
              0.3333333333333333,
              "#9c179e"
             ],
             [
              0.4444444444444444,
              "#bd3786"
             ],
             [
              0.5555555555555556,
              "#d8576b"
             ],
             [
              0.6666666666666666,
              "#ed7953"
             ],
             [
              0.7777777777777778,
              "#fb9f3a"
             ],
             [
              0.8888888888888888,
              "#fdca26"
             ],
             [
              1,
              "#f0f921"
             ]
            ],
            "type": "heatmap"
           }
          ],
          "heatmapgl": [
           {
            "colorbar": {
             "outlinewidth": 0,
             "ticks": ""
            },
            "colorscale": [
             [
              0,
              "#0d0887"
             ],
             [
              0.1111111111111111,
              "#46039f"
             ],
             [
              0.2222222222222222,
              "#7201a8"
             ],
             [
              0.3333333333333333,
              "#9c179e"
             ],
             [
              0.4444444444444444,
              "#bd3786"
             ],
             [
              0.5555555555555556,
              "#d8576b"
             ],
             [
              0.6666666666666666,
              "#ed7953"
             ],
             [
              0.7777777777777778,
              "#fb9f3a"
             ],
             [
              0.8888888888888888,
              "#fdca26"
             ],
             [
              1,
              "#f0f921"
             ]
            ],
            "type": "heatmapgl"
           }
          ],
          "histogram": [
           {
            "marker": {
             "pattern": {
              "fillmode": "overlay",
              "size": 10,
              "solidity": 0.2
             }
            },
            "type": "histogram"
           }
          ],
          "histogram2d": [
           {
            "colorbar": {
             "outlinewidth": 0,
             "ticks": ""
            },
            "colorscale": [
             [
              0,
              "#0d0887"
             ],
             [
              0.1111111111111111,
              "#46039f"
             ],
             [
              0.2222222222222222,
              "#7201a8"
             ],
             [
              0.3333333333333333,
              "#9c179e"
             ],
             [
              0.4444444444444444,
              "#bd3786"
             ],
             [
              0.5555555555555556,
              "#d8576b"
             ],
             [
              0.6666666666666666,
              "#ed7953"
             ],
             [
              0.7777777777777778,
              "#fb9f3a"
             ],
             [
              0.8888888888888888,
              "#fdca26"
             ],
             [
              1,
              "#f0f921"
             ]
            ],
            "type": "histogram2d"
           }
          ],
          "histogram2dcontour": [
           {
            "colorbar": {
             "outlinewidth": 0,
             "ticks": ""
            },
            "colorscale": [
             [
              0,
              "#0d0887"
             ],
             [
              0.1111111111111111,
              "#46039f"
             ],
             [
              0.2222222222222222,
              "#7201a8"
             ],
             [
              0.3333333333333333,
              "#9c179e"
             ],
             [
              0.4444444444444444,
              "#bd3786"
             ],
             [
              0.5555555555555556,
              "#d8576b"
             ],
             [
              0.6666666666666666,
              "#ed7953"
             ],
             [
              0.7777777777777778,
              "#fb9f3a"
             ],
             [
              0.8888888888888888,
              "#fdca26"
             ],
             [
              1,
              "#f0f921"
             ]
            ],
            "type": "histogram2dcontour"
           }
          ],
          "mesh3d": [
           {
            "colorbar": {
             "outlinewidth": 0,
             "ticks": ""
            },
            "type": "mesh3d"
           }
          ],
          "parcoords": [
           {
            "line": {
             "colorbar": {
              "outlinewidth": 0,
              "ticks": ""
             }
            },
            "type": "parcoords"
           }
          ],
          "pie": [
           {
            "automargin": true,
            "type": "pie"
           }
          ],
          "scatter": [
           {
            "fillpattern": {
             "fillmode": "overlay",
             "size": 10,
             "solidity": 0.2
            },
            "type": "scatter"
           }
          ],
          "scatter3d": [
           {
            "line": {
             "colorbar": {
              "outlinewidth": 0,
              "ticks": ""
             }
            },
            "marker": {
             "colorbar": {
              "outlinewidth": 0,
              "ticks": ""
             }
            },
            "type": "scatter3d"
           }
          ],
          "scattercarpet": [
           {
            "marker": {
             "colorbar": {
              "outlinewidth": 0,
              "ticks": ""
             }
            },
            "type": "scattercarpet"
           }
          ],
          "scattergeo": [
           {
            "marker": {
             "colorbar": {
              "outlinewidth": 0,
              "ticks": ""
             }
            },
            "type": "scattergeo"
           }
          ],
          "scattergl": [
           {
            "marker": {
             "colorbar": {
              "outlinewidth": 0,
              "ticks": ""
             }
            },
            "type": "scattergl"
           }
          ],
          "scattermapbox": [
           {
            "marker": {
             "colorbar": {
              "outlinewidth": 0,
              "ticks": ""
             }
            },
            "type": "scattermapbox"
           }
          ],
          "scatterpolar": [
           {
            "marker": {
             "colorbar": {
              "outlinewidth": 0,
              "ticks": ""
             }
            },
            "type": "scatterpolar"
           }
          ],
          "scatterpolargl": [
           {
            "marker": {
             "colorbar": {
              "outlinewidth": 0,
              "ticks": ""
             }
            },
            "type": "scatterpolargl"
           }
          ],
          "scatterternary": [
           {
            "marker": {
             "colorbar": {
              "outlinewidth": 0,
              "ticks": ""
             }
            },
            "type": "scatterternary"
           }
          ],
          "surface": [
           {
            "colorbar": {
             "outlinewidth": 0,
             "ticks": ""
            },
            "colorscale": [
             [
              0,
              "#0d0887"
             ],
             [
              0.1111111111111111,
              "#46039f"
             ],
             [
              0.2222222222222222,
              "#7201a8"
             ],
             [
              0.3333333333333333,
              "#9c179e"
             ],
             [
              0.4444444444444444,
              "#bd3786"
             ],
             [
              0.5555555555555556,
              "#d8576b"
             ],
             [
              0.6666666666666666,
              "#ed7953"
             ],
             [
              0.7777777777777778,
              "#fb9f3a"
             ],
             [
              0.8888888888888888,
              "#fdca26"
             ],
             [
              1,
              "#f0f921"
             ]
            ],
            "type": "surface"
           }
          ],
          "table": [
           {
            "cells": {
             "fill": {
              "color": "#EBF0F8"
             },
             "line": {
              "color": "white"
             }
            },
            "header": {
             "fill": {
              "color": "#C8D4E3"
             },
             "line": {
              "color": "white"
             }
            },
            "type": "table"
           }
          ]
         },
         "layout": {
          "annotationdefaults": {
           "arrowcolor": "#2a3f5f",
           "arrowhead": 0,
           "arrowwidth": 1
          },
          "autotypenumbers": "strict",
          "coloraxis": {
           "colorbar": {
            "outlinewidth": 0,
            "ticks": ""
           }
          },
          "colorscale": {
           "diverging": [
            [
             0,
             "#8e0152"
            ],
            [
             0.1,
             "#c51b7d"
            ],
            [
             0.2,
             "#de77ae"
            ],
            [
             0.3,
             "#f1b6da"
            ],
            [
             0.4,
             "#fde0ef"
            ],
            [
             0.5,
             "#f7f7f7"
            ],
            [
             0.6,
             "#e6f5d0"
            ],
            [
             0.7,
             "#b8e186"
            ],
            [
             0.8,
             "#7fbc41"
            ],
            [
             0.9,
             "#4d9221"
            ],
            [
             1,
             "#276419"
            ]
           ],
           "sequential": [
            [
             0,
             "#0d0887"
            ],
            [
             0.1111111111111111,
             "#46039f"
            ],
            [
             0.2222222222222222,
             "#7201a8"
            ],
            [
             0.3333333333333333,
             "#9c179e"
            ],
            [
             0.4444444444444444,
             "#bd3786"
            ],
            [
             0.5555555555555556,
             "#d8576b"
            ],
            [
             0.6666666666666666,
             "#ed7953"
            ],
            [
             0.7777777777777778,
             "#fb9f3a"
            ],
            [
             0.8888888888888888,
             "#fdca26"
            ],
            [
             1,
             "#f0f921"
            ]
           ],
           "sequentialminus": [
            [
             0,
             "#0d0887"
            ],
            [
             0.1111111111111111,
             "#46039f"
            ],
            [
             0.2222222222222222,
             "#7201a8"
            ],
            [
             0.3333333333333333,
             "#9c179e"
            ],
            [
             0.4444444444444444,
             "#bd3786"
            ],
            [
             0.5555555555555556,
             "#d8576b"
            ],
            [
             0.6666666666666666,
             "#ed7953"
            ],
            [
             0.7777777777777778,
             "#fb9f3a"
            ],
            [
             0.8888888888888888,
             "#fdca26"
            ],
            [
             1,
             "#f0f921"
            ]
           ]
          },
          "colorway": [
           "#636efa",
           "#EF553B",
           "#00cc96",
           "#ab63fa",
           "#FFA15A",
           "#19d3f3",
           "#FF6692",
           "#B6E880",
           "#FF97FF",
           "#FECB52"
          ],
          "font": {
           "color": "#2a3f5f"
          },
          "geo": {
           "bgcolor": "white",
           "lakecolor": "white",
           "landcolor": "#E5ECF6",
           "showlakes": true,
           "showland": true,
           "subunitcolor": "white"
          },
          "hoverlabel": {
           "align": "left"
          },
          "hovermode": "closest",
          "mapbox": {
           "style": "light"
          },
          "paper_bgcolor": "white",
          "plot_bgcolor": "#E5ECF6",
          "polar": {
           "angularaxis": {
            "gridcolor": "white",
            "linecolor": "white",
            "ticks": ""
           },
           "bgcolor": "#E5ECF6",
           "radialaxis": {
            "gridcolor": "white",
            "linecolor": "white",
            "ticks": ""
           }
          },
          "scene": {
           "xaxis": {
            "backgroundcolor": "#E5ECF6",
            "gridcolor": "white",
            "gridwidth": 2,
            "linecolor": "white",
            "showbackground": true,
            "ticks": "",
            "zerolinecolor": "white"
           },
           "yaxis": {
            "backgroundcolor": "#E5ECF6",
            "gridcolor": "white",
            "gridwidth": 2,
            "linecolor": "white",
            "showbackground": true,
            "ticks": "",
            "zerolinecolor": "white"
           },
           "zaxis": {
            "backgroundcolor": "#E5ECF6",
            "gridcolor": "white",
            "gridwidth": 2,
            "linecolor": "white",
            "showbackground": true,
            "ticks": "",
            "zerolinecolor": "white"
           }
          },
          "shapedefaults": {
           "line": {
            "color": "#2a3f5f"
           }
          },
          "ternary": {
           "aaxis": {
            "gridcolor": "white",
            "linecolor": "white",
            "ticks": ""
           },
           "baxis": {
            "gridcolor": "white",
            "linecolor": "white",
            "ticks": ""
           },
           "bgcolor": "#E5ECF6",
           "caxis": {
            "gridcolor": "white",
            "linecolor": "white",
            "ticks": ""
           }
          },
          "title": {
           "x": 0.05
          },
          "xaxis": {
           "automargin": true,
           "gridcolor": "white",
           "linecolor": "white",
           "ticks": "",
           "title": {
            "standoff": 15
           },
           "zerolinecolor": "white",
           "zerolinewidth": 2
          },
          "yaxis": {
           "automargin": true,
           "gridcolor": "white",
           "linecolor": "white",
           "ticks": "",
           "title": {
            "standoff": 15
           },
           "zerolinecolor": "white",
           "zerolinewidth": 2
          }
         }
        },
        "xaxis": {
         "title": {
          "text": "pct change Value"
         }
        },
        "yaxis": {
         "title": {
          "text": "Density"
         }
        }
       }
      }
     },
     "metadata": {},
     "output_type": "display_data"
    }
   ],
   "source": [
    "\n",
    "# Create Plotly figure\n",
    "fig = plgo.Figure()\n",
    "\n",
    "# Add KDE line\n",
    "fig.add_trace(plgo.Scatter(x=brent_x_values, y=brent_kde_values, mode='lines', name='Brent'))\n",
    "fig.add_trace(plgo.Scatter(x=wti_x_values, y=wti_kde_values, mode='lines', name='WTI'))\n",
    "fig.add_trace(plgo.Scatter(x=henry_x_values, y=henry_kde_values, mode='lines', name='Henry'))\n",
    "fig.add_trace(plgo.Scatter(x=probs_x_values, y=probs_kde_values, mode='lines', name='Prediction Market'))\n",
    "\n",
    "# Update layout\n",
    "#title='Kernel Density Estimate (KDE) of Commodities and Prediction Market Values',\n",
    "fig.update_layout(xaxis=dict(title='pct change Value'),\n",
    "                  yaxis=dict(title='Density'),\n",
    "                  showlegend=True)\n",
    "\n",
    "# Show plot\n",
    "fig.show()"
   ]
  },
  {
   "cell_type": "code",
   "execution_count": 70,
   "metadata": {},
   "outputs": [
    {
     "data": {
      "application/vnd.plotly.v1+json": {
       "config": {
        "plotlyServerURL": "https://plot.ly"
       },
       "data": [
        {
         "mode": "lines",
         "name": "Brent",
         "type": "scatter",
         "x": [
          -0.018964338793578173,
          -0.01791827504790522,
          -0.015917047286491126,
          -0.012200188857412697,
          -0.010993783323231088,
          -0.01065022421524664,
          -0.009725196288365434,
          -0.006205639596205126,
          -0.004524861305023831,
          -0.0038844691153726574,
          -0.0030384194665652453,
          -0.0016262556734658595,
          -0.0010255539087218324,
          0.0010699614939522206,
          0.0017707350014042333,
          0.002025064463122117,
          0.0020301262194006853,
          0.0033614375133421692,
          0.005693477306118577,
          0.007798743658969487,
          null
         ],
         "y": [
          0.047619047619047616,
          0.09523809523809523,
          0.14285714285714285,
          0.19047619047619047,
          0.23809523809523808,
          0.2857142857142857,
          0.3333333333333333,
          0.38095238095238093,
          0.42857142857142855,
          0.47619047619047616,
          0.5238095238095238,
          0.5714285714285714,
          0.6190476190476191,
          0.6666666666666666,
          0.7142857142857143,
          0.7619047619047619,
          0.8095238095238095,
          0.8571428571428571,
          0.9047619047619048,
          0.9523809523809523,
          1
         ]
        },
        {
         "mode": "lines",
         "name": "WTI",
         "type": "scatter",
         "x": [
          -0.020118690191267885,
          -0.01989104901549843,
          -0.016820721467894595,
          -0.013314517920374302,
          -0.011661242832790908,
          -0.011622893767081255,
          -0.011340060562721188,
          -0.01051258776542674,
          -0.007198251194418748,
          -0.007082850935708929,
          -0.006446494799918212,
          -0.003417506390861913,
          -0.0030117506882408884,
          -0.0006071491787749128,
          0.0003497445376601238,
          0.0014545733772364233,
          0.0019309900380937162,
          0.0029048990538427244,
          0.005512565533973612,
          0.006691537785052493,
          null
         ],
         "y": [
          0.047619047619047616,
          0.09523809523809523,
          0.14285714285714285,
          0.19047619047619047,
          0.23809523809523808,
          0.2857142857142857,
          0.3333333333333333,
          0.38095238095238093,
          0.42857142857142855,
          0.47619047619047616,
          0.5238095238095238,
          0.5714285714285714,
          0.6190476190476191,
          0.6666666666666666,
          0.7142857142857143,
          0.7619047619047619,
          0.8095238095238095,
          0.8571428571428571,
          0.9047619047619048,
          0.9523809523809523,
          1
         ]
        },
        {
         "mode": "lines",
         "name": "Henry",
         "type": "scatter",
         "x": [
          -0.11042720616676371,
          -0.06020483806472832,
          -0.04483843269197074,
          -0.02917031402349546,
          -0.02051955407945205,
          -0.019545820324005758,
          -0.011867964128982944,
          -0.007201646090534863,
          -0.006934970441109578,
          -0.002415810751671299,
          -0.0008692247726946878,
          0.004258515351115655,
          0.006428838990973018,
          0.009619348955091755,
          0.009737156402572555,
          0.012780656303972515,
          0.01812599801607484,
          0.02331058321966384,
          0.027948899571386132,
          0.030344429305125376,
          null
         ],
         "y": [
          0.047619047619047616,
          0.09523809523809523,
          0.14285714285714285,
          0.19047619047619047,
          0.23809523809523808,
          0.2857142857142857,
          0.3333333333333333,
          0.38095238095238093,
          0.42857142857142855,
          0.47619047619047616,
          0.5238095238095238,
          0.5714285714285714,
          0.6190476190476191,
          0.6666666666666666,
          0.7142857142857143,
          0.7619047619047619,
          0.8095238095238095,
          0.8571428571428571,
          0.9047619047619048,
          0.9523809523809523,
          1
         ]
        },
        {
         "mode": "lines",
         "name": "Prediction Market",
         "type": "scatter",
         "x": [
          -0.15470939919631477,
          -0.1115813477109785,
          -0.08242277080803984,
          -0.06611126820815116,
          -0.03519441524747047,
          -0.0286949685534591,
          -0.0063172387377944395,
          0.0060852099603869725,
          0.033157357442836766,
          0.06221362183410495,
          0.07479498845843802,
          0.09612002638581929,
          0.11003910955452678,
          0.13354938846591113,
          0.13508861712637787,
          0.21402968105006992,
          0.22202349952262979,
          0.24329660015002386,
          0.28082261290893107,
          0.39802960037436175,
          null
         ],
         "y": [
          0.047619047619047616,
          0.09523809523809523,
          0.14285714285714285,
          0.19047619047619047,
          0.23809523809523808,
          0.2857142857142857,
          0.3333333333333333,
          0.38095238095238093,
          0.42857142857142855,
          0.47619047619047616,
          0.5238095238095238,
          0.5714285714285714,
          0.6190476190476191,
          0.6666666666666666,
          0.7142857142857143,
          0.7619047619047619,
          0.8095238095238095,
          0.8571428571428571,
          0.9047619047619048,
          0.9523809523809523,
          1
         ]
        }
       ],
       "layout": {
        "showlegend": true,
        "template": {
         "data": {
          "bar": [
           {
            "error_x": {
             "color": "#2a3f5f"
            },
            "error_y": {
             "color": "#2a3f5f"
            },
            "marker": {
             "line": {
              "color": "#E5ECF6",
              "width": 0.5
             },
             "pattern": {
              "fillmode": "overlay",
              "size": 10,
              "solidity": 0.2
             }
            },
            "type": "bar"
           }
          ],
          "barpolar": [
           {
            "marker": {
             "line": {
              "color": "#E5ECF6",
              "width": 0.5
             },
             "pattern": {
              "fillmode": "overlay",
              "size": 10,
              "solidity": 0.2
             }
            },
            "type": "barpolar"
           }
          ],
          "carpet": [
           {
            "aaxis": {
             "endlinecolor": "#2a3f5f",
             "gridcolor": "white",
             "linecolor": "white",
             "minorgridcolor": "white",
             "startlinecolor": "#2a3f5f"
            },
            "baxis": {
             "endlinecolor": "#2a3f5f",
             "gridcolor": "white",
             "linecolor": "white",
             "minorgridcolor": "white",
             "startlinecolor": "#2a3f5f"
            },
            "type": "carpet"
           }
          ],
          "choropleth": [
           {
            "colorbar": {
             "outlinewidth": 0,
             "ticks": ""
            },
            "type": "choropleth"
           }
          ],
          "contour": [
           {
            "colorbar": {
             "outlinewidth": 0,
             "ticks": ""
            },
            "colorscale": [
             [
              0,
              "#0d0887"
             ],
             [
              0.1111111111111111,
              "#46039f"
             ],
             [
              0.2222222222222222,
              "#7201a8"
             ],
             [
              0.3333333333333333,
              "#9c179e"
             ],
             [
              0.4444444444444444,
              "#bd3786"
             ],
             [
              0.5555555555555556,
              "#d8576b"
             ],
             [
              0.6666666666666666,
              "#ed7953"
             ],
             [
              0.7777777777777778,
              "#fb9f3a"
             ],
             [
              0.8888888888888888,
              "#fdca26"
             ],
             [
              1,
              "#f0f921"
             ]
            ],
            "type": "contour"
           }
          ],
          "contourcarpet": [
           {
            "colorbar": {
             "outlinewidth": 0,
             "ticks": ""
            },
            "type": "contourcarpet"
           }
          ],
          "heatmap": [
           {
            "colorbar": {
             "outlinewidth": 0,
             "ticks": ""
            },
            "colorscale": [
             [
              0,
              "#0d0887"
             ],
             [
              0.1111111111111111,
              "#46039f"
             ],
             [
              0.2222222222222222,
              "#7201a8"
             ],
             [
              0.3333333333333333,
              "#9c179e"
             ],
             [
              0.4444444444444444,
              "#bd3786"
             ],
             [
              0.5555555555555556,
              "#d8576b"
             ],
             [
              0.6666666666666666,
              "#ed7953"
             ],
             [
              0.7777777777777778,
              "#fb9f3a"
             ],
             [
              0.8888888888888888,
              "#fdca26"
             ],
             [
              1,
              "#f0f921"
             ]
            ],
            "type": "heatmap"
           }
          ],
          "heatmapgl": [
           {
            "colorbar": {
             "outlinewidth": 0,
             "ticks": ""
            },
            "colorscale": [
             [
              0,
              "#0d0887"
             ],
             [
              0.1111111111111111,
              "#46039f"
             ],
             [
              0.2222222222222222,
              "#7201a8"
             ],
             [
              0.3333333333333333,
              "#9c179e"
             ],
             [
              0.4444444444444444,
              "#bd3786"
             ],
             [
              0.5555555555555556,
              "#d8576b"
             ],
             [
              0.6666666666666666,
              "#ed7953"
             ],
             [
              0.7777777777777778,
              "#fb9f3a"
             ],
             [
              0.8888888888888888,
              "#fdca26"
             ],
             [
              1,
              "#f0f921"
             ]
            ],
            "type": "heatmapgl"
           }
          ],
          "histogram": [
           {
            "marker": {
             "pattern": {
              "fillmode": "overlay",
              "size": 10,
              "solidity": 0.2
             }
            },
            "type": "histogram"
           }
          ],
          "histogram2d": [
           {
            "colorbar": {
             "outlinewidth": 0,
             "ticks": ""
            },
            "colorscale": [
             [
              0,
              "#0d0887"
             ],
             [
              0.1111111111111111,
              "#46039f"
             ],
             [
              0.2222222222222222,
              "#7201a8"
             ],
             [
              0.3333333333333333,
              "#9c179e"
             ],
             [
              0.4444444444444444,
              "#bd3786"
             ],
             [
              0.5555555555555556,
              "#d8576b"
             ],
             [
              0.6666666666666666,
              "#ed7953"
             ],
             [
              0.7777777777777778,
              "#fb9f3a"
             ],
             [
              0.8888888888888888,
              "#fdca26"
             ],
             [
              1,
              "#f0f921"
             ]
            ],
            "type": "histogram2d"
           }
          ],
          "histogram2dcontour": [
           {
            "colorbar": {
             "outlinewidth": 0,
             "ticks": ""
            },
            "colorscale": [
             [
              0,
              "#0d0887"
             ],
             [
              0.1111111111111111,
              "#46039f"
             ],
             [
              0.2222222222222222,
              "#7201a8"
             ],
             [
              0.3333333333333333,
              "#9c179e"
             ],
             [
              0.4444444444444444,
              "#bd3786"
             ],
             [
              0.5555555555555556,
              "#d8576b"
             ],
             [
              0.6666666666666666,
              "#ed7953"
             ],
             [
              0.7777777777777778,
              "#fb9f3a"
             ],
             [
              0.8888888888888888,
              "#fdca26"
             ],
             [
              1,
              "#f0f921"
             ]
            ],
            "type": "histogram2dcontour"
           }
          ],
          "mesh3d": [
           {
            "colorbar": {
             "outlinewidth": 0,
             "ticks": ""
            },
            "type": "mesh3d"
           }
          ],
          "parcoords": [
           {
            "line": {
             "colorbar": {
              "outlinewidth": 0,
              "ticks": ""
             }
            },
            "type": "parcoords"
           }
          ],
          "pie": [
           {
            "automargin": true,
            "type": "pie"
           }
          ],
          "scatter": [
           {
            "fillpattern": {
             "fillmode": "overlay",
             "size": 10,
             "solidity": 0.2
            },
            "type": "scatter"
           }
          ],
          "scatter3d": [
           {
            "line": {
             "colorbar": {
              "outlinewidth": 0,
              "ticks": ""
             }
            },
            "marker": {
             "colorbar": {
              "outlinewidth": 0,
              "ticks": ""
             }
            },
            "type": "scatter3d"
           }
          ],
          "scattercarpet": [
           {
            "marker": {
             "colorbar": {
              "outlinewidth": 0,
              "ticks": ""
             }
            },
            "type": "scattercarpet"
           }
          ],
          "scattergeo": [
           {
            "marker": {
             "colorbar": {
              "outlinewidth": 0,
              "ticks": ""
             }
            },
            "type": "scattergeo"
           }
          ],
          "scattergl": [
           {
            "marker": {
             "colorbar": {
              "outlinewidth": 0,
              "ticks": ""
             }
            },
            "type": "scattergl"
           }
          ],
          "scattermapbox": [
           {
            "marker": {
             "colorbar": {
              "outlinewidth": 0,
              "ticks": ""
             }
            },
            "type": "scattermapbox"
           }
          ],
          "scatterpolar": [
           {
            "marker": {
             "colorbar": {
              "outlinewidth": 0,
              "ticks": ""
             }
            },
            "type": "scatterpolar"
           }
          ],
          "scatterpolargl": [
           {
            "marker": {
             "colorbar": {
              "outlinewidth": 0,
              "ticks": ""
             }
            },
            "type": "scatterpolargl"
           }
          ],
          "scatterternary": [
           {
            "marker": {
             "colorbar": {
              "outlinewidth": 0,
              "ticks": ""
             }
            },
            "type": "scatterternary"
           }
          ],
          "surface": [
           {
            "colorbar": {
             "outlinewidth": 0,
             "ticks": ""
            },
            "colorscale": [
             [
              0,
              "#0d0887"
             ],
             [
              0.1111111111111111,
              "#46039f"
             ],
             [
              0.2222222222222222,
              "#7201a8"
             ],
             [
              0.3333333333333333,
              "#9c179e"
             ],
             [
              0.4444444444444444,
              "#bd3786"
             ],
             [
              0.5555555555555556,
              "#d8576b"
             ],
             [
              0.6666666666666666,
              "#ed7953"
             ],
             [
              0.7777777777777778,
              "#fb9f3a"
             ],
             [
              0.8888888888888888,
              "#fdca26"
             ],
             [
              1,
              "#f0f921"
             ]
            ],
            "type": "surface"
           }
          ],
          "table": [
           {
            "cells": {
             "fill": {
              "color": "#EBF0F8"
             },
             "line": {
              "color": "white"
             }
            },
            "header": {
             "fill": {
              "color": "#C8D4E3"
             },
             "line": {
              "color": "white"
             }
            },
            "type": "table"
           }
          ]
         },
         "layout": {
          "annotationdefaults": {
           "arrowcolor": "#2a3f5f",
           "arrowhead": 0,
           "arrowwidth": 1
          },
          "autotypenumbers": "strict",
          "coloraxis": {
           "colorbar": {
            "outlinewidth": 0,
            "ticks": ""
           }
          },
          "colorscale": {
           "diverging": [
            [
             0,
             "#8e0152"
            ],
            [
             0.1,
             "#c51b7d"
            ],
            [
             0.2,
             "#de77ae"
            ],
            [
             0.3,
             "#f1b6da"
            ],
            [
             0.4,
             "#fde0ef"
            ],
            [
             0.5,
             "#f7f7f7"
            ],
            [
             0.6,
             "#e6f5d0"
            ],
            [
             0.7,
             "#b8e186"
            ],
            [
             0.8,
             "#7fbc41"
            ],
            [
             0.9,
             "#4d9221"
            ],
            [
             1,
             "#276419"
            ]
           ],
           "sequential": [
            [
             0,
             "#0d0887"
            ],
            [
             0.1111111111111111,
             "#46039f"
            ],
            [
             0.2222222222222222,
             "#7201a8"
            ],
            [
             0.3333333333333333,
             "#9c179e"
            ],
            [
             0.4444444444444444,
             "#bd3786"
            ],
            [
             0.5555555555555556,
             "#d8576b"
            ],
            [
             0.6666666666666666,
             "#ed7953"
            ],
            [
             0.7777777777777778,
             "#fb9f3a"
            ],
            [
             0.8888888888888888,
             "#fdca26"
            ],
            [
             1,
             "#f0f921"
            ]
           ],
           "sequentialminus": [
            [
             0,
             "#0d0887"
            ],
            [
             0.1111111111111111,
             "#46039f"
            ],
            [
             0.2222222222222222,
             "#7201a8"
            ],
            [
             0.3333333333333333,
             "#9c179e"
            ],
            [
             0.4444444444444444,
             "#bd3786"
            ],
            [
             0.5555555555555556,
             "#d8576b"
            ],
            [
             0.6666666666666666,
             "#ed7953"
            ],
            [
             0.7777777777777778,
             "#fb9f3a"
            ],
            [
             0.8888888888888888,
             "#fdca26"
            ],
            [
             1,
             "#f0f921"
            ]
           ]
          },
          "colorway": [
           "#636efa",
           "#EF553B",
           "#00cc96",
           "#ab63fa",
           "#FFA15A",
           "#19d3f3",
           "#FF6692",
           "#B6E880",
           "#FF97FF",
           "#FECB52"
          ],
          "font": {
           "color": "#2a3f5f"
          },
          "geo": {
           "bgcolor": "white",
           "lakecolor": "white",
           "landcolor": "#E5ECF6",
           "showlakes": true,
           "showland": true,
           "subunitcolor": "white"
          },
          "hoverlabel": {
           "align": "left"
          },
          "hovermode": "closest",
          "mapbox": {
           "style": "light"
          },
          "paper_bgcolor": "white",
          "plot_bgcolor": "#E5ECF6",
          "polar": {
           "angularaxis": {
            "gridcolor": "white",
            "linecolor": "white",
            "ticks": ""
           },
           "bgcolor": "#E5ECF6",
           "radialaxis": {
            "gridcolor": "white",
            "linecolor": "white",
            "ticks": ""
           }
          },
          "scene": {
           "xaxis": {
            "backgroundcolor": "#E5ECF6",
            "gridcolor": "white",
            "gridwidth": 2,
            "linecolor": "white",
            "showbackground": true,
            "ticks": "",
            "zerolinecolor": "white"
           },
           "yaxis": {
            "backgroundcolor": "#E5ECF6",
            "gridcolor": "white",
            "gridwidth": 2,
            "linecolor": "white",
            "showbackground": true,
            "ticks": "",
            "zerolinecolor": "white"
           },
           "zaxis": {
            "backgroundcolor": "#E5ECF6",
            "gridcolor": "white",
            "gridwidth": 2,
            "linecolor": "white",
            "showbackground": true,
            "ticks": "",
            "zerolinecolor": "white"
           }
          },
          "shapedefaults": {
           "line": {
            "color": "#2a3f5f"
           }
          },
          "ternary": {
           "aaxis": {
            "gridcolor": "white",
            "linecolor": "white",
            "ticks": ""
           },
           "baxis": {
            "gridcolor": "white",
            "linecolor": "white",
            "ticks": ""
           },
           "bgcolor": "#E5ECF6",
           "caxis": {
            "gridcolor": "white",
            "linecolor": "white",
            "ticks": ""
           }
          },
          "title": {
           "x": 0.05
          },
          "xaxis": {
           "automargin": true,
           "gridcolor": "white",
           "linecolor": "white",
           "ticks": "",
           "title": {
            "standoff": 15
           },
           "zerolinecolor": "white",
           "zerolinewidth": 2
          },
          "yaxis": {
           "automargin": true,
           "gridcolor": "white",
           "linecolor": "white",
           "ticks": "",
           "title": {
            "standoff": 15
           },
           "zerolinecolor": "white",
           "zerolinewidth": 2
          }
         }
        },
        "xaxis": {
         "title": {
          "text": "Percent Change Value"
         }
        },
        "yaxis": {
         "title": {
          "text": "Density"
         }
        }
       }
      }
     },
     "metadata": {},
     "output_type": "display_data"
    }
   ],
   "source": [
    "def ecdf(data):\n",
    "    x = np.sort(data)\n",
    "    y = np.arange(1, len(data) + 1) / len(data)\n",
    "    return x, y\n",
    "\n",
    "\n",
    "x_brent, y_brent = ecdf(brent_df['pctchange'])\n",
    "x_wti, y_wti = ecdf(wti_df['pctchange'])\n",
    "x_henry, y_henry = ecdf(henry_df['pctchange'])\n",
    "x_probs, y_probs = ecdf(df_probs_grouped['pctchange'])\n",
    "\n",
    "fig = plgo.Figure()\n",
    "\n",
    "# Add KDE line\n",
    "fig.add_trace(plgo.Scatter(x=x_brent, y=y_brent, mode='lines', name='Brent'))\n",
    "fig.add_trace(plgo.Scatter(x=x_wti, y=y_wti, mode='lines', name='WTI'))\n",
    "fig.add_trace(plgo.Scatter(x=x_henry, y=y_henry, mode='lines', name='Henry'))\n",
    "fig.add_trace(plgo.Scatter(x=x_probs, y=y_probs, mode='lines', name='Prediction Market'))\n",
    "\n",
    "# Update layout\n",
    "#title='ECDF of Commodities and Prediction Market Values',\n",
    "fig.update_layout(xaxis=dict(title='Percent Change Value'),\n",
    "                  yaxis=dict(title='Density'),\n",
    "                  showlegend=True)\n",
    "\n",
    "# Show plot\n",
    "fig.show()"
   ]
  },
  {
   "cell_type": "code",
   "execution_count": 74,
   "metadata": {},
   "outputs": [
    {
     "name": "stdout",
     "output_type": "stream",
     "text": [
      "KstestResult(statistic=0.5714285714285714, pvalue=0.0016567962353134283, statistic_location=0.005693477306118577, statistic_sign=1)\n",
      "KstestResult(statistic=0.5714285714285714, pvalue=0.0016567962353134283, statistic_location=0.005512565533973612, statistic_sign=1)\n",
      "KstestResult(statistic=0.5714285714285714, pvalue=0.0016567962353134283, statistic_location=0.030344429305125376, statistic_sign=1)\n"
     ]
    }
   ],
   "source": [
    "from scipy.stats import ks_2samp\n",
    "\n",
    "# Perform KS test\n",
    " \n",
    "print(ks_2samp(brent_df['pctchange'], df_probs_grouped['pctchange']))\n",
    "print(ks_2samp(wti_df['pctchange'], df_probs_grouped['pctchange']))\n",
    "print(ks_2samp(henry_df['pctchange'], df_probs_grouped['pctchange']))\n",
    "# print(ks_2samp(wti_df['pctchange'], brent_df['pctchange']))"
   ]
  },
  {
   "cell_type": "code",
   "execution_count": null,
   "metadata": {},
   "outputs": [],
   "source": []
  }
 ],
 "metadata": {
  "kernelspec": {
   "display_name": "base",
   "language": "python",
   "name": "python3"
  },
  "language_info": {
   "codemirror_mode": {
    "name": "ipython",
    "version": 3
   },
   "file_extension": ".py",
   "mimetype": "text/x-python",
   "name": "python",
   "nbconvert_exporter": "python",
   "pygments_lexer": "ipython3",
   "version": "3.10.9"
  },
  "orig_nbformat": 4
 },
 "nbformat": 4,
 "nbformat_minor": 2
}
