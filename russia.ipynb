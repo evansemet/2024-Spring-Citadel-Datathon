{
 "cells": [
  {
   "cell_type": "code",
   "execution_count": 24,
   "metadata": {},
   "outputs": [],
   "source": [
    "import pandas as pd\n",
    "import numpy as np\n",
    "import plotly.graph_objects as plgo\n",
    "from plotly.subplots import make_subplots\n",
    "import seaborn as sns\n",
    "pd.options.mode.chained_assignment = None"
   ]
  },
  {
   "cell_type": "code",
   "execution_count": 2,
   "metadata": {},
   "outputs": [],
   "source": [
    "START_DATE = pd.to_datetime('2022-01-03')\n",
    "END_DATE = pd.to_datetime('2022-02-24')"
   ]
  },
  {
   "cell_type": "code",
   "execution_count": 3,
   "metadata": {},
   "outputs": [
    {
     "data": {
      "text/html": [
       "<div>\n",
       "<style scoped>\n",
       "    .dataframe tbody tr th:only-of-type {\n",
       "        vertical-align: middle;\n",
       "    }\n",
       "\n",
       "    .dataframe tbody tr th {\n",
       "        vertical-align: top;\n",
       "    }\n",
       "\n",
       "    .dataframe thead th {\n",
       "        text-align: right;\n",
       "    }\n",
       "</style>\n",
       "<table border=\"1\" class=\"dataframe\">\n",
       "  <thead>\n",
       "    <tr style=\"text-align: right;\">\n",
       "      <th></th>\n",
       "      <th>Date</th>\n",
       "      <th>Value</th>\n",
       "    </tr>\n",
       "  </thead>\n",
       "  <tbody>\n",
       "    <tr>\n",
       "      <th>0</th>\n",
       "      <td>2022-01-03</td>\n",
       "      <td>78.98</td>\n",
       "    </tr>\n",
       "    <tr>\n",
       "      <th>1</th>\n",
       "      <td>2022-01-04</td>\n",
       "      <td>80.00</td>\n",
       "    </tr>\n",
       "    <tr>\n",
       "      <th>2</th>\n",
       "      <td>2022-01-05</td>\n",
       "      <td>80.80</td>\n",
       "    </tr>\n",
       "    <tr>\n",
       "      <th>3</th>\n",
       "      <td>2022-01-06</td>\n",
       "      <td>81.99</td>\n",
       "    </tr>\n",
       "    <tr>\n",
       "      <th>4</th>\n",
       "      <td>2022-01-07</td>\n",
       "      <td>81.75</td>\n",
       "    </tr>\n",
       "  </tbody>\n",
       "</table>\n",
       "</div>"
      ],
      "text/plain": [
       "        Date  Value\n",
       "0 2022-01-03  78.98\n",
       "1 2022-01-04  80.00\n",
       "2 2022-01-05  80.80\n",
       "3 2022-01-06  81.99\n",
       "4 2022-01-07  81.75"
      ]
     },
     "execution_count": 3,
     "metadata": {},
     "output_type": "execute_result"
    }
   ],
   "source": [
    "brent_df = pd.read_csv('oil_futures_2022.csv',\n",
    "                       usecols=['Date', 'Close'],\n",
    "                       parse_dates=['Date'],\n",
    "                       dtype={'Close': float})\n",
    "\n",
    "brent_df = brent_df[(brent_df['Date'] >= START_DATE) & (brent_df['Date'] <= END_DATE)]\n",
    "brent_df = brent_df.iloc[::-1].reset_index(drop=True)\n",
    "brent_df.rename(columns={'Close': 'Value'}, inplace=True)\n",
    "brent_df.head()"
   ]
  },
  {
   "cell_type": "code",
   "execution_count": 4,
   "metadata": {},
   "outputs": [
    {
     "data": {
      "text/html": [
       "<div>\n",
       "<style scoped>\n",
       "    .dataframe tbody tr th:only-of-type {\n",
       "        vertical-align: middle;\n",
       "    }\n",
       "\n",
       "    .dataframe tbody tr th {\n",
       "        vertical-align: top;\n",
       "    }\n",
       "\n",
       "    .dataframe thead th {\n",
       "        text-align: right;\n",
       "    }\n",
       "</style>\n",
       "<table border=\"1\" class=\"dataframe\">\n",
       "  <thead>\n",
       "    <tr style=\"text-align: right;\">\n",
       "      <th></th>\n",
       "      <th>Date</th>\n",
       "      <th>Value</th>\n",
       "    </tr>\n",
       "  </thead>\n",
       "  <tbody>\n",
       "    <tr>\n",
       "      <th>0</th>\n",
       "      <td>2022-01-03</td>\n",
       "      <td>75.99</td>\n",
       "    </tr>\n",
       "    <tr>\n",
       "      <th>1</th>\n",
       "      <td>2022-01-04</td>\n",
       "      <td>77.00</td>\n",
       "    </tr>\n",
       "    <tr>\n",
       "      <th>2</th>\n",
       "      <td>2022-01-05</td>\n",
       "      <td>77.83</td>\n",
       "    </tr>\n",
       "    <tr>\n",
       "      <th>3</th>\n",
       "      <td>2022-01-06</td>\n",
       "      <td>79.47</td>\n",
       "    </tr>\n",
       "    <tr>\n",
       "      <th>4</th>\n",
       "      <td>2022-01-07</td>\n",
       "      <td>79.00</td>\n",
       "    </tr>\n",
       "  </tbody>\n",
       "</table>\n",
       "</div>"
      ],
      "text/plain": [
       "        Date  Value\n",
       "0 2022-01-03  75.99\n",
       "1 2022-01-04  77.00\n",
       "2 2022-01-05  77.83\n",
       "3 2022-01-06  79.47\n",
       "4 2022-01-07  79.00"
      ]
     },
     "execution_count": 4,
     "metadata": {},
     "output_type": "execute_result"
    }
   ],
   "source": [
    "wti_df = pd.read_csv('/Users/shrek/Downloads/Datathon Data/all_commodities.csv',\n",
    "                     usecols=['Date_Time','Value','Commodity'],\n",
    "                     parse_dates=['Date_Time'],\n",
    "                     dtype={'Value': float, 'Commodity': str})\n",
    "\n",
    "wti_df = wti_df[(wti_df['Commodity']=='West Texas Intermediary Crude Oil') & (wti_df['Date_Time'] >= START_DATE) & (wti_df['Date_Time'] <= END_DATE)]\n",
    "wti_df = wti_df.iloc[::-1].reset_index(drop=True)\n",
    "wti_df.drop(columns=['Commodity'], inplace=True)\n",
    "wti_df.rename(columns={'Date_Time': 'Date'}, inplace=True)\n",
    "wti_df.head()"
   ]
  },
  {
   "cell_type": "code",
   "execution_count": 5,
   "metadata": {},
   "outputs": [
    {
     "data": {
      "text/html": [
       "<div>\n",
       "<style scoped>\n",
       "    .dataframe tbody tr th:only-of-type {\n",
       "        vertical-align: middle;\n",
       "    }\n",
       "\n",
       "    .dataframe tbody tr th {\n",
       "        vertical-align: top;\n",
       "    }\n",
       "\n",
       "    .dataframe thead th {\n",
       "        text-align: right;\n",
       "    }\n",
       "</style>\n",
       "<table border=\"1\" class=\"dataframe\">\n",
       "  <thead>\n",
       "    <tr style=\"text-align: right;\">\n",
       "      <th></th>\n",
       "      <th>Date</th>\n",
       "      <th>Value</th>\n",
       "    </tr>\n",
       "  </thead>\n",
       "  <tbody>\n",
       "    <tr>\n",
       "      <th>0</th>\n",
       "      <td>2022-01-03</td>\n",
       "      <td>3.74</td>\n",
       "    </tr>\n",
       "    <tr>\n",
       "      <th>1</th>\n",
       "      <td>2022-01-04</td>\n",
       "      <td>3.73</td>\n",
       "    </tr>\n",
       "    <tr>\n",
       "      <th>2</th>\n",
       "      <td>2022-01-05</td>\n",
       "      <td>3.78</td>\n",
       "    </tr>\n",
       "    <tr>\n",
       "      <th>3</th>\n",
       "      <td>2022-01-06</td>\n",
       "      <td>3.94</td>\n",
       "    </tr>\n",
       "    <tr>\n",
       "      <th>4</th>\n",
       "      <td>2022-01-07</td>\n",
       "      <td>3.83</td>\n",
       "    </tr>\n",
       "  </tbody>\n",
       "</table>\n",
       "</div>"
      ],
      "text/plain": [
       "        Date  Value\n",
       "0 2022-01-03   3.74\n",
       "1 2022-01-04   3.73\n",
       "2 2022-01-05   3.78\n",
       "3 2022-01-06   3.94\n",
       "4 2022-01-07   3.83"
      ]
     },
     "execution_count": 5,
     "metadata": {},
     "output_type": "execute_result"
    }
   ],
   "source": [
    "henry_df = pd.read_csv('/Users/shrek/Downloads/Datathon Data/all_commodities.csv',\n",
    "                       usecols=['Date_Time','Value','Commodity'],\n",
    "                       parse_dates=['Date_Time'],\n",
    "                       dtype={'Value': float, 'Commodity': str})\n",
    "\n",
    "henry_df = henry_df[(henry_df['Commodity']=='Henry Hub Natural Gas Spot Price') & (henry_df['Date_Time'] >= START_DATE) & (henry_df['Date_Time'] <= END_DATE)]\n",
    "henry_df = henry_df.iloc[::-1].reset_index(drop=True)\n",
    "henry_df.drop(columns=['Commodity'], inplace=True)\n",
    "henry_df.rename(columns={'Date_Time': 'Date'}, inplace=True)\n",
    "henry_df.head()"
   ]
  },
  {
   "cell_type": "code",
   "execution_count": 11,
   "metadata": {},
   "outputs": [],
   "source": [
    "for df in [brent_df, henry_df, wti_df]:\n",
    "    df['Value'].fillna(method='bfill', inplace=True)\n",
    "    df['Value_EMA'] = df['Value'].ewm(span=5, adjust=False).mean()"
   ]
  },
  {
   "cell_type": "code",
   "execution_count": 14,
   "metadata": {},
   "outputs": [
    {
     "data": {
      "text/html": [
       "<div>\n",
       "<style scoped>\n",
       "    .dataframe tbody tr th:only-of-type {\n",
       "        vertical-align: middle;\n",
       "    }\n",
       "\n",
       "    .dataframe tbody tr th {\n",
       "        vertical-align: top;\n",
       "    }\n",
       "\n",
       "    .dataframe thead th {\n",
       "        text-align: right;\n",
       "    }\n",
       "</style>\n",
       "<table border=\"1\" class=\"dataframe\">\n",
       "  <thead>\n",
       "    <tr style=\"text-align: right;\">\n",
       "      <th></th>\n",
       "      <th>prediction_start_time</th>\n",
       "      <th>prediction_end_time</th>\n",
       "      <th>prediction</th>\n",
       "    </tr>\n",
       "  </thead>\n",
       "  <tbody>\n",
       "    <tr>\n",
       "      <th>0</th>\n",
       "      <td>2021-12-11 21:03:40.160777+00:00</td>\n",
       "      <td>2021-12-11 21:08:25.951901+00:00</td>\n",
       "      <td>0.580</td>\n",
       "    </tr>\n",
       "    <tr>\n",
       "      <th>1</th>\n",
       "      <td>2021-12-11 21:08:25.951901+00:00</td>\n",
       "      <td>2021-12-11 21:10:06.349703+00:00</td>\n",
       "      <td>0.405</td>\n",
       "    </tr>\n",
       "    <tr>\n",
       "      <th>2</th>\n",
       "      <td>2021-12-11 21:10:06.349703+00:00</td>\n",
       "      <td>2021-12-11 21:17:15.744079+00:00</td>\n",
       "      <td>0.390</td>\n",
       "    </tr>\n",
       "    <tr>\n",
       "      <th>3</th>\n",
       "      <td>2021-12-11 21:17:15.744079+00:00</td>\n",
       "      <td>2021-12-11 21:25:38.876860+00:00</td>\n",
       "      <td>0.390</td>\n",
       "    </tr>\n",
       "    <tr>\n",
       "      <th>4</th>\n",
       "      <td>2021-12-11 21:25:38.876860+00:00</td>\n",
       "      <td>2021-12-11 21:27:42.228631+00:00</td>\n",
       "      <td>0.580</td>\n",
       "    </tr>\n",
       "  </tbody>\n",
       "</table>\n",
       "</div>"
      ],
      "text/plain": [
       "             prediction_start_time              prediction_end_time  \\\n",
       "0 2021-12-11 21:03:40.160777+00:00 2021-12-11 21:08:25.951901+00:00   \n",
       "1 2021-12-11 21:08:25.951901+00:00 2021-12-11 21:10:06.349703+00:00   \n",
       "2 2021-12-11 21:10:06.349703+00:00 2021-12-11 21:17:15.744079+00:00   \n",
       "3 2021-12-11 21:17:15.744079+00:00 2021-12-11 21:25:38.876860+00:00   \n",
       "4 2021-12-11 21:25:38.876860+00:00 2021-12-11 21:27:42.228631+00:00   \n",
       "\n",
       "   prediction  \n",
       "0       0.580  \n",
       "1       0.405  \n",
       "2       0.390  \n",
       "3       0.390  \n",
       "4       0.580  "
      ]
     },
     "execution_count": 14,
     "metadata": {},
     "output_type": "execute_result"
    }
   ],
   "source": [
    "df_probs = pd.read_csv('Russian_Invasion_of_Ukraine_Before_2023.csv',\n",
    "                       usecols=['forecaster','prediction_start_time','prediction_end_time','prediction'],\n",
    "                       parse_dates=['prediction_start_time','prediction_end_time'],\n",
    "                       dtype={'forecaster': 'string', 'prediction': 'float'})\n",
    "\n",
    "df_probs = df_probs[df_probs['forecaster'] == 'community_prediction'][:-1]\n",
    "df_probs.drop(columns=['forecaster'], inplace=True)\n",
    "df_probs['prediction_end_time'] = pd.to_datetime(df_probs['prediction_end_time'])\n",
    "df_probs.head()"
   ]
  },
  {
   "cell_type": "code",
   "execution_count": 15,
   "metadata": {},
   "outputs": [
    {
     "data": {
      "text/plain": [
       "prediction_start_time    datetime64[ns, UTC]\n",
       "prediction_end_time      datetime64[ns, UTC]\n",
       "prediction                           float64\n",
       "dtype: object"
      ]
     },
     "execution_count": 15,
     "metadata": {},
     "output_type": "execute_result"
    }
   ],
   "source": [
    "df_probs.dtypes"
   ]
  },
  {
   "cell_type": "code",
   "execution_count": 16,
   "metadata": {},
   "outputs": [
    {
     "data": {
      "text/html": [
       "<div>\n",
       "<style scoped>\n",
       "    .dataframe tbody tr th:only-of-type {\n",
       "        vertical-align: middle;\n",
       "    }\n",
       "\n",
       "    .dataframe tbody tr th {\n",
       "        vertical-align: top;\n",
       "    }\n",
       "\n",
       "    .dataframe thead th {\n",
       "        text-align: right;\n",
       "    }\n",
       "</style>\n",
       "<table border=\"1\" class=\"dataframe\">\n",
       "  <thead>\n",
       "    <tr style=\"text-align: right;\">\n",
       "      <th></th>\n",
       "      <th>day</th>\n",
       "      <th>prediction</th>\n",
       "      <th>prediction_EMA</th>\n",
       "    </tr>\n",
       "  </thead>\n",
       "  <tbody>\n",
       "    <tr>\n",
       "      <th>23</th>\n",
       "      <td>2022-01-03</td>\n",
       "      <td>0.323106</td>\n",
       "      <td>0.323106</td>\n",
       "    </tr>\n",
       "    <tr>\n",
       "      <th>24</th>\n",
       "      <td>2022-01-04</td>\n",
       "      <td>0.310000</td>\n",
       "      <td>0.318738</td>\n",
       "    </tr>\n",
       "    <tr>\n",
       "      <th>25</th>\n",
       "      <td>2022-01-05</td>\n",
       "      <td>0.301518</td>\n",
       "      <td>0.312998</td>\n",
       "    </tr>\n",
       "    <tr>\n",
       "      <th>26</th>\n",
       "      <td>2022-01-06</td>\n",
       "      <td>0.288307</td>\n",
       "      <td>0.304768</td>\n",
       "    </tr>\n",
       "    <tr>\n",
       "      <th>27</th>\n",
       "      <td>2022-01-07</td>\n",
       "      <td>0.266972</td>\n",
       "      <td>0.292169</td>\n",
       "    </tr>\n",
       "  </tbody>\n",
       "</table>\n",
       "</div>"
      ],
      "text/plain": [
       "          day  prediction  prediction_EMA\n",
       "23 2022-01-03    0.323106        0.323106\n",
       "24 2022-01-04    0.310000        0.318738\n",
       "25 2022-01-05    0.301518        0.312998\n",
       "26 2022-01-06    0.288307        0.304768\n",
       "27 2022-01-07    0.266972        0.292169"
      ]
     },
     "execution_count": 16,
     "metadata": {},
     "output_type": "execute_result"
    }
   ],
   "source": [
    "df_probs['time_difference'] = df_probs['prediction_end_time'].astype('int64') - df_probs['prediction_start_time'].astype('int64')\n",
    "df_probs['weighted'] = df_probs['time_difference'] * df_probs['prediction']\n",
    "df_probs['day'] = df_probs['prediction_start_time'].map(lambda x: x.date)\n",
    "df_probs_grouped = df_probs.groupby('day').sum(numeric_only=True).reset_index()\n",
    "df_probs_grouped['prediction'] = df_probs_grouped['weighted'] / df_probs_grouped['time_difference']\n",
    "df_probs_grouped = df_probs_grouped[['day', 'prediction']]\n",
    "df_probs_grouped['day'] = pd.to_datetime(df_probs_grouped['day'])\n",
    "df_probs_grouped = df_probs_grouped[(df_probs_grouped['day'].dt.weekday < 5) & (df_probs_grouped['day'] >= START_DATE) & (df_probs_grouped['day'] <= END_DATE)]\n",
    "df_probs_grouped['prediction_EMA'] = df_probs_grouped['prediction'].ewm(span=5, adjust=False).mean()\n",
    "df_probs_grouped.head()"
   ]
  },
  {
   "cell_type": "code",
   "execution_count": 17,
   "metadata": {},
   "outputs": [
    {
     "data": {
      "application/vnd.plotly.v1+json": {
       "config": {
        "plotlyServerURL": "https://plot.ly"
       },
       "data": [
        {
         "mode": "lines+markers",
         "name": "Manifold Prediction %",
         "type": "scatter",
         "x": [
          "2022-01-03T00:00:00",
          "2022-01-04T00:00:00",
          "2022-01-05T00:00:00",
          "2022-01-06T00:00:00",
          "2022-01-07T00:00:00",
          "2022-01-10T00:00:00",
          "2022-01-11T00:00:00",
          "2022-01-12T00:00:00",
          "2022-01-13T00:00:00",
          "2022-01-14T00:00:00",
          "2022-01-17T00:00:00",
          "2022-01-18T00:00:00",
          "2022-01-19T00:00:00",
          "2022-01-20T00:00:00",
          "2022-01-21T00:00:00",
          "2022-01-24T00:00:00",
          "2022-01-25T00:00:00",
          "2022-01-26T00:00:00",
          "2022-01-27T00:00:00",
          "2022-01-28T00:00:00",
          "2022-01-31T00:00:00",
          "2022-02-01T00:00:00",
          "2022-02-02T00:00:00",
          "2022-02-03T00:00:00",
          "2022-02-04T00:00:00",
          "2022-02-07T00:00:00",
          "2022-02-08T00:00:00",
          "2022-02-09T00:00:00",
          "2022-02-10T00:00:00",
          "2022-02-11T00:00:00",
          "2022-02-14T00:00:00",
          "2022-02-15T00:00:00",
          "2022-02-16T00:00:00",
          "2022-02-17T00:00:00",
          "2022-02-18T00:00:00",
          "2022-02-21T00:00:00",
          "2022-02-22T00:00:00",
          "2022-02-23T00:00:00",
          "2022-02-24T00:00:00"
         ],
         "y": [
          0.32310642942675105,
          0.31,
          0.30151767857593953,
          0.28830724895858745,
          0.2669715272828801,
          0.29769457570673463,
          0.3182406944025401,
          0.3264920234251247,
          0.3404589717254505,
          0.4104329137766911,
          0.48933672509799375,
          0.4810015965944236,
          0.5711365897137871,
          0.5264698218714537,
          0.513539396979451,
          0.536372618879573,
          0.522044432124562,
          0.5193183775610656,
          0.5372992393245731,
          0.47954922674260814,
          0.44910968985634014,
          0.4712289857863255,
          0.4764319805792488,
          0.456045314800225,
          0.45460762486169537,
          0.5,
          0.46987888428249125,
          0.4507322515206054,
          0.44299805094132627,
          0.5116469271189306,
          0.6730529942810246,
          0.6177929347873256,
          0.6283363319768207,
          0.6349180031824843,
          0.7129876223435229,
          0.759690139094461,
          0.887867682257558,
          0.9001413448377941,
          0.9647714889280122
         ]
        },
        {
         "mode": "lines+markers",
         "name": "Manifold Prediction % EMA",
         "type": "scatter",
         "x": [
          "2022-01-03T00:00:00",
          "2022-01-04T00:00:00",
          "2022-01-05T00:00:00",
          "2022-01-06T00:00:00",
          "2022-01-07T00:00:00",
          "2022-01-10T00:00:00",
          "2022-01-11T00:00:00",
          "2022-01-12T00:00:00",
          "2022-01-13T00:00:00",
          "2022-01-14T00:00:00",
          "2022-01-17T00:00:00",
          "2022-01-18T00:00:00",
          "2022-01-19T00:00:00",
          "2022-01-20T00:00:00",
          "2022-01-21T00:00:00",
          "2022-01-24T00:00:00",
          "2022-01-25T00:00:00",
          "2022-01-26T00:00:00",
          "2022-01-27T00:00:00",
          "2022-01-28T00:00:00",
          "2022-01-31T00:00:00",
          "2022-02-01T00:00:00",
          "2022-02-02T00:00:00",
          "2022-02-03T00:00:00",
          "2022-02-04T00:00:00",
          "2022-02-07T00:00:00",
          "2022-02-08T00:00:00",
          "2022-02-09T00:00:00",
          "2022-02-10T00:00:00",
          "2022-02-11T00:00:00",
          "2022-02-14T00:00:00",
          "2022-02-15T00:00:00",
          "2022-02-16T00:00:00",
          "2022-02-17T00:00:00",
          "2022-02-18T00:00:00",
          "2022-02-21T00:00:00",
          "2022-02-22T00:00:00",
          "2022-02-23T00:00:00",
          "2022-02-24T00:00:00"
         ],
         "y": [
          0.32310642942675105,
          0.31873761961783403,
          0.31299763927053587,
          0.3047675091665531,
          0.2921688485386621,
          0.2940107575946863,
          0.30208740319730426,
          0.31022227660657775,
          0.32030117497953536,
          0.3503450879119206,
          0.39667563364061165,
          0.424784287958549,
          0.47356838854362837,
          0.4912021996529035,
          0.498647932095086,
          0.511222827689915,
          0.5148300291681307,
          0.516326145299109,
          0.5233171766409305,
          0.5087278600081564,
          0.4888551366242177,
          0.48297975301158697,
          0.4807971622008076,
          0.4725465464006134,
          0.4665669058876407,
          0.4777112705917605,
          0.47510047515533743,
          0.46697773394376013,
          0.4589845062762822,
          0.476538646557165,
          0.5420434291317849,
          0.5672932643502985,
          0.5876409535591393,
          0.6033999701002543,
          0.6399291875146772,
          0.6798495047079385,
          0.7491888972244783,
          0.7995063797622503,
          0.8545947494841709
         ]
        }
       ],
       "layout": {
        "template": {
         "data": {
          "bar": [
           {
            "error_x": {
             "color": "#2a3f5f"
            },
            "error_y": {
             "color": "#2a3f5f"
            },
            "marker": {
             "line": {
              "color": "#E5ECF6",
              "width": 0.5
             },
             "pattern": {
              "fillmode": "overlay",
              "size": 10,
              "solidity": 0.2
             }
            },
            "type": "bar"
           }
          ],
          "barpolar": [
           {
            "marker": {
             "line": {
              "color": "#E5ECF6",
              "width": 0.5
             },
             "pattern": {
              "fillmode": "overlay",
              "size": 10,
              "solidity": 0.2
             }
            },
            "type": "barpolar"
           }
          ],
          "carpet": [
           {
            "aaxis": {
             "endlinecolor": "#2a3f5f",
             "gridcolor": "white",
             "linecolor": "white",
             "minorgridcolor": "white",
             "startlinecolor": "#2a3f5f"
            },
            "baxis": {
             "endlinecolor": "#2a3f5f",
             "gridcolor": "white",
             "linecolor": "white",
             "minorgridcolor": "white",
             "startlinecolor": "#2a3f5f"
            },
            "type": "carpet"
           }
          ],
          "choropleth": [
           {
            "colorbar": {
             "outlinewidth": 0,
             "ticks": ""
            },
            "type": "choropleth"
           }
          ],
          "contour": [
           {
            "colorbar": {
             "outlinewidth": 0,
             "ticks": ""
            },
            "colorscale": [
             [
              0,
              "#0d0887"
             ],
             [
              0.1111111111111111,
              "#46039f"
             ],
             [
              0.2222222222222222,
              "#7201a8"
             ],
             [
              0.3333333333333333,
              "#9c179e"
             ],
             [
              0.4444444444444444,
              "#bd3786"
             ],
             [
              0.5555555555555556,
              "#d8576b"
             ],
             [
              0.6666666666666666,
              "#ed7953"
             ],
             [
              0.7777777777777778,
              "#fb9f3a"
             ],
             [
              0.8888888888888888,
              "#fdca26"
             ],
             [
              1,
              "#f0f921"
             ]
            ],
            "type": "contour"
           }
          ],
          "contourcarpet": [
           {
            "colorbar": {
             "outlinewidth": 0,
             "ticks": ""
            },
            "type": "contourcarpet"
           }
          ],
          "heatmap": [
           {
            "colorbar": {
             "outlinewidth": 0,
             "ticks": ""
            },
            "colorscale": [
             [
              0,
              "#0d0887"
             ],
             [
              0.1111111111111111,
              "#46039f"
             ],
             [
              0.2222222222222222,
              "#7201a8"
             ],
             [
              0.3333333333333333,
              "#9c179e"
             ],
             [
              0.4444444444444444,
              "#bd3786"
             ],
             [
              0.5555555555555556,
              "#d8576b"
             ],
             [
              0.6666666666666666,
              "#ed7953"
             ],
             [
              0.7777777777777778,
              "#fb9f3a"
             ],
             [
              0.8888888888888888,
              "#fdca26"
             ],
             [
              1,
              "#f0f921"
             ]
            ],
            "type": "heatmap"
           }
          ],
          "heatmapgl": [
           {
            "colorbar": {
             "outlinewidth": 0,
             "ticks": ""
            },
            "colorscale": [
             [
              0,
              "#0d0887"
             ],
             [
              0.1111111111111111,
              "#46039f"
             ],
             [
              0.2222222222222222,
              "#7201a8"
             ],
             [
              0.3333333333333333,
              "#9c179e"
             ],
             [
              0.4444444444444444,
              "#bd3786"
             ],
             [
              0.5555555555555556,
              "#d8576b"
             ],
             [
              0.6666666666666666,
              "#ed7953"
             ],
             [
              0.7777777777777778,
              "#fb9f3a"
             ],
             [
              0.8888888888888888,
              "#fdca26"
             ],
             [
              1,
              "#f0f921"
             ]
            ],
            "type": "heatmapgl"
           }
          ],
          "histogram": [
           {
            "marker": {
             "pattern": {
              "fillmode": "overlay",
              "size": 10,
              "solidity": 0.2
             }
            },
            "type": "histogram"
           }
          ],
          "histogram2d": [
           {
            "colorbar": {
             "outlinewidth": 0,
             "ticks": ""
            },
            "colorscale": [
             [
              0,
              "#0d0887"
             ],
             [
              0.1111111111111111,
              "#46039f"
             ],
             [
              0.2222222222222222,
              "#7201a8"
             ],
             [
              0.3333333333333333,
              "#9c179e"
             ],
             [
              0.4444444444444444,
              "#bd3786"
             ],
             [
              0.5555555555555556,
              "#d8576b"
             ],
             [
              0.6666666666666666,
              "#ed7953"
             ],
             [
              0.7777777777777778,
              "#fb9f3a"
             ],
             [
              0.8888888888888888,
              "#fdca26"
             ],
             [
              1,
              "#f0f921"
             ]
            ],
            "type": "histogram2d"
           }
          ],
          "histogram2dcontour": [
           {
            "colorbar": {
             "outlinewidth": 0,
             "ticks": ""
            },
            "colorscale": [
             [
              0,
              "#0d0887"
             ],
             [
              0.1111111111111111,
              "#46039f"
             ],
             [
              0.2222222222222222,
              "#7201a8"
             ],
             [
              0.3333333333333333,
              "#9c179e"
             ],
             [
              0.4444444444444444,
              "#bd3786"
             ],
             [
              0.5555555555555556,
              "#d8576b"
             ],
             [
              0.6666666666666666,
              "#ed7953"
             ],
             [
              0.7777777777777778,
              "#fb9f3a"
             ],
             [
              0.8888888888888888,
              "#fdca26"
             ],
             [
              1,
              "#f0f921"
             ]
            ],
            "type": "histogram2dcontour"
           }
          ],
          "mesh3d": [
           {
            "colorbar": {
             "outlinewidth": 0,
             "ticks": ""
            },
            "type": "mesh3d"
           }
          ],
          "parcoords": [
           {
            "line": {
             "colorbar": {
              "outlinewidth": 0,
              "ticks": ""
             }
            },
            "type": "parcoords"
           }
          ],
          "pie": [
           {
            "automargin": true,
            "type": "pie"
           }
          ],
          "scatter": [
           {
            "fillpattern": {
             "fillmode": "overlay",
             "size": 10,
             "solidity": 0.2
            },
            "type": "scatter"
           }
          ],
          "scatter3d": [
           {
            "line": {
             "colorbar": {
              "outlinewidth": 0,
              "ticks": ""
             }
            },
            "marker": {
             "colorbar": {
              "outlinewidth": 0,
              "ticks": ""
             }
            },
            "type": "scatter3d"
           }
          ],
          "scattercarpet": [
           {
            "marker": {
             "colorbar": {
              "outlinewidth": 0,
              "ticks": ""
             }
            },
            "type": "scattercarpet"
           }
          ],
          "scattergeo": [
           {
            "marker": {
             "colorbar": {
              "outlinewidth": 0,
              "ticks": ""
             }
            },
            "type": "scattergeo"
           }
          ],
          "scattergl": [
           {
            "marker": {
             "colorbar": {
              "outlinewidth": 0,
              "ticks": ""
             }
            },
            "type": "scattergl"
           }
          ],
          "scattermapbox": [
           {
            "marker": {
             "colorbar": {
              "outlinewidth": 0,
              "ticks": ""
             }
            },
            "type": "scattermapbox"
           }
          ],
          "scatterpolar": [
           {
            "marker": {
             "colorbar": {
              "outlinewidth": 0,
              "ticks": ""
             }
            },
            "type": "scatterpolar"
           }
          ],
          "scatterpolargl": [
           {
            "marker": {
             "colorbar": {
              "outlinewidth": 0,
              "ticks": ""
             }
            },
            "type": "scatterpolargl"
           }
          ],
          "scatterternary": [
           {
            "marker": {
             "colorbar": {
              "outlinewidth": 0,
              "ticks": ""
             }
            },
            "type": "scatterternary"
           }
          ],
          "surface": [
           {
            "colorbar": {
             "outlinewidth": 0,
             "ticks": ""
            },
            "colorscale": [
             [
              0,
              "#0d0887"
             ],
             [
              0.1111111111111111,
              "#46039f"
             ],
             [
              0.2222222222222222,
              "#7201a8"
             ],
             [
              0.3333333333333333,
              "#9c179e"
             ],
             [
              0.4444444444444444,
              "#bd3786"
             ],
             [
              0.5555555555555556,
              "#d8576b"
             ],
             [
              0.6666666666666666,
              "#ed7953"
             ],
             [
              0.7777777777777778,
              "#fb9f3a"
             ],
             [
              0.8888888888888888,
              "#fdca26"
             ],
             [
              1,
              "#f0f921"
             ]
            ],
            "type": "surface"
           }
          ],
          "table": [
           {
            "cells": {
             "fill": {
              "color": "#EBF0F8"
             },
             "line": {
              "color": "white"
             }
            },
            "header": {
             "fill": {
              "color": "#C8D4E3"
             },
             "line": {
              "color": "white"
             }
            },
            "type": "table"
           }
          ]
         },
         "layout": {
          "annotationdefaults": {
           "arrowcolor": "#2a3f5f",
           "arrowhead": 0,
           "arrowwidth": 1
          },
          "autotypenumbers": "strict",
          "coloraxis": {
           "colorbar": {
            "outlinewidth": 0,
            "ticks": ""
           }
          },
          "colorscale": {
           "diverging": [
            [
             0,
             "#8e0152"
            ],
            [
             0.1,
             "#c51b7d"
            ],
            [
             0.2,
             "#de77ae"
            ],
            [
             0.3,
             "#f1b6da"
            ],
            [
             0.4,
             "#fde0ef"
            ],
            [
             0.5,
             "#f7f7f7"
            ],
            [
             0.6,
             "#e6f5d0"
            ],
            [
             0.7,
             "#b8e186"
            ],
            [
             0.8,
             "#7fbc41"
            ],
            [
             0.9,
             "#4d9221"
            ],
            [
             1,
             "#276419"
            ]
           ],
           "sequential": [
            [
             0,
             "#0d0887"
            ],
            [
             0.1111111111111111,
             "#46039f"
            ],
            [
             0.2222222222222222,
             "#7201a8"
            ],
            [
             0.3333333333333333,
             "#9c179e"
            ],
            [
             0.4444444444444444,
             "#bd3786"
            ],
            [
             0.5555555555555556,
             "#d8576b"
            ],
            [
             0.6666666666666666,
             "#ed7953"
            ],
            [
             0.7777777777777778,
             "#fb9f3a"
            ],
            [
             0.8888888888888888,
             "#fdca26"
            ],
            [
             1,
             "#f0f921"
            ]
           ],
           "sequentialminus": [
            [
             0,
             "#0d0887"
            ],
            [
             0.1111111111111111,
             "#46039f"
            ],
            [
             0.2222222222222222,
             "#7201a8"
            ],
            [
             0.3333333333333333,
             "#9c179e"
            ],
            [
             0.4444444444444444,
             "#bd3786"
            ],
            [
             0.5555555555555556,
             "#d8576b"
            ],
            [
             0.6666666666666666,
             "#ed7953"
            ],
            [
             0.7777777777777778,
             "#fb9f3a"
            ],
            [
             0.8888888888888888,
             "#fdca26"
            ],
            [
             1,
             "#f0f921"
            ]
           ]
          },
          "colorway": [
           "#636efa",
           "#EF553B",
           "#00cc96",
           "#ab63fa",
           "#FFA15A",
           "#19d3f3",
           "#FF6692",
           "#B6E880",
           "#FF97FF",
           "#FECB52"
          ],
          "font": {
           "color": "#2a3f5f"
          },
          "geo": {
           "bgcolor": "white",
           "lakecolor": "white",
           "landcolor": "#E5ECF6",
           "showlakes": true,
           "showland": true,
           "subunitcolor": "white"
          },
          "hoverlabel": {
           "align": "left"
          },
          "hovermode": "closest",
          "mapbox": {
           "style": "light"
          },
          "paper_bgcolor": "white",
          "plot_bgcolor": "#E5ECF6",
          "polar": {
           "angularaxis": {
            "gridcolor": "white",
            "linecolor": "white",
            "ticks": ""
           },
           "bgcolor": "#E5ECF6",
           "radialaxis": {
            "gridcolor": "white",
            "linecolor": "white",
            "ticks": ""
           }
          },
          "scene": {
           "xaxis": {
            "backgroundcolor": "#E5ECF6",
            "gridcolor": "white",
            "gridwidth": 2,
            "linecolor": "white",
            "showbackground": true,
            "ticks": "",
            "zerolinecolor": "white"
           },
           "yaxis": {
            "backgroundcolor": "#E5ECF6",
            "gridcolor": "white",
            "gridwidth": 2,
            "linecolor": "white",
            "showbackground": true,
            "ticks": "",
            "zerolinecolor": "white"
           },
           "zaxis": {
            "backgroundcolor": "#E5ECF6",
            "gridcolor": "white",
            "gridwidth": 2,
            "linecolor": "white",
            "showbackground": true,
            "ticks": "",
            "zerolinecolor": "white"
           }
          },
          "shapedefaults": {
           "line": {
            "color": "#2a3f5f"
           }
          },
          "ternary": {
           "aaxis": {
            "gridcolor": "white",
            "linecolor": "white",
            "ticks": ""
           },
           "baxis": {
            "gridcolor": "white",
            "linecolor": "white",
            "ticks": ""
           },
           "bgcolor": "#E5ECF6",
           "caxis": {
            "gridcolor": "white",
            "linecolor": "white",
            "ticks": ""
           }
          },
          "title": {
           "x": 0.05
          },
          "xaxis": {
           "automargin": true,
           "gridcolor": "white",
           "linecolor": "white",
           "ticks": "",
           "title": {
            "standoff": 15
           },
           "zerolinecolor": "white",
           "zerolinewidth": 2
          },
          "yaxis": {
           "automargin": true,
           "gridcolor": "white",
           "linecolor": "white",
           "ticks": "",
           "title": {
            "standoff": 15
           },
           "zerolinecolor": "white",
           "zerolinewidth": 2
          }
         }
        },
        "title": {
         "text": "Manifold Markets Prediction of Russian Invasion of Ukraine Before 2023"
        },
        "yaxis": {
         "range": [
          0,
          1
         ]
        }
       }
      }
     },
     "metadata": {},
     "output_type": "display_data"
    }
   ],
   "source": [
    "fig = plgo.Figure()\n",
    "fig.add_trace(plgo.Scatter(x=df_probs_grouped['day'], y=df_probs_grouped['prediction'], mode='lines+markers', name='Manifold Prediction %'))\n",
    "fig.add_trace(plgo.Scatter(x=df_probs_grouped['day'], y=df_probs_grouped['prediction_EMA'], mode='lines+markers', name='Manifold Prediction % EMA'))\n",
    "\n",
    "fig.update_yaxes(range=[0, 1])\n",
    "fig.update_layout(title='Manifold Markets Prediction of Russian Invasion of Ukraine Before 2023')\n",
    "fig.show()"
   ]
  },
  {
   "cell_type": "code",
   "execution_count": 18,
   "metadata": {},
   "outputs": [
    {
     "data": {
      "application/vnd.plotly.v1+json": {
       "config": {
        "plotlyServerURL": "https://plot.ly"
       },
       "data": [
        {
         "mode": "lines+markers",
         "name": "Brent Crude",
         "type": "scatter",
         "x": [
          "2022-01-03T00:00:00",
          "2022-01-04T00:00:00",
          "2022-01-05T00:00:00",
          "2022-01-06T00:00:00",
          "2022-01-07T00:00:00",
          "2022-01-10T00:00:00",
          "2022-01-11T00:00:00",
          "2022-01-12T00:00:00",
          "2022-01-13T00:00:00",
          "2022-01-14T00:00:00",
          "2022-01-17T00:00:00",
          "2022-01-18T00:00:00",
          "2022-01-19T00:00:00",
          "2022-01-20T00:00:00",
          "2022-01-21T00:00:00",
          "2022-01-24T00:00:00",
          "2022-01-25T00:00:00",
          "2022-01-26T00:00:00",
          "2022-01-27T00:00:00",
          "2022-01-28T00:00:00",
          "2022-01-31T00:00:00",
          "2022-02-01T00:00:00",
          "2022-02-02T00:00:00",
          "2022-02-03T00:00:00",
          "2022-02-04T00:00:00",
          "2022-02-07T00:00:00",
          "2022-02-08T00:00:00",
          "2022-02-09T00:00:00",
          "2022-02-10T00:00:00",
          "2022-02-11T00:00:00",
          "2022-02-14T00:00:00",
          "2022-02-15T00:00:00",
          "2022-02-16T00:00:00",
          "2022-02-17T00:00:00",
          "2022-02-18T00:00:00",
          "2022-02-21T00:00:00",
          "2022-02-22T00:00:00",
          "2022-02-23T00:00:00",
          "2022-02-24T00:00:00"
         ],
         "y": [
          0,
          0.057110862262037855,
          0.10190369540873423,
          0.1685330347144452,
          0.15509518477043652,
          0.10582306830907058,
          0.2653975363941767,
          0.31858902575587894,
          0.30739081746920466,
          0.3964165733482642,
          0.41993281075028,
          0.4776035834266518,
          0.5296752519596861,
          0.5263157894736837,
          0.4988801791713324,
          0.4081746920492717,
          0.5162374020156775,
          0.5464725643896972,
          0.5145576707726762,
          0.5341545352743556,
          0.5755879059350505,
          0.569988801791713,
          0.587346024636058,
          0.6791713325867859,
          0.8001119820828663,
          0.7676371780515114,
          0.6606942889137737,
          0.7038073908174688,
          0.6959686450167969,
          0.86562150055991,
          0.9798432250839866,
          0.8006718924972003,
          0.8863381858902575,
          0.7833146696528552,
          0.815229563269877,
          0.9188129899216124,
          1,
          0.8437849944008955,
          0.9204927211646136
         ]
        },
        {
         "mode": "lines+markers",
         "name": "Brent Crude EMA",
         "type": "scatter",
         "x": [
          "2022-01-03T00:00:00",
          "2022-01-04T00:00:00",
          "2022-01-05T00:00:00",
          "2022-01-06T00:00:00",
          "2022-01-07T00:00:00",
          "2022-01-10T00:00:00",
          "2022-01-11T00:00:00",
          "2022-01-12T00:00:00",
          "2022-01-13T00:00:00",
          "2022-01-14T00:00:00",
          "2022-01-17T00:00:00",
          "2022-01-18T00:00:00",
          "2022-01-19T00:00:00",
          "2022-01-20T00:00:00",
          "2022-01-21T00:00:00",
          "2022-01-24T00:00:00",
          "2022-01-25T00:00:00",
          "2022-01-26T00:00:00",
          "2022-01-27T00:00:00",
          "2022-01-28T00:00:00",
          "2022-01-31T00:00:00",
          "2022-02-01T00:00:00",
          "2022-02-02T00:00:00",
          "2022-02-03T00:00:00",
          "2022-02-04T00:00:00",
          "2022-02-07T00:00:00",
          "2022-02-08T00:00:00",
          "2022-02-09T00:00:00",
          "2022-02-10T00:00:00",
          "2022-02-11T00:00:00",
          "2022-02-14T00:00:00",
          "2022-02-15T00:00:00",
          "2022-02-16T00:00:00",
          "2022-02-17T00:00:00",
          "2022-02-18T00:00:00",
          "2022-02-21T00:00:00",
          "2022-02-22T00:00:00",
          "2022-02-23T00:00:00",
          "2022-02-24T00:00:00"
         ],
         "y": [
          0,
          0.021110201738183,
          0.051740690534762324,
          0.09678958509369508,
          0.1218550751749793,
          0.12035267882759942,
          0.17833546847230775,
          0.2366521239719895,
          0.27139063906232996,
          0.3274567283026655,
          0.3735265571393961,
          0.42555694086420504,
          0.47949140022634196,
          0.5142059298949322,
          0.5272077743291792,
          0.5023477031521515,
          0.5257181354603028,
          0.5524744128212449,
          0.5585150536199479,
          0.5697858441606158,
          0.5926149489193508,
          0.6057647244704503,
          0.6209470871308272,
          0.6650105552285487,
          0.7390901572490637,
          0.7764727183920096,
          0.761864538252082,
          0.7680618841768372,
          0.7692959694567266,
          0.8328284099047848,
          0.9174037736798556,
          0.9075592656454081,
          0.9326615628963834,
          0.9113152794967827,
          0.9088813013389742,
          0.9455467602294924,
          1,
          0.9785595492102106,
          0.9926198137634001
         ]
        },
        {
         "mode": "lines+markers",
         "name": "Henry Hub",
         "type": "scatter",
         "x": [
          "2022-01-03T00:00:00",
          "2022-01-04T00:00:00",
          "2022-01-05T00:00:00",
          "2022-01-06T00:00:00",
          "2022-01-07T00:00:00",
          "2022-01-10T00:00:00",
          "2022-01-11T00:00:00",
          "2022-01-12T00:00:00",
          "2022-01-13T00:00:00",
          "2022-01-14T00:00:00",
          "2022-01-17T00:00:00",
          "2022-01-18T00:00:00",
          "2022-01-19T00:00:00",
          "2022-01-20T00:00:00",
          "2022-01-21T00:00:00",
          "2022-01-24T00:00:00",
          "2022-01-25T00:00:00",
          "2022-01-26T00:00:00",
          "2022-01-27T00:00:00",
          "2022-01-28T00:00:00",
          "2022-01-31T00:00:00",
          "2022-02-01T00:00:00",
          "2022-02-02T00:00:00",
          "2022-02-03T00:00:00",
          "2022-02-04T00:00:00",
          "2022-02-07T00:00:00",
          "2022-02-08T00:00:00",
          "2022-02-09T00:00:00",
          "2022-02-10T00:00:00",
          "2022-02-11T00:00:00",
          "2022-02-14T00:00:00",
          "2022-02-15T00:00:00",
          "2022-02-16T00:00:00",
          "2022-02-17T00:00:00",
          "2022-02-18T00:00:00",
          "2022-02-21T00:00:00",
          "2022-02-22T00:00:00",
          "2022-02-23T00:00:00",
          "2022-02-24T00:00:00"
         ],
         "y": [
          0.0033670033670034445,
          0,
          0.016835016835016776,
          0.07070707070707069,
          0.0336700336700337,
          0.14478114478114482,
          0.14478114478114482,
          0.2996632996632997,
          0.3535353535353536,
          0.2154882154882155,
          0.276094276094276,
          0.276094276094276,
          0.39057239057239046,
          0.2424242424242425,
          0.12794612794612806,
          0.1582491582491583,
          0.1717171717171718,
          0.2356902356902356,
          0.2356902356902356,
          0.65993265993266,
          0.616161616161616,
          0.5791245791245792,
          1,
          0.7104377104377103,
          0.5420875420875421,
          0.2390572390572392,
          0.19191919191919185,
          0.13468013468013465,
          0.10101010101010109,
          0.10437710437710439,
          0.10774410774410768,
          0.19528619528619515,
          0.2222222222222221,
          0.28282828282828293,
          0.2962962962962964,
          0.25252525252525265,
          0.25252525252525265,
          0.2895622895622895,
          0.3535353535353536
         ]
        },
        {
         "mode": "lines+markers",
         "name": "Henry Hub EMA",
         "type": "scatter",
         "x": [
          "2022-01-03T00:00:00",
          "2022-01-04T00:00:00",
          "2022-01-05T00:00:00",
          "2022-01-06T00:00:00",
          "2022-01-07T00:00:00",
          "2022-01-10T00:00:00",
          "2022-01-11T00:00:00",
          "2022-01-12T00:00:00",
          "2022-01-13T00:00:00",
          "2022-01-14T00:00:00",
          "2022-01-17T00:00:00",
          "2022-01-18T00:00:00",
          "2022-01-19T00:00:00",
          "2022-01-20T00:00:00",
          "2022-01-21T00:00:00",
          "2022-01-24T00:00:00",
          "2022-01-25T00:00:00",
          "2022-01-26T00:00:00",
          "2022-01-27T00:00:00",
          "2022-01-28T00:00:00",
          "2022-01-31T00:00:00",
          "2022-02-01T00:00:00",
          "2022-02-02T00:00:00",
          "2022-02-03T00:00:00",
          "2022-02-04T00:00:00",
          "2022-02-07T00:00:00",
          "2022-02-08T00:00:00",
          "2022-02-09T00:00:00",
          "2022-02-10T00:00:00",
          "2022-02-11T00:00:00",
          "2022-02-14T00:00:00",
          "2022-02-15T00:00:00",
          "2022-02-16T00:00:00",
          "2022-02-17T00:00:00",
          "2022-02-18T00:00:00",
          "2022-02-21T00:00:00",
          "2022-02-22T00:00:00",
          "2022-02-23T00:00:00",
          "2022-02-24T00:00:00"
         ],
         "y": [
          0.001661472279975365,
          0,
          0.007199713213226434,
          0.03858307850164923,
          0.04122912694753593,
          0.09782174448397966,
          0.1355501561749421,
          0.23713015551444858,
          0.3314337115537248,
          0.3261823854342539,
          0.35258800239416244,
          0.3701917470341016,
          0.4384176343132223,
          0.4107967788470551,
          0.3358928176837823,
          0.3009100940947117,
          0.2842341674885659,
          0.30468485640399984,
          0.3183186490142894,
          0.5367533513647068,
          0.6607773466253056,
          0.7251838150526434,
          0.9758054956677843,
          1,
          0.9330560555560441,
          0.7388942540622943,
          0.5861924411468064,
          0.4561462037769005,
          0.35283398939720995,
          0.2856206520907251,
          0.24247323283304362,
          0.2569065659406144,
          0.279820566252131,
          0.3250030674993647,
          0.36177062411742167,
          0.3646831888897806,
          0.36662489873801984,
          0.38619556704990776,
          0.4308106525773644
         ]
        },
        {
         "mode": "lines+markers",
         "name": "WTI",
         "type": "scatter",
         "x": [
          "2022-01-03T00:00:00",
          "2022-01-04T00:00:00",
          "2022-01-05T00:00:00",
          "2022-01-06T00:00:00",
          "2022-01-07T00:00:00",
          "2022-01-10T00:00:00",
          "2022-01-11T00:00:00",
          "2022-01-12T00:00:00",
          "2022-01-13T00:00:00",
          "2022-01-14T00:00:00",
          "2022-01-17T00:00:00",
          "2022-01-18T00:00:00",
          "2022-01-19T00:00:00",
          "2022-01-20T00:00:00",
          "2022-01-21T00:00:00",
          "2022-01-24T00:00:00",
          "2022-01-25T00:00:00",
          "2022-01-26T00:00:00",
          "2022-01-27T00:00:00",
          "2022-01-28T00:00:00",
          "2022-01-31T00:00:00",
          "2022-02-01T00:00:00",
          "2022-02-02T00:00:00",
          "2022-02-03T00:00:00",
          "2022-02-04T00:00:00",
          "2022-02-07T00:00:00",
          "2022-02-08T00:00:00",
          "2022-02-09T00:00:00",
          "2022-02-10T00:00:00",
          "2022-02-11T00:00:00",
          "2022-02-14T00:00:00",
          "2022-02-15T00:00:00",
          "2022-02-16T00:00:00",
          "2022-02-17T00:00:00",
          "2022-02-18T00:00:00",
          "2022-02-21T00:00:00",
          "2022-02-22T00:00:00",
          "2022-02-23T00:00:00",
          "2022-02-24T00:00:00"
         ],
         "y": [
          0,
          0.05171530977982617,
          0.09421402969790084,
          0.1781874039938558,
          0.15412186379928342,
          0.1085509472606249,
          0.2652329749103946,
          0.33384536610343113,
          0.30619559651817735,
          0.400921658986175,
          0.48284690220174126,
          0.48284690220174126,
          0.5555555555555559,
          0.5273937532002053,
          0.4695340501792115,
          0.43471582181259644,
          0.5437788018433182,
          0.6318484383000513,
          0.5949820788530468,
          0.5980542754736307,
          0.674347158218126,
          0.6262160778289813,
          0.6231438812083974,
          0.7260624679979522,
          0.833589349718382,
          0.781362007168459,
          0.6825396825396824,
          0.6953405017921146,
          0.7086533538146442,
          0.8760880696364567,
          1,
          0.8233486943164361,
          0.9134664618535587,
          0.8084997439836152,
          0.7818740399385565,
          0.8253968253968256,
          0.8253968253968256,
          0.8269329237071175,
          0.8591909882232462
         ]
        },
        {
         "mode": "lines+markers",
         "name": "WTI EMA",
         "type": "scatter",
         "x": [
          "2022-01-03T00:00:00",
          "2022-01-04T00:00:00",
          "2022-01-05T00:00:00",
          "2022-01-06T00:00:00",
          "2022-01-07T00:00:00",
          "2022-01-10T00:00:00",
          "2022-01-11T00:00:00",
          "2022-01-12T00:00:00",
          "2022-01-13T00:00:00",
          "2022-01-14T00:00:00",
          "2022-01-17T00:00:00",
          "2022-01-18T00:00:00",
          "2022-01-19T00:00:00",
          "2022-01-20T00:00:00",
          "2022-01-21T00:00:00",
          "2022-01-24T00:00:00",
          "2022-01-25T00:00:00",
          "2022-01-26T00:00:00",
          "2022-01-27T00:00:00",
          "2022-01-28T00:00:00",
          "2022-01-31T00:00:00",
          "2022-02-01T00:00:00",
          "2022-02-02T00:00:00",
          "2022-02-03T00:00:00",
          "2022-02-04T00:00:00",
          "2022-02-07T00:00:00",
          "2022-02-08T00:00:00",
          "2022-02-09T00:00:00",
          "2022-02-10T00:00:00",
          "2022-02-11T00:00:00",
          "2022-02-14T00:00:00",
          "2022-02-15T00:00:00",
          "2022-02-16T00:00:00",
          "2022-02-17T00:00:00",
          "2022-02-18T00:00:00",
          "2022-02-21T00:00:00",
          "2022-02-22T00:00:00",
          "2022-02-23T00:00:00",
          "2022-02-24T00:00:00"
         ],
         "y": [
          0,
          0.01999018680982701,
          0.049744557275938815,
          0.10204011748910506,
          0.1276014601388538,
          0.12702724012903704,
          0.18720875514368407,
          0.25385139913876337,
          0.28759200581801714,
          0.3467014323152548,
          0.4177753393157796,
          0.4651579439827961,
          0.5248513622129063,
          0.5537612290738334,
          0.5506692151377802,
          0.5351491328794068,
          0.5669599340519733,
          0.622209829202894,
          0.6447926624357767,
          0.6610354204411203,
          0.7013543993885525,
          0.7096289903687841,
          0.7139578485055166,
          0.7566262049079764,
          0.8266355305960548,
          0.8531203049365992,
          0.8325777513191079,
          0.8238307816161501,
          0.8231454571645627,
          0.8874092780266725,
          0.9781491045549903,
          0.9703590108604345,
          1,
          0.9791865178816794,
          0.9550188857686969,
          0.9557305555696322,
          0.9562050021035887,
          0.9571150677179372,
          0.9701909045534345
         ]
        }
       ],
       "layout": {
        "template": {
         "data": {
          "bar": [
           {
            "error_x": {
             "color": "#2a3f5f"
            },
            "error_y": {
             "color": "#2a3f5f"
            },
            "marker": {
             "line": {
              "color": "#E5ECF6",
              "width": 0.5
             },
             "pattern": {
              "fillmode": "overlay",
              "size": 10,
              "solidity": 0.2
             }
            },
            "type": "bar"
           }
          ],
          "barpolar": [
           {
            "marker": {
             "line": {
              "color": "#E5ECF6",
              "width": 0.5
             },
             "pattern": {
              "fillmode": "overlay",
              "size": 10,
              "solidity": 0.2
             }
            },
            "type": "barpolar"
           }
          ],
          "carpet": [
           {
            "aaxis": {
             "endlinecolor": "#2a3f5f",
             "gridcolor": "white",
             "linecolor": "white",
             "minorgridcolor": "white",
             "startlinecolor": "#2a3f5f"
            },
            "baxis": {
             "endlinecolor": "#2a3f5f",
             "gridcolor": "white",
             "linecolor": "white",
             "minorgridcolor": "white",
             "startlinecolor": "#2a3f5f"
            },
            "type": "carpet"
           }
          ],
          "choropleth": [
           {
            "colorbar": {
             "outlinewidth": 0,
             "ticks": ""
            },
            "type": "choropleth"
           }
          ],
          "contour": [
           {
            "colorbar": {
             "outlinewidth": 0,
             "ticks": ""
            },
            "colorscale": [
             [
              0,
              "#0d0887"
             ],
             [
              0.1111111111111111,
              "#46039f"
             ],
             [
              0.2222222222222222,
              "#7201a8"
             ],
             [
              0.3333333333333333,
              "#9c179e"
             ],
             [
              0.4444444444444444,
              "#bd3786"
             ],
             [
              0.5555555555555556,
              "#d8576b"
             ],
             [
              0.6666666666666666,
              "#ed7953"
             ],
             [
              0.7777777777777778,
              "#fb9f3a"
             ],
             [
              0.8888888888888888,
              "#fdca26"
             ],
             [
              1,
              "#f0f921"
             ]
            ],
            "type": "contour"
           }
          ],
          "contourcarpet": [
           {
            "colorbar": {
             "outlinewidth": 0,
             "ticks": ""
            },
            "type": "contourcarpet"
           }
          ],
          "heatmap": [
           {
            "colorbar": {
             "outlinewidth": 0,
             "ticks": ""
            },
            "colorscale": [
             [
              0,
              "#0d0887"
             ],
             [
              0.1111111111111111,
              "#46039f"
             ],
             [
              0.2222222222222222,
              "#7201a8"
             ],
             [
              0.3333333333333333,
              "#9c179e"
             ],
             [
              0.4444444444444444,
              "#bd3786"
             ],
             [
              0.5555555555555556,
              "#d8576b"
             ],
             [
              0.6666666666666666,
              "#ed7953"
             ],
             [
              0.7777777777777778,
              "#fb9f3a"
             ],
             [
              0.8888888888888888,
              "#fdca26"
             ],
             [
              1,
              "#f0f921"
             ]
            ],
            "type": "heatmap"
           }
          ],
          "heatmapgl": [
           {
            "colorbar": {
             "outlinewidth": 0,
             "ticks": ""
            },
            "colorscale": [
             [
              0,
              "#0d0887"
             ],
             [
              0.1111111111111111,
              "#46039f"
             ],
             [
              0.2222222222222222,
              "#7201a8"
             ],
             [
              0.3333333333333333,
              "#9c179e"
             ],
             [
              0.4444444444444444,
              "#bd3786"
             ],
             [
              0.5555555555555556,
              "#d8576b"
             ],
             [
              0.6666666666666666,
              "#ed7953"
             ],
             [
              0.7777777777777778,
              "#fb9f3a"
             ],
             [
              0.8888888888888888,
              "#fdca26"
             ],
             [
              1,
              "#f0f921"
             ]
            ],
            "type": "heatmapgl"
           }
          ],
          "histogram": [
           {
            "marker": {
             "pattern": {
              "fillmode": "overlay",
              "size": 10,
              "solidity": 0.2
             }
            },
            "type": "histogram"
           }
          ],
          "histogram2d": [
           {
            "colorbar": {
             "outlinewidth": 0,
             "ticks": ""
            },
            "colorscale": [
             [
              0,
              "#0d0887"
             ],
             [
              0.1111111111111111,
              "#46039f"
             ],
             [
              0.2222222222222222,
              "#7201a8"
             ],
             [
              0.3333333333333333,
              "#9c179e"
             ],
             [
              0.4444444444444444,
              "#bd3786"
             ],
             [
              0.5555555555555556,
              "#d8576b"
             ],
             [
              0.6666666666666666,
              "#ed7953"
             ],
             [
              0.7777777777777778,
              "#fb9f3a"
             ],
             [
              0.8888888888888888,
              "#fdca26"
             ],
             [
              1,
              "#f0f921"
             ]
            ],
            "type": "histogram2d"
           }
          ],
          "histogram2dcontour": [
           {
            "colorbar": {
             "outlinewidth": 0,
             "ticks": ""
            },
            "colorscale": [
             [
              0,
              "#0d0887"
             ],
             [
              0.1111111111111111,
              "#46039f"
             ],
             [
              0.2222222222222222,
              "#7201a8"
             ],
             [
              0.3333333333333333,
              "#9c179e"
             ],
             [
              0.4444444444444444,
              "#bd3786"
             ],
             [
              0.5555555555555556,
              "#d8576b"
             ],
             [
              0.6666666666666666,
              "#ed7953"
             ],
             [
              0.7777777777777778,
              "#fb9f3a"
             ],
             [
              0.8888888888888888,
              "#fdca26"
             ],
             [
              1,
              "#f0f921"
             ]
            ],
            "type": "histogram2dcontour"
           }
          ],
          "mesh3d": [
           {
            "colorbar": {
             "outlinewidth": 0,
             "ticks": ""
            },
            "type": "mesh3d"
           }
          ],
          "parcoords": [
           {
            "line": {
             "colorbar": {
              "outlinewidth": 0,
              "ticks": ""
             }
            },
            "type": "parcoords"
           }
          ],
          "pie": [
           {
            "automargin": true,
            "type": "pie"
           }
          ],
          "scatter": [
           {
            "fillpattern": {
             "fillmode": "overlay",
             "size": 10,
             "solidity": 0.2
            },
            "type": "scatter"
           }
          ],
          "scatter3d": [
           {
            "line": {
             "colorbar": {
              "outlinewidth": 0,
              "ticks": ""
             }
            },
            "marker": {
             "colorbar": {
              "outlinewidth": 0,
              "ticks": ""
             }
            },
            "type": "scatter3d"
           }
          ],
          "scattercarpet": [
           {
            "marker": {
             "colorbar": {
              "outlinewidth": 0,
              "ticks": ""
             }
            },
            "type": "scattercarpet"
           }
          ],
          "scattergeo": [
           {
            "marker": {
             "colorbar": {
              "outlinewidth": 0,
              "ticks": ""
             }
            },
            "type": "scattergeo"
           }
          ],
          "scattergl": [
           {
            "marker": {
             "colorbar": {
              "outlinewidth": 0,
              "ticks": ""
             }
            },
            "type": "scattergl"
           }
          ],
          "scattermapbox": [
           {
            "marker": {
             "colorbar": {
              "outlinewidth": 0,
              "ticks": ""
             }
            },
            "type": "scattermapbox"
           }
          ],
          "scatterpolar": [
           {
            "marker": {
             "colorbar": {
              "outlinewidth": 0,
              "ticks": ""
             }
            },
            "type": "scatterpolar"
           }
          ],
          "scatterpolargl": [
           {
            "marker": {
             "colorbar": {
              "outlinewidth": 0,
              "ticks": ""
             }
            },
            "type": "scatterpolargl"
           }
          ],
          "scatterternary": [
           {
            "marker": {
             "colorbar": {
              "outlinewidth": 0,
              "ticks": ""
             }
            },
            "type": "scatterternary"
           }
          ],
          "surface": [
           {
            "colorbar": {
             "outlinewidth": 0,
             "ticks": ""
            },
            "colorscale": [
             [
              0,
              "#0d0887"
             ],
             [
              0.1111111111111111,
              "#46039f"
             ],
             [
              0.2222222222222222,
              "#7201a8"
             ],
             [
              0.3333333333333333,
              "#9c179e"
             ],
             [
              0.4444444444444444,
              "#bd3786"
             ],
             [
              0.5555555555555556,
              "#d8576b"
             ],
             [
              0.6666666666666666,
              "#ed7953"
             ],
             [
              0.7777777777777778,
              "#fb9f3a"
             ],
             [
              0.8888888888888888,
              "#fdca26"
             ],
             [
              1,
              "#f0f921"
             ]
            ],
            "type": "surface"
           }
          ],
          "table": [
           {
            "cells": {
             "fill": {
              "color": "#EBF0F8"
             },
             "line": {
              "color": "white"
             }
            },
            "header": {
             "fill": {
              "color": "#C8D4E3"
             },
             "line": {
              "color": "white"
             }
            },
            "type": "table"
           }
          ]
         },
         "layout": {
          "annotationdefaults": {
           "arrowcolor": "#2a3f5f",
           "arrowhead": 0,
           "arrowwidth": 1
          },
          "autotypenumbers": "strict",
          "coloraxis": {
           "colorbar": {
            "outlinewidth": 0,
            "ticks": ""
           }
          },
          "colorscale": {
           "diverging": [
            [
             0,
             "#8e0152"
            ],
            [
             0.1,
             "#c51b7d"
            ],
            [
             0.2,
             "#de77ae"
            ],
            [
             0.3,
             "#f1b6da"
            ],
            [
             0.4,
             "#fde0ef"
            ],
            [
             0.5,
             "#f7f7f7"
            ],
            [
             0.6,
             "#e6f5d0"
            ],
            [
             0.7,
             "#b8e186"
            ],
            [
             0.8,
             "#7fbc41"
            ],
            [
             0.9,
             "#4d9221"
            ],
            [
             1,
             "#276419"
            ]
           ],
           "sequential": [
            [
             0,
             "#0d0887"
            ],
            [
             0.1111111111111111,
             "#46039f"
            ],
            [
             0.2222222222222222,
             "#7201a8"
            ],
            [
             0.3333333333333333,
             "#9c179e"
            ],
            [
             0.4444444444444444,
             "#bd3786"
            ],
            [
             0.5555555555555556,
             "#d8576b"
            ],
            [
             0.6666666666666666,
             "#ed7953"
            ],
            [
             0.7777777777777778,
             "#fb9f3a"
            ],
            [
             0.8888888888888888,
             "#fdca26"
            ],
            [
             1,
             "#f0f921"
            ]
           ],
           "sequentialminus": [
            [
             0,
             "#0d0887"
            ],
            [
             0.1111111111111111,
             "#46039f"
            ],
            [
             0.2222222222222222,
             "#7201a8"
            ],
            [
             0.3333333333333333,
             "#9c179e"
            ],
            [
             0.4444444444444444,
             "#bd3786"
            ],
            [
             0.5555555555555556,
             "#d8576b"
            ],
            [
             0.6666666666666666,
             "#ed7953"
            ],
            [
             0.7777777777777778,
             "#fb9f3a"
            ],
            [
             0.8888888888888888,
             "#fdca26"
            ],
            [
             1,
             "#f0f921"
            ]
           ]
          },
          "colorway": [
           "#636efa",
           "#EF553B",
           "#00cc96",
           "#ab63fa",
           "#FFA15A",
           "#19d3f3",
           "#FF6692",
           "#B6E880",
           "#FF97FF",
           "#FECB52"
          ],
          "font": {
           "color": "#2a3f5f"
          },
          "geo": {
           "bgcolor": "white",
           "lakecolor": "white",
           "landcolor": "#E5ECF6",
           "showlakes": true,
           "showland": true,
           "subunitcolor": "white"
          },
          "hoverlabel": {
           "align": "left"
          },
          "hovermode": "closest",
          "mapbox": {
           "style": "light"
          },
          "paper_bgcolor": "white",
          "plot_bgcolor": "#E5ECF6",
          "polar": {
           "angularaxis": {
            "gridcolor": "white",
            "linecolor": "white",
            "ticks": ""
           },
           "bgcolor": "#E5ECF6",
           "radialaxis": {
            "gridcolor": "white",
            "linecolor": "white",
            "ticks": ""
           }
          },
          "scene": {
           "xaxis": {
            "backgroundcolor": "#E5ECF6",
            "gridcolor": "white",
            "gridwidth": 2,
            "linecolor": "white",
            "showbackground": true,
            "ticks": "",
            "zerolinecolor": "white"
           },
           "yaxis": {
            "backgroundcolor": "#E5ECF6",
            "gridcolor": "white",
            "gridwidth": 2,
            "linecolor": "white",
            "showbackground": true,
            "ticks": "",
            "zerolinecolor": "white"
           },
           "zaxis": {
            "backgroundcolor": "#E5ECF6",
            "gridcolor": "white",
            "gridwidth": 2,
            "linecolor": "white",
            "showbackground": true,
            "ticks": "",
            "zerolinecolor": "white"
           }
          },
          "shapedefaults": {
           "line": {
            "color": "#2a3f5f"
           }
          },
          "ternary": {
           "aaxis": {
            "gridcolor": "white",
            "linecolor": "white",
            "ticks": ""
           },
           "baxis": {
            "gridcolor": "white",
            "linecolor": "white",
            "ticks": ""
           },
           "bgcolor": "#E5ECF6",
           "caxis": {
            "gridcolor": "white",
            "linecolor": "white",
            "ticks": ""
           }
          },
          "title": {
           "x": 0.05
          },
          "xaxis": {
           "automargin": true,
           "gridcolor": "white",
           "linecolor": "white",
           "ticks": "",
           "title": {
            "standoff": 15
           },
           "zerolinecolor": "white",
           "zerolinewidth": 2
          },
          "yaxis": {
           "automargin": true,
           "gridcolor": "white",
           "linecolor": "white",
           "ticks": "",
           "title": {
            "standoff": 15
           },
           "zerolinecolor": "white",
           "zerolinewidth": 2
          }
         }
        },
        "title": {
         "text": "Normalized Oil and Natural Gas Prices"
        }
       }
      }
     },
     "metadata": {},
     "output_type": "display_data"
    }
   ],
   "source": [
    "fig = plgo.Figure()\n",
    "normalize = lambda series: (series - series.min()) / (series.max() - series.min())\n",
    "for (df,name) in [(brent_df, 'Brent Crude'), (henry_df, 'Henry Hub'), (wti_df, 'WTI')]:\n",
    "    fig.add_trace(plgo.Scatter(x=df['Date'], y=normalize(df['Value']), mode='lines+markers', name=name))\n",
    "    fig.add_trace(plgo.Scatter(x=df['Date'], y=normalize(df['Value_EMA']), mode='lines+markers', name=name + ' EMA'))\n",
    "\n",
    "fig.update_layout(title='Normalized Oil and Natural Gas Prices')\n",
    "fig.show()"
   ]
  },
  {
   "cell_type": "code",
   "execution_count": 19,
   "metadata": {},
   "outputs": [
    {
     "data": {
      "application/vnd.plotly.v1+json": {
       "config": {
        "plotlyServerURL": "https://plot.ly"
       },
       "data": [
        {
         "mode": "lines+markers",
         "name": "Brent Crude EMA",
         "type": "scatter",
         "x": [
          "2022-01-03T00:00:00",
          "2022-01-04T00:00:00",
          "2022-01-05T00:00:00",
          "2022-01-06T00:00:00",
          "2022-01-07T00:00:00",
          "2022-01-10T00:00:00",
          "2022-01-11T00:00:00",
          "2022-01-12T00:00:00",
          "2022-01-13T00:00:00",
          "2022-01-14T00:00:00",
          "2022-01-17T00:00:00",
          "2022-01-18T00:00:00",
          "2022-01-19T00:00:00",
          "2022-01-20T00:00:00",
          "2022-01-21T00:00:00",
          "2022-01-24T00:00:00",
          "2022-01-25T00:00:00",
          "2022-01-26T00:00:00",
          "2022-01-27T00:00:00",
          "2022-01-28T00:00:00",
          "2022-01-31T00:00:00",
          "2022-02-01T00:00:00",
          "2022-02-02T00:00:00",
          "2022-02-03T00:00:00",
          "2022-02-04T00:00:00",
          "2022-02-07T00:00:00",
          "2022-02-08T00:00:00",
          "2022-02-09T00:00:00",
          "2022-02-10T00:00:00",
          "2022-02-11T00:00:00",
          "2022-02-14T00:00:00",
          "2022-02-15T00:00:00",
          "2022-02-16T00:00:00",
          "2022-02-17T00:00:00",
          "2022-02-18T00:00:00",
          "2022-02-21T00:00:00",
          "2022-02-22T00:00:00",
          "2022-02-23T00:00:00",
          "2022-02-24T00:00:00"
         ],
         "y": [
          0,
          0.021110201738183,
          0.051740690534762324,
          0.09678958509369508,
          0.1218550751749793,
          0.12035267882759942,
          0.17833546847230775,
          0.2366521239719895,
          0.27139063906232996,
          0.3274567283026655,
          0.3735265571393961,
          0.42555694086420504,
          0.47949140022634196,
          0.5142059298949322,
          0.5272077743291792,
          0.5023477031521515,
          0.5257181354603028,
          0.5524744128212449,
          0.5585150536199479,
          0.5697858441606158,
          0.5926149489193508,
          0.6057647244704503,
          0.6209470871308272,
          0.6650105552285487,
          0.7390901572490637,
          0.7764727183920096,
          0.761864538252082,
          0.7680618841768372,
          0.7692959694567266,
          0.8328284099047848,
          0.9174037736798556,
          0.9075592656454081,
          0.9326615628963834,
          0.9113152794967827,
          0.9088813013389742,
          0.9455467602294924,
          1,
          0.9785595492102106,
          0.9926198137634001
         ]
        },
        {
         "mode": "lines+markers",
         "name": "Henry Hub EMA",
         "type": "scatter",
         "x": [
          "2022-01-03T00:00:00",
          "2022-01-04T00:00:00",
          "2022-01-05T00:00:00",
          "2022-01-06T00:00:00",
          "2022-01-07T00:00:00",
          "2022-01-10T00:00:00",
          "2022-01-11T00:00:00",
          "2022-01-12T00:00:00",
          "2022-01-13T00:00:00",
          "2022-01-14T00:00:00",
          "2022-01-17T00:00:00",
          "2022-01-18T00:00:00",
          "2022-01-19T00:00:00",
          "2022-01-20T00:00:00",
          "2022-01-21T00:00:00",
          "2022-01-24T00:00:00",
          "2022-01-25T00:00:00",
          "2022-01-26T00:00:00",
          "2022-01-27T00:00:00",
          "2022-01-28T00:00:00",
          "2022-01-31T00:00:00",
          "2022-02-01T00:00:00",
          "2022-02-02T00:00:00",
          "2022-02-03T00:00:00",
          "2022-02-04T00:00:00",
          "2022-02-07T00:00:00",
          "2022-02-08T00:00:00",
          "2022-02-09T00:00:00",
          "2022-02-10T00:00:00",
          "2022-02-11T00:00:00",
          "2022-02-14T00:00:00",
          "2022-02-15T00:00:00",
          "2022-02-16T00:00:00",
          "2022-02-17T00:00:00",
          "2022-02-18T00:00:00",
          "2022-02-21T00:00:00",
          "2022-02-22T00:00:00",
          "2022-02-23T00:00:00",
          "2022-02-24T00:00:00"
         ],
         "y": [
          0.001661472279975365,
          0,
          0.007199713213226434,
          0.03858307850164923,
          0.04122912694753593,
          0.09782174448397966,
          0.1355501561749421,
          0.23713015551444858,
          0.3314337115537248,
          0.3261823854342539,
          0.35258800239416244,
          0.3701917470341016,
          0.4384176343132223,
          0.4107967788470551,
          0.3358928176837823,
          0.3009100940947117,
          0.2842341674885659,
          0.30468485640399984,
          0.3183186490142894,
          0.5367533513647068,
          0.6607773466253056,
          0.7251838150526434,
          0.9758054956677843,
          1,
          0.9330560555560441,
          0.7388942540622943,
          0.5861924411468064,
          0.4561462037769005,
          0.35283398939720995,
          0.2856206520907251,
          0.24247323283304362,
          0.2569065659406144,
          0.279820566252131,
          0.3250030674993647,
          0.36177062411742167,
          0.3646831888897806,
          0.36662489873801984,
          0.38619556704990776,
          0.4308106525773644
         ]
        },
        {
         "mode": "lines+markers",
         "name": "WTI EMA",
         "type": "scatter",
         "x": [
          "2022-01-03T00:00:00",
          "2022-01-04T00:00:00",
          "2022-01-05T00:00:00",
          "2022-01-06T00:00:00",
          "2022-01-07T00:00:00",
          "2022-01-10T00:00:00",
          "2022-01-11T00:00:00",
          "2022-01-12T00:00:00",
          "2022-01-13T00:00:00",
          "2022-01-14T00:00:00",
          "2022-01-17T00:00:00",
          "2022-01-18T00:00:00",
          "2022-01-19T00:00:00",
          "2022-01-20T00:00:00",
          "2022-01-21T00:00:00",
          "2022-01-24T00:00:00",
          "2022-01-25T00:00:00",
          "2022-01-26T00:00:00",
          "2022-01-27T00:00:00",
          "2022-01-28T00:00:00",
          "2022-01-31T00:00:00",
          "2022-02-01T00:00:00",
          "2022-02-02T00:00:00",
          "2022-02-03T00:00:00",
          "2022-02-04T00:00:00",
          "2022-02-07T00:00:00",
          "2022-02-08T00:00:00",
          "2022-02-09T00:00:00",
          "2022-02-10T00:00:00",
          "2022-02-11T00:00:00",
          "2022-02-14T00:00:00",
          "2022-02-15T00:00:00",
          "2022-02-16T00:00:00",
          "2022-02-17T00:00:00",
          "2022-02-18T00:00:00",
          "2022-02-21T00:00:00",
          "2022-02-22T00:00:00",
          "2022-02-23T00:00:00",
          "2022-02-24T00:00:00"
         ],
         "y": [
          0,
          0.01999018680982701,
          0.049744557275938815,
          0.10204011748910506,
          0.1276014601388538,
          0.12702724012903704,
          0.18720875514368407,
          0.25385139913876337,
          0.28759200581801714,
          0.3467014323152548,
          0.4177753393157796,
          0.4651579439827961,
          0.5248513622129063,
          0.5537612290738334,
          0.5506692151377802,
          0.5351491328794068,
          0.5669599340519733,
          0.622209829202894,
          0.6447926624357767,
          0.6610354204411203,
          0.7013543993885525,
          0.7096289903687841,
          0.7139578485055166,
          0.7566262049079764,
          0.8266355305960548,
          0.8531203049365992,
          0.8325777513191079,
          0.8238307816161501,
          0.8231454571645627,
          0.8874092780266725,
          0.9781491045549903,
          0.9703590108604345,
          1,
          0.9791865178816794,
          0.9550188857686969,
          0.9557305555696322,
          0.9562050021035887,
          0.9571150677179372,
          0.9701909045534345
         ]
        },
        {
         "mode": "lines+markers",
         "name": "Manifold Prediction % EMA",
         "type": "scatter",
         "x": [
          "2022-01-03T00:00:00",
          "2022-01-04T00:00:00",
          "2022-01-05T00:00:00",
          "2022-01-06T00:00:00",
          "2022-01-07T00:00:00",
          "2022-01-10T00:00:00",
          "2022-01-11T00:00:00",
          "2022-01-12T00:00:00",
          "2022-01-13T00:00:00",
          "2022-01-14T00:00:00",
          "2022-01-17T00:00:00",
          "2022-01-18T00:00:00",
          "2022-01-19T00:00:00",
          "2022-01-20T00:00:00",
          "2022-01-21T00:00:00",
          "2022-01-24T00:00:00",
          "2022-01-25T00:00:00",
          "2022-01-26T00:00:00",
          "2022-01-27T00:00:00",
          "2022-01-28T00:00:00",
          "2022-01-31T00:00:00",
          "2022-02-01T00:00:00",
          "2022-02-02T00:00:00",
          "2022-02-03T00:00:00",
          "2022-02-04T00:00:00",
          "2022-02-07T00:00:00",
          "2022-02-08T00:00:00",
          "2022-02-09T00:00:00",
          "2022-02-10T00:00:00",
          "2022-02-11T00:00:00",
          "2022-02-14T00:00:00",
          "2022-02-15T00:00:00",
          "2022-02-16T00:00:00",
          "2022-02-17T00:00:00",
          "2022-02-18T00:00:00",
          "2022-02-21T00:00:00",
          "2022-02-22T00:00:00",
          "2022-02-23T00:00:00",
          "2022-02-24T00:00:00"
         ],
         "y": [
          0.05500739001542956,
          0.047239593757162475,
          0.03703383983002551,
          0.022400569758098027,
          0,
          0.0032749364012712332,
          0.01763530918822875,
          0.03209921171405081,
          0.0500196139501742,
          0.10343805161792319,
          0.18581431780837346,
          0.2357918424399439,
          0.32253055860338364,
          0.3538836863303082,
          0.36712228794816626,
          0.38948060319234157,
          0.3958942507006649,
          0.3985543631322993,
          0.41098450073810416,
          0.38504452071896283,
          0.34971058010468786,
          0.33926407754718924,
          0.3353834048983831,
          0.32071371101279944,
          0.31008183843559395,
          0.3298966525922405,
          0.3252546269813396,
          0.31081229564858637,
          0.2966002409511759,
          0.3278117129893094,
          0.4442800023488466,
          0.4891745123208543,
          0.5253529478705574,
          0.5533726683610648,
          0.6183220552100929,
          0.6893008581531119,
          0.8125871299979393,
          0.9020522176711454,
          1
         ]
        }
       ],
       "layout": {
        "template": {
         "data": {
          "bar": [
           {
            "error_x": {
             "color": "#2a3f5f"
            },
            "error_y": {
             "color": "#2a3f5f"
            },
            "marker": {
             "line": {
              "color": "#E5ECF6",
              "width": 0.5
             },
             "pattern": {
              "fillmode": "overlay",
              "size": 10,
              "solidity": 0.2
             }
            },
            "type": "bar"
           }
          ],
          "barpolar": [
           {
            "marker": {
             "line": {
              "color": "#E5ECF6",
              "width": 0.5
             },
             "pattern": {
              "fillmode": "overlay",
              "size": 10,
              "solidity": 0.2
             }
            },
            "type": "barpolar"
           }
          ],
          "carpet": [
           {
            "aaxis": {
             "endlinecolor": "#2a3f5f",
             "gridcolor": "white",
             "linecolor": "white",
             "minorgridcolor": "white",
             "startlinecolor": "#2a3f5f"
            },
            "baxis": {
             "endlinecolor": "#2a3f5f",
             "gridcolor": "white",
             "linecolor": "white",
             "minorgridcolor": "white",
             "startlinecolor": "#2a3f5f"
            },
            "type": "carpet"
           }
          ],
          "choropleth": [
           {
            "colorbar": {
             "outlinewidth": 0,
             "ticks": ""
            },
            "type": "choropleth"
           }
          ],
          "contour": [
           {
            "colorbar": {
             "outlinewidth": 0,
             "ticks": ""
            },
            "colorscale": [
             [
              0,
              "#0d0887"
             ],
             [
              0.1111111111111111,
              "#46039f"
             ],
             [
              0.2222222222222222,
              "#7201a8"
             ],
             [
              0.3333333333333333,
              "#9c179e"
             ],
             [
              0.4444444444444444,
              "#bd3786"
             ],
             [
              0.5555555555555556,
              "#d8576b"
             ],
             [
              0.6666666666666666,
              "#ed7953"
             ],
             [
              0.7777777777777778,
              "#fb9f3a"
             ],
             [
              0.8888888888888888,
              "#fdca26"
             ],
             [
              1,
              "#f0f921"
             ]
            ],
            "type": "contour"
           }
          ],
          "contourcarpet": [
           {
            "colorbar": {
             "outlinewidth": 0,
             "ticks": ""
            },
            "type": "contourcarpet"
           }
          ],
          "heatmap": [
           {
            "colorbar": {
             "outlinewidth": 0,
             "ticks": ""
            },
            "colorscale": [
             [
              0,
              "#0d0887"
             ],
             [
              0.1111111111111111,
              "#46039f"
             ],
             [
              0.2222222222222222,
              "#7201a8"
             ],
             [
              0.3333333333333333,
              "#9c179e"
             ],
             [
              0.4444444444444444,
              "#bd3786"
             ],
             [
              0.5555555555555556,
              "#d8576b"
             ],
             [
              0.6666666666666666,
              "#ed7953"
             ],
             [
              0.7777777777777778,
              "#fb9f3a"
             ],
             [
              0.8888888888888888,
              "#fdca26"
             ],
             [
              1,
              "#f0f921"
             ]
            ],
            "type": "heatmap"
           }
          ],
          "heatmapgl": [
           {
            "colorbar": {
             "outlinewidth": 0,
             "ticks": ""
            },
            "colorscale": [
             [
              0,
              "#0d0887"
             ],
             [
              0.1111111111111111,
              "#46039f"
             ],
             [
              0.2222222222222222,
              "#7201a8"
             ],
             [
              0.3333333333333333,
              "#9c179e"
             ],
             [
              0.4444444444444444,
              "#bd3786"
             ],
             [
              0.5555555555555556,
              "#d8576b"
             ],
             [
              0.6666666666666666,
              "#ed7953"
             ],
             [
              0.7777777777777778,
              "#fb9f3a"
             ],
             [
              0.8888888888888888,
              "#fdca26"
             ],
             [
              1,
              "#f0f921"
             ]
            ],
            "type": "heatmapgl"
           }
          ],
          "histogram": [
           {
            "marker": {
             "pattern": {
              "fillmode": "overlay",
              "size": 10,
              "solidity": 0.2
             }
            },
            "type": "histogram"
           }
          ],
          "histogram2d": [
           {
            "colorbar": {
             "outlinewidth": 0,
             "ticks": ""
            },
            "colorscale": [
             [
              0,
              "#0d0887"
             ],
             [
              0.1111111111111111,
              "#46039f"
             ],
             [
              0.2222222222222222,
              "#7201a8"
             ],
             [
              0.3333333333333333,
              "#9c179e"
             ],
             [
              0.4444444444444444,
              "#bd3786"
             ],
             [
              0.5555555555555556,
              "#d8576b"
             ],
             [
              0.6666666666666666,
              "#ed7953"
             ],
             [
              0.7777777777777778,
              "#fb9f3a"
             ],
             [
              0.8888888888888888,
              "#fdca26"
             ],
             [
              1,
              "#f0f921"
             ]
            ],
            "type": "histogram2d"
           }
          ],
          "histogram2dcontour": [
           {
            "colorbar": {
             "outlinewidth": 0,
             "ticks": ""
            },
            "colorscale": [
             [
              0,
              "#0d0887"
             ],
             [
              0.1111111111111111,
              "#46039f"
             ],
             [
              0.2222222222222222,
              "#7201a8"
             ],
             [
              0.3333333333333333,
              "#9c179e"
             ],
             [
              0.4444444444444444,
              "#bd3786"
             ],
             [
              0.5555555555555556,
              "#d8576b"
             ],
             [
              0.6666666666666666,
              "#ed7953"
             ],
             [
              0.7777777777777778,
              "#fb9f3a"
             ],
             [
              0.8888888888888888,
              "#fdca26"
             ],
             [
              1,
              "#f0f921"
             ]
            ],
            "type": "histogram2dcontour"
           }
          ],
          "mesh3d": [
           {
            "colorbar": {
             "outlinewidth": 0,
             "ticks": ""
            },
            "type": "mesh3d"
           }
          ],
          "parcoords": [
           {
            "line": {
             "colorbar": {
              "outlinewidth": 0,
              "ticks": ""
             }
            },
            "type": "parcoords"
           }
          ],
          "pie": [
           {
            "automargin": true,
            "type": "pie"
           }
          ],
          "scatter": [
           {
            "fillpattern": {
             "fillmode": "overlay",
             "size": 10,
             "solidity": 0.2
            },
            "type": "scatter"
           }
          ],
          "scatter3d": [
           {
            "line": {
             "colorbar": {
              "outlinewidth": 0,
              "ticks": ""
             }
            },
            "marker": {
             "colorbar": {
              "outlinewidth": 0,
              "ticks": ""
             }
            },
            "type": "scatter3d"
           }
          ],
          "scattercarpet": [
           {
            "marker": {
             "colorbar": {
              "outlinewidth": 0,
              "ticks": ""
             }
            },
            "type": "scattercarpet"
           }
          ],
          "scattergeo": [
           {
            "marker": {
             "colorbar": {
              "outlinewidth": 0,
              "ticks": ""
             }
            },
            "type": "scattergeo"
           }
          ],
          "scattergl": [
           {
            "marker": {
             "colorbar": {
              "outlinewidth": 0,
              "ticks": ""
             }
            },
            "type": "scattergl"
           }
          ],
          "scattermapbox": [
           {
            "marker": {
             "colorbar": {
              "outlinewidth": 0,
              "ticks": ""
             }
            },
            "type": "scattermapbox"
           }
          ],
          "scatterpolar": [
           {
            "marker": {
             "colorbar": {
              "outlinewidth": 0,
              "ticks": ""
             }
            },
            "type": "scatterpolar"
           }
          ],
          "scatterpolargl": [
           {
            "marker": {
             "colorbar": {
              "outlinewidth": 0,
              "ticks": ""
             }
            },
            "type": "scatterpolargl"
           }
          ],
          "scatterternary": [
           {
            "marker": {
             "colorbar": {
              "outlinewidth": 0,
              "ticks": ""
             }
            },
            "type": "scatterternary"
           }
          ],
          "surface": [
           {
            "colorbar": {
             "outlinewidth": 0,
             "ticks": ""
            },
            "colorscale": [
             [
              0,
              "#0d0887"
             ],
             [
              0.1111111111111111,
              "#46039f"
             ],
             [
              0.2222222222222222,
              "#7201a8"
             ],
             [
              0.3333333333333333,
              "#9c179e"
             ],
             [
              0.4444444444444444,
              "#bd3786"
             ],
             [
              0.5555555555555556,
              "#d8576b"
             ],
             [
              0.6666666666666666,
              "#ed7953"
             ],
             [
              0.7777777777777778,
              "#fb9f3a"
             ],
             [
              0.8888888888888888,
              "#fdca26"
             ],
             [
              1,
              "#f0f921"
             ]
            ],
            "type": "surface"
           }
          ],
          "table": [
           {
            "cells": {
             "fill": {
              "color": "#EBF0F8"
             },
             "line": {
              "color": "white"
             }
            },
            "header": {
             "fill": {
              "color": "#C8D4E3"
             },
             "line": {
              "color": "white"
             }
            },
            "type": "table"
           }
          ]
         },
         "layout": {
          "annotationdefaults": {
           "arrowcolor": "#2a3f5f",
           "arrowhead": 0,
           "arrowwidth": 1
          },
          "autotypenumbers": "strict",
          "coloraxis": {
           "colorbar": {
            "outlinewidth": 0,
            "ticks": ""
           }
          },
          "colorscale": {
           "diverging": [
            [
             0,
             "#8e0152"
            ],
            [
             0.1,
             "#c51b7d"
            ],
            [
             0.2,
             "#de77ae"
            ],
            [
             0.3,
             "#f1b6da"
            ],
            [
             0.4,
             "#fde0ef"
            ],
            [
             0.5,
             "#f7f7f7"
            ],
            [
             0.6,
             "#e6f5d0"
            ],
            [
             0.7,
             "#b8e186"
            ],
            [
             0.8,
             "#7fbc41"
            ],
            [
             0.9,
             "#4d9221"
            ],
            [
             1,
             "#276419"
            ]
           ],
           "sequential": [
            [
             0,
             "#0d0887"
            ],
            [
             0.1111111111111111,
             "#46039f"
            ],
            [
             0.2222222222222222,
             "#7201a8"
            ],
            [
             0.3333333333333333,
             "#9c179e"
            ],
            [
             0.4444444444444444,
             "#bd3786"
            ],
            [
             0.5555555555555556,
             "#d8576b"
            ],
            [
             0.6666666666666666,
             "#ed7953"
            ],
            [
             0.7777777777777778,
             "#fb9f3a"
            ],
            [
             0.8888888888888888,
             "#fdca26"
            ],
            [
             1,
             "#f0f921"
            ]
           ],
           "sequentialminus": [
            [
             0,
             "#0d0887"
            ],
            [
             0.1111111111111111,
             "#46039f"
            ],
            [
             0.2222222222222222,
             "#7201a8"
            ],
            [
             0.3333333333333333,
             "#9c179e"
            ],
            [
             0.4444444444444444,
             "#bd3786"
            ],
            [
             0.5555555555555556,
             "#d8576b"
            ],
            [
             0.6666666666666666,
             "#ed7953"
            ],
            [
             0.7777777777777778,
             "#fb9f3a"
            ],
            [
             0.8888888888888888,
             "#fdca26"
            ],
            [
             1,
             "#f0f921"
            ]
           ]
          },
          "colorway": [
           "#636efa",
           "#EF553B",
           "#00cc96",
           "#ab63fa",
           "#FFA15A",
           "#19d3f3",
           "#FF6692",
           "#B6E880",
           "#FF97FF",
           "#FECB52"
          ],
          "font": {
           "color": "#2a3f5f"
          },
          "geo": {
           "bgcolor": "white",
           "lakecolor": "white",
           "landcolor": "#E5ECF6",
           "showlakes": true,
           "showland": true,
           "subunitcolor": "white"
          },
          "hoverlabel": {
           "align": "left"
          },
          "hovermode": "closest",
          "mapbox": {
           "style": "light"
          },
          "paper_bgcolor": "white",
          "plot_bgcolor": "#E5ECF6",
          "polar": {
           "angularaxis": {
            "gridcolor": "white",
            "linecolor": "white",
            "ticks": ""
           },
           "bgcolor": "#E5ECF6",
           "radialaxis": {
            "gridcolor": "white",
            "linecolor": "white",
            "ticks": ""
           }
          },
          "scene": {
           "xaxis": {
            "backgroundcolor": "#E5ECF6",
            "gridcolor": "white",
            "gridwidth": 2,
            "linecolor": "white",
            "showbackground": true,
            "ticks": "",
            "zerolinecolor": "white"
           },
           "yaxis": {
            "backgroundcolor": "#E5ECF6",
            "gridcolor": "white",
            "gridwidth": 2,
            "linecolor": "white",
            "showbackground": true,
            "ticks": "",
            "zerolinecolor": "white"
           },
           "zaxis": {
            "backgroundcolor": "#E5ECF6",
            "gridcolor": "white",
            "gridwidth": 2,
            "linecolor": "white",
            "showbackground": true,
            "ticks": "",
            "zerolinecolor": "white"
           }
          },
          "shapedefaults": {
           "line": {
            "color": "#2a3f5f"
           }
          },
          "ternary": {
           "aaxis": {
            "gridcolor": "white",
            "linecolor": "white",
            "ticks": ""
           },
           "baxis": {
            "gridcolor": "white",
            "linecolor": "white",
            "ticks": ""
           },
           "bgcolor": "#E5ECF6",
           "caxis": {
            "gridcolor": "white",
            "linecolor": "white",
            "ticks": ""
           }
          },
          "title": {
           "x": 0.05
          },
          "xaxis": {
           "automargin": true,
           "gridcolor": "white",
           "linecolor": "white",
           "ticks": "",
           "title": {
            "standoff": 15
           },
           "zerolinecolor": "white",
           "zerolinewidth": 2
          },
          "yaxis": {
           "automargin": true,
           "gridcolor": "white",
           "linecolor": "white",
           "ticks": "",
           "title": {
            "standoff": 15
           },
           "zerolinecolor": "white",
           "zerolinewidth": 2
          }
         }
        },
        "title": {
         "text": "Normalized Oil and Natural Gas EMA Prices with Manifold Prediction % EMA"
        }
       }
      }
     },
     "metadata": {},
     "output_type": "display_data"
    }
   ],
   "source": [
    "fig = plgo.Figure()\n",
    "for (df,name) in [(brent_df, 'Brent Crude'), (henry_df, 'Henry Hub'), (wti_df, 'WTI')]:\n",
    "    fig.add_trace(plgo.Scatter(x=df['Date'], y=normalize(df['Value_EMA']), mode='lines+markers', name=name + ' EMA'))\n",
    "\n",
    "fig.add_trace(plgo.Scatter(x=df_probs_grouped['day'], y=normalize(df_probs_grouped['prediction_EMA']), mode='lines+markers', name='Manifold Prediction % EMA'))\n",
    "fig.update_layout(title='Normalized Oil and Natural Gas EMA Prices with Manifold Prediction % EMA')\n",
    "fig.show()"
   ]
  },
  {
   "cell_type": "code",
   "execution_count": 20,
   "metadata": {},
   "outputs": [
    {
     "name": "stdout",
     "output_type": "stream",
     "text": [
      "Brent Crude EMA correlation coefficient with Manifold Prediction % EMA: 0.8726868219585411\n",
      "WTI EMA correlation coefficient with Manifold Prediction % EMA: 0.8352588958018002\n",
      "Henry Hub EMA correlation coefficient with Manifold Prediction % EMA: 0.30839957829715525\n"
     ]
    }
   ],
   "source": [
    "for (df, name) in [(brent_df, 'Brent Crude'), (wti_df, 'WTI'), (henry_df, 'Henry Hub')]:\n",
    "    print(f'{name} EMA correlation coefficient with Manifold Prediction % EMA: {np.corrcoef(df[\"Value_EMA\"], df_probs_grouped[\"prediction_EMA\"])[0, 1]}')"
   ]
  },
  {
   "attachments": {},
   "cell_type": "markdown",
   "metadata": {},
   "source": [
    "Visualizations"
   ]
  },
  {
   "cell_type": "code",
   "execution_count": 81,
   "metadata": {},
   "outputs": [],
   "source": [
    "brent_df['pctchange'] = brent_df['Value_EMA'].pct_change().dropna()\n",
    "wti_df['pctchange'] = wti_df['Value_EMA'].pct_change().dropna()\n",
    "henry_df['pctchange'] = henry_df['Value_EMA'].pct_change().dropna()\n",
    "df_probs_grouped['pctchange'] = df_probs_grouped['prediction_EMA'].pct_change().dropna()"
   ]
  },
  {
   "cell_type": "code",
   "execution_count": 93,
   "metadata": {},
   "outputs": [
    {
     "data": {
      "application/vnd.plotly.v1+json": {
       "config": {
        "plotlyServerURL": "https://plot.ly"
       },
       "data": [
        {
         "box": {
          "visible": true
         },
         "meanline": {
          "visible": true
         },
         "name": "Brent Crude Front Month Future Prices",
         "type": "violin",
         "xaxis": "x",
         "y": [
          null,
          0.004304887313243855,
          0.006219532694570651,
          0.009090655975052986,
          0.005012531328320691,
          -0.0002989468225460534,
          0.011540865486083796,
          0.011474887842025217,
          0.00675790350019545,
          0.010833678710477468,
          0.008806687447052042,
          0.009859276828656283,
          0.010120302697756545,
          0.006448598799160488,
          0.002399757945986458,
          -0.0045774529342720305,
          0.004322955771693282,
          0.00492795060463691,
          0.0011071048227559999,
          0.0020633816612256606,
          0.004170795309859976,
          0.002392438315294454,
          0.0027556495694607275,
          0.007975688537901648,
          0.013302647796109568,
          0.0066247474564467,
          -0.002571750229852121,
          0.001093847416941962,
          0.00021758120972137363,
          0.011198949053565332,
          0.014743106262752104,
          -0.0016911535028988345,
          0.0043195405976965695,
          -0.0036574167576612915,
          -0.0004185623530567062,
          0.00630786557156382,
          0.009309324331139734,
          -0.0036316506469219467,
          0.0023902521686856026
         ],
         "yaxis": "y"
        },
        {
         "box": {
          "visible": true
         },
         "meanline": {
          "visible": true
         },
         "name": "West Texas Intermediary Crude Oil",
         "type": "violin",
         "xaxis": "x2",
         "y": [
          null,
          0.0044304075097600926,
          0.006565347774186936,
          0.01146383204377277,
          0.005539853742777323,
          -0.00012376381019796323,
          0.012972755072354625,
          0.01418154529515503,
          0.007079596747098904,
          0.012315401701628925,
          0.014628041432201089,
          0.0096114312075406,
          0.011993372449583095,
          0.005739622050317861,
          -0.0006103698690989035,
          -0.003065567080818732,
          0.0063026735902482756,
          0.010878099838933952,
          0.004398465823302944,
          0.003149753213376849,
          0.0077940019192586085,
          0.0015871784173695502,
          0.0008290177150895861,
          0.008164629518548239,
          0.013287858870747682,
          0.004960923729663058,
          -0.003828877987171131,
          -0.0016365933131199384,
          -0.00012843716862176446,
          0.01204527784790943,
          0.016805377821738743,
          -0.0014189110889001322,
          0.005406570329456795,
          -0.0037760017743427854,
          -0.004401133553110337,
          0.00013017410188242984,
          0.00008677143919411101,
          0.00016642729142279933,
          0.002390831999894205
         ],
         "yaxis": "y2"
        },
        {
         "box": {
          "visible": true
         },
         "meanline": {
          "visible": true
         },
         "name": "Henry Hub Natural Gas Spot Price",
         "type": "violin",
         "xaxis": "x3",
         "y": [
          null,
          -0.0008912655971479166,
          0.0038655961938744987,
          0.016785150078988842,
          0.0013918560238235234,
          0.02972707976425215,
          0.01924592794112523,
          0.050839298994848736,
          0.044914142389974154,
          -0.002393555072773945,
          0.012064560555844484,
          0.007947161361075317,
          0.030557540592580645,
          -0.01200422383661126,
          -0.03294933522773813,
          -0.01591278747060121,
          -0.007708129997100133,
          0.00952637261967304,
          0.006290984814296463,
          0.10016131244204729,
          0.05169252186370965,
          0.025524820882437904,
          0.09685134999855771,
          0.00852424641977767,
          -0.02338644563155523,
          -0.06945347312789807,
          -0.05869975328886501,
          -0.05310821460722004,
          -0.04455692708420156,
          -0.03033990418998278,
          -0.02008602719858099,
          0.0068567435419355505,
          0.010811463907407948,
          0.02109034570930124,
          0.01680792220473193,
          0.0013094409865148648,
          0.0008718190620640165,
          0.008779488663607449,
          0.019840337362144522
         ],
         "yaxis": "y3"
        },
        {
         "box": {
          "visible": true
         },
         "meanline": {
          "visible": true
         },
         "name": "Manifold Prediction Values",
         "type": "violin",
         "xaxis": "x4",
         "y": [
          null,
          -0.013521271664782675,
          -0.018008480938586424,
          -0.026294543700596917,
          -0.04133859499112791,
          0.0063042622963978,
          0.027470578521321176,
          0.02692887331008742,
          0.032489279890559386,
          0.09379894698889202,
          0.13224260115882913,
          0.07086055188205442,
          0.11484440919302497,
          0.03723603926246999,
          0.015158182205706527,
          0.025217984043361286,
          0.007056025832249624,
          0.0029060389763895245,
          0.013539952228782681,
          -0.027878535779047087,
          -0.039063564129592,
          -0.01201865986967654,
          -0.0045190109878726625,
          -0.017160283896909267,
          -0.012654077272428732,
          0.023885887669031547,
          -0.00546521632866015,
          -0.017096891365813716,
          -0.017116935319320015,
          0.03824560533273469,
          0.13745953879684358,
          0.0465826792863393,
          0.03586802538920364,
          0.026817423880463265,
          0.06053897783315043,
          0.06238239788421218,
          0.10199226745973422,
          0.06716261109071842,
          0.06890297703228132
         ],
         "yaxis": "y4"
        }
       ],
       "layout": {
        "template": {
         "data": {
          "bar": [
           {
            "error_x": {
             "color": "#2a3f5f"
            },
            "error_y": {
             "color": "#2a3f5f"
            },
            "marker": {
             "line": {
              "color": "#E5ECF6",
              "width": 0.5
             },
             "pattern": {
              "fillmode": "overlay",
              "size": 10,
              "solidity": 0.2
             }
            },
            "type": "bar"
           }
          ],
          "barpolar": [
           {
            "marker": {
             "line": {
              "color": "#E5ECF6",
              "width": 0.5
             },
             "pattern": {
              "fillmode": "overlay",
              "size": 10,
              "solidity": 0.2
             }
            },
            "type": "barpolar"
           }
          ],
          "carpet": [
           {
            "aaxis": {
             "endlinecolor": "#2a3f5f",
             "gridcolor": "white",
             "linecolor": "white",
             "minorgridcolor": "white",
             "startlinecolor": "#2a3f5f"
            },
            "baxis": {
             "endlinecolor": "#2a3f5f",
             "gridcolor": "white",
             "linecolor": "white",
             "minorgridcolor": "white",
             "startlinecolor": "#2a3f5f"
            },
            "type": "carpet"
           }
          ],
          "choropleth": [
           {
            "colorbar": {
             "outlinewidth": 0,
             "ticks": ""
            },
            "type": "choropleth"
           }
          ],
          "contour": [
           {
            "colorbar": {
             "outlinewidth": 0,
             "ticks": ""
            },
            "colorscale": [
             [
              0,
              "#0d0887"
             ],
             [
              0.1111111111111111,
              "#46039f"
             ],
             [
              0.2222222222222222,
              "#7201a8"
             ],
             [
              0.3333333333333333,
              "#9c179e"
             ],
             [
              0.4444444444444444,
              "#bd3786"
             ],
             [
              0.5555555555555556,
              "#d8576b"
             ],
             [
              0.6666666666666666,
              "#ed7953"
             ],
             [
              0.7777777777777778,
              "#fb9f3a"
             ],
             [
              0.8888888888888888,
              "#fdca26"
             ],
             [
              1,
              "#f0f921"
             ]
            ],
            "type": "contour"
           }
          ],
          "contourcarpet": [
           {
            "colorbar": {
             "outlinewidth": 0,
             "ticks": ""
            },
            "type": "contourcarpet"
           }
          ],
          "heatmap": [
           {
            "colorbar": {
             "outlinewidth": 0,
             "ticks": ""
            },
            "colorscale": [
             [
              0,
              "#0d0887"
             ],
             [
              0.1111111111111111,
              "#46039f"
             ],
             [
              0.2222222222222222,
              "#7201a8"
             ],
             [
              0.3333333333333333,
              "#9c179e"
             ],
             [
              0.4444444444444444,
              "#bd3786"
             ],
             [
              0.5555555555555556,
              "#d8576b"
             ],
             [
              0.6666666666666666,
              "#ed7953"
             ],
             [
              0.7777777777777778,
              "#fb9f3a"
             ],
             [
              0.8888888888888888,
              "#fdca26"
             ],
             [
              1,
              "#f0f921"
             ]
            ],
            "type": "heatmap"
           }
          ],
          "heatmapgl": [
           {
            "colorbar": {
             "outlinewidth": 0,
             "ticks": ""
            },
            "colorscale": [
             [
              0,
              "#0d0887"
             ],
             [
              0.1111111111111111,
              "#46039f"
             ],
             [
              0.2222222222222222,
              "#7201a8"
             ],
             [
              0.3333333333333333,
              "#9c179e"
             ],
             [
              0.4444444444444444,
              "#bd3786"
             ],
             [
              0.5555555555555556,
              "#d8576b"
             ],
             [
              0.6666666666666666,
              "#ed7953"
             ],
             [
              0.7777777777777778,
              "#fb9f3a"
             ],
             [
              0.8888888888888888,
              "#fdca26"
             ],
             [
              1,
              "#f0f921"
             ]
            ],
            "type": "heatmapgl"
           }
          ],
          "histogram": [
           {
            "marker": {
             "pattern": {
              "fillmode": "overlay",
              "size": 10,
              "solidity": 0.2
             }
            },
            "type": "histogram"
           }
          ],
          "histogram2d": [
           {
            "colorbar": {
             "outlinewidth": 0,
             "ticks": ""
            },
            "colorscale": [
             [
              0,
              "#0d0887"
             ],
             [
              0.1111111111111111,
              "#46039f"
             ],
             [
              0.2222222222222222,
              "#7201a8"
             ],
             [
              0.3333333333333333,
              "#9c179e"
             ],
             [
              0.4444444444444444,
              "#bd3786"
             ],
             [
              0.5555555555555556,
              "#d8576b"
             ],
             [
              0.6666666666666666,
              "#ed7953"
             ],
             [
              0.7777777777777778,
              "#fb9f3a"
             ],
             [
              0.8888888888888888,
              "#fdca26"
             ],
             [
              1,
              "#f0f921"
             ]
            ],
            "type": "histogram2d"
           }
          ],
          "histogram2dcontour": [
           {
            "colorbar": {
             "outlinewidth": 0,
             "ticks": ""
            },
            "colorscale": [
             [
              0,
              "#0d0887"
             ],
             [
              0.1111111111111111,
              "#46039f"
             ],
             [
              0.2222222222222222,
              "#7201a8"
             ],
             [
              0.3333333333333333,
              "#9c179e"
             ],
             [
              0.4444444444444444,
              "#bd3786"
             ],
             [
              0.5555555555555556,
              "#d8576b"
             ],
             [
              0.6666666666666666,
              "#ed7953"
             ],
             [
              0.7777777777777778,
              "#fb9f3a"
             ],
             [
              0.8888888888888888,
              "#fdca26"
             ],
             [
              1,
              "#f0f921"
             ]
            ],
            "type": "histogram2dcontour"
           }
          ],
          "mesh3d": [
           {
            "colorbar": {
             "outlinewidth": 0,
             "ticks": ""
            },
            "type": "mesh3d"
           }
          ],
          "parcoords": [
           {
            "line": {
             "colorbar": {
              "outlinewidth": 0,
              "ticks": ""
             }
            },
            "type": "parcoords"
           }
          ],
          "pie": [
           {
            "automargin": true,
            "type": "pie"
           }
          ],
          "scatter": [
           {
            "fillpattern": {
             "fillmode": "overlay",
             "size": 10,
             "solidity": 0.2
            },
            "type": "scatter"
           }
          ],
          "scatter3d": [
           {
            "line": {
             "colorbar": {
              "outlinewidth": 0,
              "ticks": ""
             }
            },
            "marker": {
             "colorbar": {
              "outlinewidth": 0,
              "ticks": ""
             }
            },
            "type": "scatter3d"
           }
          ],
          "scattercarpet": [
           {
            "marker": {
             "colorbar": {
              "outlinewidth": 0,
              "ticks": ""
             }
            },
            "type": "scattercarpet"
           }
          ],
          "scattergeo": [
           {
            "marker": {
             "colorbar": {
              "outlinewidth": 0,
              "ticks": ""
             }
            },
            "type": "scattergeo"
           }
          ],
          "scattergl": [
           {
            "marker": {
             "colorbar": {
              "outlinewidth": 0,
              "ticks": ""
             }
            },
            "type": "scattergl"
           }
          ],
          "scattermapbox": [
           {
            "marker": {
             "colorbar": {
              "outlinewidth": 0,
              "ticks": ""
             }
            },
            "type": "scattermapbox"
           }
          ],
          "scatterpolar": [
           {
            "marker": {
             "colorbar": {
              "outlinewidth": 0,
              "ticks": ""
             }
            },
            "type": "scatterpolar"
           }
          ],
          "scatterpolargl": [
           {
            "marker": {
             "colorbar": {
              "outlinewidth": 0,
              "ticks": ""
             }
            },
            "type": "scatterpolargl"
           }
          ],
          "scatterternary": [
           {
            "marker": {
             "colorbar": {
              "outlinewidth": 0,
              "ticks": ""
             }
            },
            "type": "scatterternary"
           }
          ],
          "surface": [
           {
            "colorbar": {
             "outlinewidth": 0,
             "ticks": ""
            },
            "colorscale": [
             [
              0,
              "#0d0887"
             ],
             [
              0.1111111111111111,
              "#46039f"
             ],
             [
              0.2222222222222222,
              "#7201a8"
             ],
             [
              0.3333333333333333,
              "#9c179e"
             ],
             [
              0.4444444444444444,
              "#bd3786"
             ],
             [
              0.5555555555555556,
              "#d8576b"
             ],
             [
              0.6666666666666666,
              "#ed7953"
             ],
             [
              0.7777777777777778,
              "#fb9f3a"
             ],
             [
              0.8888888888888888,
              "#fdca26"
             ],
             [
              1,
              "#f0f921"
             ]
            ],
            "type": "surface"
           }
          ],
          "table": [
           {
            "cells": {
             "fill": {
              "color": "#EBF0F8"
             },
             "line": {
              "color": "white"
             }
            },
            "header": {
             "fill": {
              "color": "#C8D4E3"
             },
             "line": {
              "color": "white"
             }
            },
            "type": "table"
           }
          ]
         },
         "layout": {
          "annotationdefaults": {
           "arrowcolor": "#2a3f5f",
           "arrowhead": 0,
           "arrowwidth": 1
          },
          "autotypenumbers": "strict",
          "coloraxis": {
           "colorbar": {
            "outlinewidth": 0,
            "ticks": ""
           }
          },
          "colorscale": {
           "diverging": [
            [
             0,
             "#8e0152"
            ],
            [
             0.1,
             "#c51b7d"
            ],
            [
             0.2,
             "#de77ae"
            ],
            [
             0.3,
             "#f1b6da"
            ],
            [
             0.4,
             "#fde0ef"
            ],
            [
             0.5,
             "#f7f7f7"
            ],
            [
             0.6,
             "#e6f5d0"
            ],
            [
             0.7,
             "#b8e186"
            ],
            [
             0.8,
             "#7fbc41"
            ],
            [
             0.9,
             "#4d9221"
            ],
            [
             1,
             "#276419"
            ]
           ],
           "sequential": [
            [
             0,
             "#0d0887"
            ],
            [
             0.1111111111111111,
             "#46039f"
            ],
            [
             0.2222222222222222,
             "#7201a8"
            ],
            [
             0.3333333333333333,
             "#9c179e"
            ],
            [
             0.4444444444444444,
             "#bd3786"
            ],
            [
             0.5555555555555556,
             "#d8576b"
            ],
            [
             0.6666666666666666,
             "#ed7953"
            ],
            [
             0.7777777777777778,
             "#fb9f3a"
            ],
            [
             0.8888888888888888,
             "#fdca26"
            ],
            [
             1,
             "#f0f921"
            ]
           ],
           "sequentialminus": [
            [
             0,
             "#0d0887"
            ],
            [
             0.1111111111111111,
             "#46039f"
            ],
            [
             0.2222222222222222,
             "#7201a8"
            ],
            [
             0.3333333333333333,
             "#9c179e"
            ],
            [
             0.4444444444444444,
             "#bd3786"
            ],
            [
             0.5555555555555556,
             "#d8576b"
            ],
            [
             0.6666666666666666,
             "#ed7953"
            ],
            [
             0.7777777777777778,
             "#fb9f3a"
            ],
            [
             0.8888888888888888,
             "#fdca26"
            ],
            [
             1,
             "#f0f921"
            ]
           ]
          },
          "colorway": [
           "#636efa",
           "#EF553B",
           "#00cc96",
           "#ab63fa",
           "#FFA15A",
           "#19d3f3",
           "#FF6692",
           "#B6E880",
           "#FF97FF",
           "#FECB52"
          ],
          "font": {
           "color": "#2a3f5f"
          },
          "geo": {
           "bgcolor": "white",
           "lakecolor": "white",
           "landcolor": "#E5ECF6",
           "showlakes": true,
           "showland": true,
           "subunitcolor": "white"
          },
          "hoverlabel": {
           "align": "left"
          },
          "hovermode": "closest",
          "mapbox": {
           "style": "light"
          },
          "paper_bgcolor": "white",
          "plot_bgcolor": "#E5ECF6",
          "polar": {
           "angularaxis": {
            "gridcolor": "white",
            "linecolor": "white",
            "ticks": ""
           },
           "bgcolor": "#E5ECF6",
           "radialaxis": {
            "gridcolor": "white",
            "linecolor": "white",
            "ticks": ""
           }
          },
          "scene": {
           "xaxis": {
            "backgroundcolor": "#E5ECF6",
            "gridcolor": "white",
            "gridwidth": 2,
            "linecolor": "white",
            "showbackground": true,
            "ticks": "",
            "zerolinecolor": "white"
           },
           "yaxis": {
            "backgroundcolor": "#E5ECF6",
            "gridcolor": "white",
            "gridwidth": 2,
            "linecolor": "white",
            "showbackground": true,
            "ticks": "",
            "zerolinecolor": "white"
           },
           "zaxis": {
            "backgroundcolor": "#E5ECF6",
            "gridcolor": "white",
            "gridwidth": 2,
            "linecolor": "white",
            "showbackground": true,
            "ticks": "",
            "zerolinecolor": "white"
           }
          },
          "shapedefaults": {
           "line": {
            "color": "#2a3f5f"
           }
          },
          "ternary": {
           "aaxis": {
            "gridcolor": "white",
            "linecolor": "white",
            "ticks": ""
           },
           "baxis": {
            "gridcolor": "white",
            "linecolor": "white",
            "ticks": ""
           },
           "bgcolor": "#E5ECF6",
           "caxis": {
            "gridcolor": "white",
            "linecolor": "white",
            "ticks": ""
           }
          },
          "title": {
           "x": 0.05
          },
          "xaxis": {
           "automargin": true,
           "gridcolor": "white",
           "linecolor": "white",
           "ticks": "",
           "title": {
            "standoff": 15
           },
           "zerolinecolor": "white",
           "zerolinewidth": 2
          },
          "yaxis": {
           "automargin": true,
           "gridcolor": "white",
           "linecolor": "white",
           "ticks": "",
           "title": {
            "standoff": 15
           },
           "zerolinecolor": "white",
           "zerolinewidth": 2
          }
         }
        },
        "xaxis": {
         "anchor": "y",
         "domain": [
          0,
          0.2125
         ]
        },
        "xaxis2": {
         "anchor": "y2",
         "domain": [
          0.2625,
          0.475
         ]
        },
        "xaxis3": {
         "anchor": "y3",
         "domain": [
          0.525,
          0.7375
         ]
        },
        "xaxis4": {
         "anchor": "y4",
         "domain": [
          0.7875,
          1
         ]
        },
        "yaxis": {
         "anchor": "x",
         "domain": [
          0,
          1
         ],
         "title": {
          "text": "Pct Change Values"
         }
        },
        "yaxis2": {
         "anchor": "x2",
         "domain": [
          0,
          1
         ]
        },
        "yaxis3": {
         "anchor": "x3",
         "domain": [
          0,
          1
         ]
        },
        "yaxis4": {
         "anchor": "x4",
         "domain": [
          0,
          1
         ]
        }
       }
      }
     },
     "metadata": {},
     "output_type": "display_data"
    }
   ],
   "source": [
    "brent_df['normalized'] = (brent_df['Value_EMA'] - np.mean(brent_df['Value_EMA'])) / np.std(brent_df['Value_EMA'])\n",
    "wti_df['normalized'] = (wti_df['Value_EMA'] - np.mean(wti_df['Value_EMA'])) / np.std(wti_df['Value_EMA'])\n",
    "henry_df['normalized'] = (henry_df['Value_EMA'] - np.mean(henry_df['Value_EMA'])) / np.std(henry_df['Value_EMA'])\n",
    "df_probs_grouped['normalized'] = (df_probs_grouped['prediction_EMA'] - np.mean(df_probs_grouped['prediction_EMA'])) / np.std(df_probs_grouped['prediction_EMA'])\n",
    "\n",
    "fig = make_subplots(rows=1, cols=4)\n",
    "\n",
    "fig.add_trace(plgo.Violin(y=brent_df['pctchange'], name='Brent Crude Front Month Future Prices', box_visible=True, meanline_visible=True), row=1, col=1)\n",
    "fig.add_trace(plgo.Violin(y=wti_df['pctchange'], name='West Texas Intermediary Crude Oil', box_visible=True, meanline_visible=True), row=1, col=2)\n",
    "fig.add_trace(plgo.Violin(y=henry_df['pctchange'], name='Henry Hub Natural Gas Spot Price', box_visible=True, meanline_visible=True), row=1, col=3)\n",
    "fig.add_trace(plgo.Violin(y=df_probs_grouped['pctchange'], name='Manifold Prediction Values', box_visible=True, meanline_visible=True), row=1, col=4)\n",
    "\n",
    "\n",
    "\n",
    "#title='Violin Plot of Normalized Day-to-Day Values'\n",
    "fig.update_layout(yaxis_title='Pct Change Values')\n",
    "fig.show()\n"
   ]
  },
  {
   "cell_type": "code",
   "execution_count": 94,
   "metadata": {},
   "outputs": [
    {
     "name": "stdout",
     "output_type": "stream",
     "text": [
      "count    38.000000\n",
      "mean      0.004875\n",
      "std       0.005014\n",
      "min      -0.004577\n",
      "25%       0.001346\n",
      "50%       0.004625\n",
      "75%       0.009020\n",
      "max       0.014743\n",
      "Name: pctchange, dtype: float64\n",
      "--------------------------------------------------\n",
      "count    38.000000\n",
      "mean      0.005156\n",
      "std       0.005958\n",
      "min      -0.004401\n",
      "25%       0.000098\n",
      "50%       0.005184\n",
      "75%       0.010561\n",
      "max       0.016805\n",
      "Name: pctchange, dtype: float64\n",
      "--------------------------------------------------\n",
      "count    38.000000\n",
      "mean      0.006073\n",
      "std       0.035525\n",
      "min      -0.069453\n",
      "25%      -0.010930\n",
      "50%       0.007402\n",
      "75%       0.019692\n",
      "max       0.100161\n",
      "Name: pctchange, dtype: float64\n",
      "--------------------------------------------------\n",
      "count    38.000000\n",
      "mean      0.026941\n",
      "std       0.046717\n",
      "min      -0.041339\n",
      "25%      -0.012495\n",
      "50%       0.024552\n",
      "75%       0.057050\n",
      "max       0.137460\n",
      "Name: pctchange, dtype: float64\n"
     ]
    }
   ],
   "source": [
    "print(brent_df['pctchange'].describe())\n",
    "print(\"-\"*50)\n",
    "print(wti_df['pctchange'].describe())\n",
    "print(\"-\"*50)\n",
    "print(henry_df['pctchange'].describe())\n",
    "print(\"-\"*50)\n",
    "print(df_probs_grouped['pctchange'].describe())"
   ]
  },
  {
   "cell_type": "code",
   "execution_count": 95,
   "metadata": {},
   "outputs": [
    {
     "data": {
      "image/png": "[encoded data removed]",
      "text/plain": [
       "<Figure size 640x480 with 1 Axes>"
      ]
     },
     "metadata": {},
     "output_type": "display_data"
    }
   ],
   "source": [
    "sns_kde_brent = sns.kdeplot(brent_df['pctchange'], label='Brent')\n",
    "brent_kde_values = sns_kde_brent.get_lines()[0].get_ydata()\n",
    "brent_x_values = sns_kde_brent.get_lines()[0].get_xdata()"
   ]
  },
  {
   "cell_type": "code",
   "execution_count": 96,
   "metadata": {},
   "outputs": [
    {
     "data": {
      "image/png": "[encoded data removed]",
      "text/plain": [
       "<Figure size 640x480 with 1 Axes>"
      ]
     },
     "metadata": {},
     "output_type": "display_data"
    }
   ],
   "source": [
    "sns_kde_wti = sns.kdeplot(wti_df['pctchange'], label='WTI')\n",
    "wti_kde_values = sns_kde_wti.get_lines()[0].get_ydata()\n",
    "wti_x_values = sns_kde_wti.get_lines()[0].get_xdata()"
   ]
  },
  {
   "cell_type": "code",
   "execution_count": 97,
   "metadata": {},
   "outputs": [
    {
     "data": {
      "image/png": "[encoded data removed]",
      "text/plain": [
       "<Figure size 640x480 with 1 Axes>"
      ]
     },
     "metadata": {},
     "output_type": "display_data"
    }
   ],
   "source": [
    "sns_kde_henry = sns.kdeplot(henry_df['pctchange'], label='Henry')\n",
    "henry_kde_values = sns_kde_henry.get_lines()[0].get_ydata()\n",
    "henry_x_values = sns_kde_henry.get_lines()[0].get_xdata()"
   ]
  },
  {
   "cell_type": "code",
   "execution_count": 98,
   "metadata": {},
   "outputs": [
    {
     "data": {
      "image/png": "[encoded data removed]",
      "text/plain": [
       "<Figure size 640x480 with 1 Axes>"
      ]
     },
     "metadata": {},
     "output_type": "display_data"
    }
   ],
   "source": [
    "sns_kde_probs = sns.kdeplot(df_probs_grouped['pctchange'], label='Prediction Market')\n",
    "probs_kde_values = sns_kde_probs.get_lines()[0].get_ydata()\n",
    "probs_x_values = sns_kde_probs.get_lines()[0].get_xdata()"
   ]
  },
  {
   "cell_type": "code",
   "execution_count": 99,
   "metadata": {},
   "outputs": [
    {
     "data": {
      "application/vnd.plotly.v1+json": {
       "config": {
        "plotlyServerURL": "https://plot.ly"
       },
       "data": [
        {
         "mode": "lines",
         "name": "Brent",
         "type": "scatter",
         "x": [
          -0.011843926245345731,
          -0.011673808125651402,
          -0.011503690005957072,
          -0.011333571886262743,
          -0.011163453766568413,
          -0.010993335646874084,
          -0.010823217527179754,
          -0.010653099407485427,
          -0.010482981287791097,
          -0.010312863168096768,
          -0.010142745048402438,
          -0.009972626928708109,
          -0.00980250880901378,
          -0.00963239068931945,
          -0.00946227256962512,
          -0.009292154449930791,
          -0.009122036330236461,
          -0.008951918210542132,
          -0.008781800090847804,
          -0.008611681971153473,
          -0.008441563851459145,
          -0.008271445731764816,
          -0.008101327612070486,
          -0.007931209492376157,
          -0.007761091372681828,
          -0.007590973252987498,
          -0.007420855133293169,
          -0.007250737013598839,
          -0.00708061889390451,
          -0.006910500774210181,
          -0.006740382654515852,
          -0.006570264534821522,
          -0.006400146415127193,
          -0.006230028295432863,
          -0.006059910175738534,
          -0.0058897920560442045,
          -0.005719673936349876,
          -0.005549555816655546,
          -0.005379437696961217,
          -0.0052093195772668875,
          -0.005039201457572558,
          -0.004869083337878229,
          -0.0046989652181839,
          -0.004528847098489571,
          -0.004358728978795241,
          -0.004188610859100912,
          -0.004018492739406583,
          -0.0038483746197122536,
          -0.003678256500017924,
          -0.0035081383803235947,
          -0.0033380202606292653,
          -0.003167902140934936,
          -0.0029977840212406064,
          -0.002827665901546277,
          -0.0026575477818519475,
          -0.002487429662157618,
          -0.0023173115424632885,
          -0.002147193422768959,
          -0.0019770753030746314,
          -0.001806957183380302,
          -0.0016368390636859725,
          -0.001466720943991643,
          -0.0012966028242973136,
          -0.0011264847046029841,
          -0.0009563665849086547,
          -0.0007862484652143252,
          -0.0006161303455199958,
          -0.0004460122258256663,
          -0.00027589410613133684,
          -0.00010577598643700739,
          0.00006434213325732206,
          0.00023446025295164978,
          0.00040457837264597923,
          0.0005746964923403087,
          0.0007448146120346381,
          0.0009149327317289676,
          0.001085050851423297,
          0.0012551689711176265,
          0.001425287090811956,
          0.0015954052105062854,
          0.0017655233302006149,
          0.0019356414498949443,
          0.0021057595695892738,
          0.0022758776892836032,
          0.002445995808977931,
          0.0026161139286722604,
          0.00278623204836659,
          0.0029563501680609193,
          0.0031264682877552488,
          0.003296586407449578,
          0.0034667045271439077,
          0.003636822646838237,
          0.003806940766532565,
          0.003977058886226896,
          0.004147177005921224,
          0.004317295125615555,
          0.004487413245309883,
          0.004657531365004214,
          0.0048276494846985415,
          0.004997767604392873,
          0.0051678857240872005,
          0.005338003843781532,
          0.005508121963475859,
          0.005678240083170187,
          0.005848358202864518,
          0.006018476322558846,
          0.006188594442253177,
          0.006358712561947505,
          0.006528830681641836,
          0.006698948801336164,
          0.006869066921030495,
          0.007039185040724823,
          0.007209303160419154,
          0.007379421280113482,
          0.007549539399807813,
          0.0077196575195021405,
          0.007889775639196468,
          0.0080598937588908,
          0.008230011878585127,
          0.008400129998279458,
          0.008570248117973786,
          0.008740366237668117,
          0.008910484357362445,
          0.009080602477056776,
          0.009250720596751104,
          0.009420838716445435,
          0.009590956836139763,
          0.009761074955834094,
          0.009931193075528422,
          0.01010131119522275,
          0.01027142931491708,
          0.010441547434611408,
          0.01061166555430574,
          0.010781783674000067,
          0.010951901793694398,
          0.011122019913388726,
          0.011292138033083057,
          0.011462256152777385,
          0.011632374272471716,
          0.011802492392166044,
          0.011972610511860375,
          0.012142728631554703,
          0.01231284675124903,
          0.012482964870943362,
          0.01265308299063769,
          0.01282320111033202,
          0.012993319230026348,
          0.01316343734972068,
          0.013333555469415007,
          0.013503673589109338,
          0.013673791708803666,
          0.013843909828497997,
          0.014014027948192325,
          0.014184146067886656,
          0.014354264187580984,
          0.014524382307275312,
          0.014694500426969643,
          0.01486461854666397,
          0.015034736666358302,
          0.01520485478605263,
          0.01537497290574696,
          0.015545091025441288,
          0.01571520914513562,
          0.015885327264829947,
          0.01605544538452428,
          0.016225563504218606,
          0.016395681623912937,
          0.016565799743607265,
          0.016735917863301593,
          0.016906035982995924,
          0.017076154102690252,
          0.017246272222384583,
          0.01741639034207891,
          0.017586508461773242,
          0.01775662658146757,
          0.0179267447011619,
          0.01809686282085623,
          0.01826698094055056,
          0.018437099060244887,
          0.01860721717993922,
          0.018777335299633546,
          0.018947453419327874,
          0.019117571539022205,
          0.019287689658716533,
          0.01945780777841086,
          0.019627925898105195,
          0.019798044017799523,
          0.01996816213749385,
          0.02013828025718818,
          0.020308398376882513,
          0.02047851649657684,
          0.02064863461627117,
          0.020818752735965496,
          0.020988870855659824,
          0.02115898897535416,
          0.021329107095048486,
          0.021499225214742814,
          0.021669343334437142,
          0.021839461454131476,
          0.022009579573825804
         ],
         "y": [
          0.07996382310482246,
          0.09973096587934241,
          0.12381173480365726,
          0.1530005791796763,
          0.18820372451703576,
          0.23044742008127836,
          0.2808852042077336,
          0.34080378115430404,
          0.4116270676367701,
          0.4949179419591789,
          0.5923772171117297,
          0.705839364629713,
          0.8372645414506574,
          0.988726520112107,
          1.1623961953882178,
          1.3605204389757501,
          1.585396198110166,
          1.8393398827218626,
          2.124652256181863,
          2.443579232547193,
          2.798269182660297,
          3.1907275551769367,
          3.6227698179959544,
          4.095973911043558,
          4.611633562704436,
          5.170713949031496,
          5.773811257246806,
          6.4211177440075415,
          7.112393847094801,
          7.846948811420923,
          8.623631124081387,
          9.440829819267929,
          10.29648741628291,
          11.188124900236527,
          12.112878756278768,
          13.067549638555844,
          14.048661811254794,
          15.052532059812801,
          16.075346355402473,
          17.113242185047792,
          18.16239415211938,
          19.219100224449388,
          20.279865873846795,
          21.34148332146194,
          22.40110318375525,
          23.456296004240528,
          24.505101451933648,
          25.54606335862688,
          26.578249239040414,
          27.60125347176788,
          28.61518389269753,
          29.620632142073323,
          30.61862868644532,
          31.610583982655612,
          32.598217739502694,
          33.583478643337024,
          34.56845722980661,
          35.55529479304348,
          36.54609131855648,
          37.54281540506041,
          38.54721900678794,
          39.5607595898282,
          40.584531966474145,
          41.61921166688406,
          42.66501124679901,
          43.72165043463081,
          44.78834051271472,
          45.86378282741229,
          46.94618085132714,
          48.03326479634496,
          49.12232741391744,
          50.21026933099784,
          51.29365206458201,
          52.36875673923073,
          53.43164650057766,
          54.478230670127246,
          55.50432881549954,
          56.50573310539973,
          57.478267567046096,
          58.41784315063271,
          59.3205078143563,
          60.18249115774748,
          61.000243433847416,
          61.770469046462544,
          62.49015487330315,
          63.156593937648836,
          63.76740507163369,
          64.32054926810922,
          64.81434340389346,
          65.24747193755147,
          65.61899704606685,
          65.92836747689833,
          66.17542616822712,
          66.36041644653784,
          66.48398636465095,
          66.54719051341846,
          66.55148844477716,
          66.49873869975245,
          66.39118735702341,
          66.23145001721386,
          66.02248622245627,
          65.76756548251187,
          65.47022433518678,
          65.13421420205138,
          64.76344019754357,
          64.3618914928005,
          63.93356430358121,
          63.48237904016001,
          63.0120936002931,
          62.52621517829354,
          62.02791327919242,
          61.51993684490217,
          61.004538501284216,
          60.48340890830703,
          59.957624033426704,
          59.427607871017976,
          58.893112705152255,
          58.35321847311795,
          57.806352152947944,
          57.250327395435576,
          56.68240387948341,
          56.09936512173499,
          55.49761275104051,
          54.873274598613605,
          54.22232338670823,
          53.540702349373696,
          52.824453810159895,
          52.06984658893265,
          51.27349812137603,
          50.43248735076058,
          49.544454784881424,
          48.60768658707596,
          47.62118016765058,
          46.584689434067066,
          45.498748613852335,
          44.36467434978531,
          43.184546547921585,
          41.961169201673336,
          40.69801308814128,
          39.39914280881301,
          38.06913110343678,
          36.71296368739939,
          35.33593804016389,
          33.94355960326494,
          32.54143873601526,
          31.135191536976745,
          29.730347286638608,
          28.332264823488234,
          26.946059656960188,
          25.576543073680323,
          24.22817393548211,
          22.90502332529795,
          21.61075169429805,
          20.348597721116175,
          19.121377727828005,
          17.931494218682744,
          16.780951922306265,
          15.67137962679748,
          14.604056095512595,
          13.579938430711064,
          12.599691400419847,
          11.663716446078285,
          10.772179328413399,
          9.92503562973896,
          9.122053596135181,
          8.362834057813826,
          7.646827397590198,
          6.973347735620785,
          6.341584656276506,
          5.750612916177057,
          5.1994006400236294,
          4.686816534723386,
          4.211636636564594,
          3.77255105690138,
          3.368171116265029,
          2.997037163053103,
          2.657627269117298,
          2.3483668884482145,
          2.067639463708663,
          1.8137978744220706,
          1.5851765446533426,
          1.3801039700356441,
          1.1969153855496526,
          1.033965276730889,
          0.8896394369432257,
          0.7623662900046545,
          0.6506272280446795,
          0.5529657558027437,
          0.46799528122246953,
          0.39440544475581113,
          0.33096693308385927,
          0.27653477418083655,
          0.23005015747564772,
          0.19054086353099514,
          0.15712042096484252,
          0.12898613363709657,
          0.10541613827629859,
          0.08576566202316446,
          0.06946265146700778,
          0.056002940554501904
         ]
        },
        {
         "mode": "lines",
         "name": "WTI",
         "type": "scatter",
         "x": [
          -0.013036505134973262,
          -0.012843152097090976,
          -0.01264979905920869,
          -0.012456446021326404,
          -0.012263092983444118,
          -0.012069739945561831,
          -0.011876386907679545,
          -0.01168303386979726,
          -0.011489680831914973,
          -0.011296327794032687,
          -0.0111029747561504,
          -0.010909621718268115,
          -0.010716268680385829,
          -0.010522915642503544,
          -0.010329562604621256,
          -0.010136209566738972,
          -0.009942856528856684,
          -0.0097495034909744,
          -0.009556150453092112,
          -0.009362797415209827,
          -0.00916944437732754,
          -0.008976091339445255,
          -0.008782738301562967,
          -0.008589385263680683,
          -0.008396032225798397,
          -0.00820267918791611,
          -0.008009326150033825,
          -0.007815973112151538,
          -0.007622620074269252,
          -0.007429267036386966,
          -0.00723591399850468,
          -0.007042560960622394,
          -0.006849207922740108,
          -0.006655854884857822,
          -0.0064625018469755355,
          -0.006269148809093249,
          -0.006075795771210963,
          -0.005882442733328677,
          -0.005689089695446391,
          -0.005495736657564105,
          -0.005302383619681819,
          -0.005109030581799533,
          -0.0049156775439172466,
          -0.00472232450603496,
          -0.004528971468152674,
          -0.004335618430270388,
          -0.004142265392388102,
          -0.003948912354505816,
          -0.0037555593166235315,
          -0.0035622062787412454,
          -0.0033688532408589593,
          -0.003175500202976673,
          -0.002982147165094387,
          -0.002788794127212101,
          -0.002595441089329815,
          -0.0024020880514475287,
          -0.0022087350135652425,
          -0.0020153819756829564,
          -0.0018220289378006703,
          -0.0016286758999183842,
          -0.001435322862036098,
          -0.001241969824153812,
          -0.0010486167862715258,
          -0.0008552637483892397,
          -0.0006619107105069535,
          -0.0004685576726246674,
          -0.0002752046347423813,
          -0.00008185159686009517,
          0.00011150144102219095,
          0.0003048544789044771,
          0.0004982075167867632,
          0.0006915605546690493,
          0.0008849135925513354,
          0.0010782666304336216,
          0.0012716196683159077,
          0.0014649727061981938,
          0.00165832574408048,
          0.001851678781962766,
          0.002045031819845052,
          0.0022383848577273383,
          0.0024317378956096244,
          0.002625090933491909,
          0.0028184439713741967,
          0.003011797009256481,
          0.003205150047138769,
          0.0033985030850210533,
          0.003591856122903341,
          0.0037852091607856256,
          0.0039785621986679134,
          0.004171915236550198,
          0.004365268274432486,
          0.00455862131231477,
          0.004751974350197058,
          0.004945327388079342,
          0.00513868042596163,
          0.005332033463843915,
          0.005525386501726199,
          0.005718739539608487,
          0.005912092577490771,
          0.006105445615373059,
          0.0062987986532553435,
          0.006492151691137631,
          0.006685504729019916,
          0.006878857766902204,
          0.007072210804784488,
          0.007265563842666776,
          0.00745891688054906,
          0.007652269918431348,
          0.007845622956313632,
          0.00803897599419592,
          0.008232329032078205,
          0.008425682069960493,
          0.008619035107842777,
          0.008812388145725065,
          0.00900574118360735,
          0.009199094221489637,
          0.009392447259371921,
          0.00958580029725421,
          0.009779153335136494,
          0.009972506373018782,
          0.010165859410901066,
          0.010359212448783354,
          0.010552565486665638,
          0.010745918524547926,
          0.01093927156243021,
          0.011132624600312498,
          0.011325977638194783,
          0.01151933067607707,
          0.011712683713959355,
          0.01190603675184164,
          0.012099389789723927,
          0.012292742827606212,
          0.0124860958654885,
          0.012679448903370784,
          0.012872801941253072,
          0.013066154979135356,
          0.013259508017017644,
          0.013452861054899928,
          0.013646214092782216,
          0.0138395671306645,
          0.014032920168546788,
          0.014226273206429073,
          0.01441962624431136,
          0.014612979282193645,
          0.014806332320075933,
          0.014999685357958217,
          0.015193038395840505,
          0.01538639143372279,
          0.015579744471605077,
          0.015773097509487362,
          0.01596645054736965,
          0.016159803585251934,
          0.016353156623134222,
          0.016546509661016506,
          0.016739862698898794,
          0.01693321573678108,
          0.017126568774663366,
          0.01731992181254565,
          0.01751327485042794,
          0.017706627888310223,
          0.01789998092619251,
          0.018093333964074795,
          0.01828668700195708,
          0.018480040039839368,
          0.018673393077721655,
          0.018866746115603936,
          0.019060099153486224,
          0.019253452191368512,
          0.0194468052292508,
          0.01964015826713308,
          0.01983351130501537,
          0.020026864342897657,
          0.020220217380779944,
          0.020413570418662225,
          0.020606923456544513,
          0.0208002764944268,
          0.02099362953230909,
          0.02118698257019137,
          0.021380335608073658,
          0.021573688645955946,
          0.021767041683838233,
          0.021960394721720514,
          0.022153747759602802,
          0.02234710079748509,
          0.022540453835367378,
          0.02273380687324966,
          0.022927159911131947,
          0.023120512949014235,
          0.023313865986896522,
          0.023507219024778803,
          0.02370057206266109,
          0.02389392510054338,
          0.02408727813842566,
          0.024280631176307948,
          0.024473984214190236,
          0.024667337252072524,
          0.024860690289954804,
          0.025054043327837092,
          0.02524739636571938,
          0.025440749403601668
         ],
         "y": [
          0.09555901318874578,
          0.11804517988492126,
          0.1452050586570335,
          0.1778597200054034,
          0.21694101539843885,
          0.26349971652601795,
          0.3187129185765025,
          0.383890396459918,
          0.46047957875193174,
          0.5500687875802943,
          0.6543883857071248,
          0.7753094765526213,
          0.9148398204992582,
          1.0751166627857351,
          1.2583962154279962,
          1.4670395980542108,
          1.7034951197553194,
          1.9702768746773576,
          2.2699397259257172,
          2.6050508623926265,
          2.9781582275664586,
          3.391756233788241,
          3.8482492848619545,
          4.3499137292196846,
          4.898858949832171,
          5.496988360901835,
          6.145961120890512,
          6.847155383387559,
          7.601633889738326,
          8.410112659736882,
          9.272933460200528,
          10.190040628766537,
          11.160962706339847,
          12.18479919234852,
          13.260212589639242,
          14.385425758618293,
          15.558224461615046,
          16.775964856709525,
          18.03558560291737,
          19.333624171769962,
          20.66623692814795,
          22.02922254753311,
          23.418048376776138,
          24.827879417358698,
          26.25360970753034,
          27.689895993709168,
          29.13119370122298,
          30.571795327558814,
          32.00587147496673,
          33.42751480110018,
          34.8307871852898,
          36.209770375257314,
          37.55862028894588,
          38.87162499688467,
          40.143266204638074,
          41.36828379945534,
          42.541742731683954,
          43.659101185288975,
          44.7162786716562,
          45.70972237775276,
          46.63646983575029,
          47.4942057781623,
          48.28131092046508,
          48.9969003890039,
          49.64084959827226,
          50.21380558548225,
          50.71718213256217,
          51.15313744051485,
          51.524533655932935,
          51.8348781655483,
          52.08824724757174,
          52.289193369365044,
          52.44263811773838,
          52.55375340750114,
          52.62783420274904,
          52.67016647276027,
          52.68589446308141,
          52.67989157047417,
          52.65663915244763,
          52.62011747013713,
          52.573712657277774,
          52.52014313600371,
          52.461408277989364,
          52.39876135992364,
          52.33270801438084,
          52.26303046442877,
          52.18883688953233,
          52.108634339664476,
          52.020422731935874,
          51.92180666544807,
          51.810121107873954,
          51.68256646898694,
          51.53634820348951,
          51.368815892684005,
          51.17759674910055,
          50.960718669948776,
          50.71671832664712,
          50.44473030425678,
          50.14455397578764,
          49.81669558621088,
          49.4623838996556,
          49.083558697886986,
          48.68283237439082,
          48.26342581163086,
          47.82908062573028,
          47.383950681626075,
          46.93247649461375,
          46.47924671732007,
          46.0288513456428,
          45.58573154971615,
          45.15403113897683,
          44.73745460239131,
          44.339136430254236,
          43.96152603274804,
          43.60629203796945,
          43.27424909831325,
          42.965309582786524,
          42.6784617108587,
          42.41177481975168,
          42.16243158161208,
          41.926786129745764,
          41.70044624295194,
          41.47837700082849,
          41.2550226846021,
          41.0244431776152,
          40.780460732631546,
          40.51681273013223,
          40.227305957941795,
          39.90596799756819,
          39.547191500873765,
          39.14586747136682,
          38.697504112160374,
          38.198328348238384,
          37.64536775176649,
          37.0365112713257,
          36.370547863567374,
          35.64718282325053,
          34.867032280271964,
          34.031596957403025,
          33.14321684006008,
          32.20500888311471,
          31.220790257075695,
          30.194989908895153,
          29.132551377618807,
          28.03882986297591,
          26.919486500815072,
          25.78038266175763,
          24.627476870400326,
          23.46672665610186,
          22.303997308718714,
          21.144979140333042,
          19.995114463804608,
          18.85953510694412,
          17.743010901965356,
          16.64990923644855,
          15.584165434859178,
          14.549263466663255,
          13.548226253526783,
          12.583614676579694,
          11.657534265353513,
          10.771648480599094,
          9.927197479703414,
          9.12502127029329,
          8.36558620825335,
          7.649013873596138,
          6.975111454047602,
          6.3434028747074125,
          5.753160026118946,
          5.20343355674899,
          4.693082804436706,
          4.2208045411148785,
          3.7851602934479716,
          3.384602077460973,
          3.017496447230274,
          2.68214680659213,
          2.376813969600119,
          2.099734981624436,
          1.849140230343845,
          1.6232688863803135,
          1.420382718899743,
          1.238778333936732,
          1.076797884048825,
          0.9328382984127516,
          0.8053590835571902,
          0.6928887471604674,
          0.5940299009903024,
          0.5074631041132225,
          0.43194951372050194,
          0.3663324179110761,
          0.3095377320485253,
          0.2605735473384141,
          0.21852882653892283,
          0.18257134676335224,
          0.15194499279021162,
          0.12596650590704786,
          0.10402179294024314,
          0.08556189774565597,
          0.07009873314482248,
          0.057200665273307305,
          0.04648803482037547
         ]
        },
        {
         "mode": "lines",
         "name": "Henry",
         "type": "scatter",
         "x": [
          -0.12094007905027514,
          -0.11957029011854298,
          -0.11820050118681082,
          -0.11683071225507866,
          -0.11546092332334651,
          -0.11409113439161435,
          -0.11272134545988219,
          -0.11135155652815003,
          -0.10998176759641787,
          -0.10861197866468571,
          -0.10724218973295355,
          -0.1058724008012214,
          -0.10450261186948924,
          -0.10313282293775708,
          -0.10176303400602492,
          -0.10039324507429276,
          -0.0990234561425606,
          -0.09765366721082844,
          -0.09628387827909629,
          -0.09491408934736413,
          -0.09354430041563197,
          -0.09217451148389981,
          -0.09080472255216765,
          -0.08943493362043549,
          -0.08806514468870333,
          -0.08669535575697118,
          -0.08532556682523901,
          -0.08395577789350686,
          -0.0825859889617747,
          -0.08121620003004254,
          -0.07984641109831038,
          -0.07847662216657822,
          -0.07710683323484607,
          -0.0757370443031139,
          -0.07436725537138175,
          -0.07299746643964959,
          -0.07162767750791743,
          -0.07025788857618527,
          -0.06888809964445311,
          -0.06751831071272096,
          -0.06614852178098879,
          -0.06477873284925664,
          -0.06340894391752448,
          -0.06203915498579232,
          -0.06066936605406016,
          -0.05929957712232801,
          -0.05792978819059584,
          -0.056559999258863694,
          -0.055190210327131534,
          -0.05382042139539937,
          -0.05245063246366721,
          -0.05108084353193505,
          -0.04971105460020289,
          -0.04834126566847073,
          -0.046971476736738585,
          -0.045601687805006424,
          -0.044231898873274264,
          -0.042862109941542104,
          -0.04149232100980994,
          -0.04012253207807778,
          -0.03875274314634562,
          -0.037382954214613476,
          -0.036013165282881315,
          -0.034643376351149155,
          -0.033273587419416994,
          -0.031903798487684834,
          -0.030534009555952674,
          -0.029164220624220513,
          -0.027794431692488367,
          -0.026424642760756206,
          -0.025054853829024046,
          -0.023685064897291885,
          -0.022315275965559725,
          -0.020945487033827564,
          -0.019575698102095404,
          -0.018205909170363258,
          -0.016836120238631097,
          -0.015466331306898937,
          -0.014096542375166776,
          -0.012726753443434616,
          -0.011356964511702455,
          -0.009987175579970295,
          -0.008617386648238148,
          -0.007247597716505988,
          -0.0058778087847738275,
          -0.004508019853041667,
          -0.0031382309213095066,
          -0.0017684419895773462,
          -0.0003986530578451858,
          0.0009711358738869608,
          0.002340924805619121,
          0.0037107137373512816,
          0.005080502669083456,
          0.0064502916008156025,
          0.007820080532547749,
          0.009189869464279923,
          0.01055965839601207,
          0.011929447327744244,
          0.01329923625947639,
          0.014669025191208565,
          0.01603881412294071,
          0.017408603054672858,
          0.018778391986405032,
          0.02014818091813718,
          0.021517969849869353,
          0.0228877587816015,
          0.024257547713333674,
          0.02562733664506582,
          0.026997125576797967,
          0.02836691450853014,
          0.029736703440262288,
          0.031106492371994462,
          0.03247628130372661,
          0.03384607023545878,
          0.03521585916719093,
          0.036585648098923076,
          0.03795543703065525,
          0.0393252259623874,
          0.04069501489411957,
          0.04206480382585172,
          0.04343459275758389,
          0.04480438168931604,
          0.046174170621048186,
          0.04754395955278036,
          0.048913748484512506,
          0.05028353741624468,
          0.05165332634797683,
          0.053023115279709,
          0.05439290421144115,
          0.055762693143173295,
          0.05713248207490547,
          0.058502271006637616,
          0.05987205993836979,
          0.061241848870101936,
          0.06261163780183411,
          0.06398142673356626,
          0.0653512156652984,
          0.06672100459703058,
          0.06809079352876272,
          0.0694605824604949,
          0.07083037139222705,
          0.07220016032395922,
          0.07356994925569137,
          0.07493973818742351,
          0.07630952711915569,
          0.07767931605088783,
          0.07904910498262001,
          0.08041889391435215,
          0.08178868284608433,
          0.08315847177781648,
          0.08452826070954862,
          0.0858980496412808,
          0.08726783857301294,
          0.08863762750474512,
          0.09000741643647726,
          0.09137720536820944,
          0.09274699429994158,
          0.09411678323167373,
          0.0954865721634059,
          0.09685636109513805,
          0.09822615002687023,
          0.09959593895860237,
          0.10096572789033455,
          0.1023355168220667,
          0.10370530575379884,
          0.10507509468553101,
          0.10644488361726316,
          0.10781467254899534,
          0.10918446148072748,
          0.11055425041245966,
          0.1119240393441918,
          0.11329382827592395,
          0.11466361720765612,
          0.11603340613938827,
          0.11740319507112044,
          0.11877298400285259,
          0.12014277293458477,
          0.12151256186631691,
          0.12288235079804906,
          0.12425213972978123,
          0.1256219286615134,
          0.12699171759324557,
          0.1283615065249777,
          0.12973129545670986,
          0.13110108438844204,
          0.13247087332017415,
          0.13384066225190633,
          0.1352104511836385,
          0.13658024011537062,
          0.1379500290471028,
          0.13931981797883497,
          0.14068960691056714,
          0.14205939584229926,
          0.14342918477403144,
          0.1447989737057636,
          0.14616876263749573,
          0.1475385515692279,
          0.14890834050096008,
          0.15027812943269225,
          0.15164791836442437
         ],
         "y": [
          0.007928270230135568,
          0.010126515882473994,
          0.012858095253957943,
          0.0162307634175439,
          0.020368461607502764,
          0.025412435017613585,
          0.03152212366189744,
          0.038875746623543775,
          0.047670495723065316,
          0.05812225346204674,
          0.07046475274138823,
          0.08494810291817881,
          0.10183661871022877,
          0.12140590553421386,
          0.1439391770691059,
          0.16972280787107336,
          0.1990411551058785,
          0.23217071795457497,
          0.2693737397139103,
          0.3108913944972622,
          0.3569367359644368,
          0.4076876177445212,
          0.4632798221940713,
          0.5238006539449854,
          0.5892832656123969,
          0.6597019836144631,
          0.7349688912611109,
          0.8149319035410901,
          0.8993745333719614,
          0.9880175030643762,
          1.0805222985830927,
          1.176496699638756,
          1.275502248027119,
          1.377063542710713,
          1.4806791760264169,
          1.585834054438279,
          1.6920127828528189,
          1.7987137370090338,
          1.9054634069354164,
          2.0118305686051174,
          2.117439832811025,
          2.2219841312834325,
          2.325235730672406,
          2.4270554147242365,
          2.527399542258067,
          2.6263247707852853,
          2.7239903291670724,
          2.8206578229975094,
          2.9166886580940763,
          3.012539264720571,
          3.1087543919017606,
          3.205958811518373,
          3.304847820468096,
          3.406176951703698,
          3.51075129846748,
          3.619414819337992,
          3.7330399256228812,
          3.8525175601942174,
          3.978747863302073,
          4.112631393522286,
          4.2550607398577895,
          4.406912234465781,
          4.569037365527719,
          4.742253407331791,
          4.927332739709615,
          5.124990329833242,
          5.335868901775795,
          5.560521425696319,
          5.799390717827478,
          6.052786149415483,
          6.320857708152719,
          6.603567926483003,
          6.900662471316459,
          7.2116404607446185,
          7.535725815690031,
          7.8718411485507325,
          8.218585818773846,
          8.574219831725392,
          8.936655211133726,
          9.303456330848993,
          9.671850448665873,
          10.038749349761314,
          10.400782592382981,
          10.754342371982956,
          11.095639505011267,
          11.420769506538702,
          11.725787225140493,
          12.006788032544403,
          12.259993171242597,
          12.481836563979035,
          12.66905020320423,
          12.818745178556902,
          12.928485471600474,
          12.996351847610674,
          13.020993495343616,
          13.00166549217564,
          12.938250683197591,
          12.831265134143015,
          12.681846922324713,
          12.491728639064625,
          12.263194564144758,
          11.99902401240941,
          11.702422822940566,
          11.37694534452141,
          11.026409554472739,
          10.654808123477325,
          10.266218303757066,
          9.864713473692653,
          9.45427902466049,
          9.038735035140185,
          8.621667855642931,
          8.206372340677113,
          7.795806027420062,
          7.392556092664942,
          6.998819438079214,
          6.61639577686492,
          6.246693139941527,
          5.890744803013615,
          5.5492362719084,
          5.222540664775535,
          4.910760605899353,
          4.613774603696855,
          4.331285828296149,
          4.062871231663332,
          3.8080290616968298,
          3.566223003682391,
          3.3369214274980057,
          3.1196305138617015,
          2.9139203626974033,
          2.719443535234776,
          2.5359458324448045,
          2.3632694502333256,
          2.2013489623978715,
          2.0502008538685184,
          1.9099075501336,
          1.7805970579958583,
          1.6624194450496785,
          1.5555214406354938,
          1.4600204422652148,
          1.3759791635112415,
          1.3033820685473365,
          1.242114612293756,
          1.1919461511821148,
          1.1525172155179086,
          1.1233316473899608,
          1.103753914456473,
          1.093011715345884,
          1.090203801736613,
          1.0943127597258997,
          1.104222322769825,
          1.1187386339711995,
          1.1366147404400337,
          1.1565774904793376,
          1.1773559190381575,
          1.1977101516111104,
          1.2164598344982234,
          1.2325111122698647,
          1.244881222520103,
          1.252719863241391,
          1.2553266074592049,
          1.2521637893720372,
          1.2428644605961559,
          1.227235207022842,
          1.205253817744281,
          1.177061998115893,
          1.1429535096208976,
          1.1033582904327843,
          1.0588232540275975,
          1.009990571998108,
          0.9575743164787447,
          0.9023363647375033,
          0.8450624534364799,
          0.7865392151556032,
          0.7275329395924377,
          0.6687706828314066,
          0.6109242080196433,
          0.5545970882873387,
          0.5003151465929878,
          0.44852025575280025,
          0.3995673827183908,
          0.3537246403665279,
          0.3111760122197587,
          0.2720263434287963,
          0.23630814604713585,
          0.20398974748869417,
          0.17498431601388165,
          0.14915932292789602,
          0.12634604388248674,
          0.10634875678572402,
          0.08895335677254883,
          0.07393517509624409,
          0.06106585473455693,
          0.050119197655186146,
          0.04087595448010982,
          0.03312757493247551,
          0.026678975911832235,
          0.02135041298913348,
          0.01697856080371703,
          0.013416919014205303,
          0.010535664176963336
         ]
        },
        {
         "mode": "lines",
         "name": "Prediction Market",
         "type": "scatter",
         "x": [
          -0.10904638432141345,
          -0.10746742094227504,
          -0.10588845756313664,
          -0.10430949418399824,
          -0.10273053080485983,
          -0.10115156742572143,
          -0.09957260404658302,
          -0.09799364066744462,
          -0.0964146772883062,
          -0.0948357139091678,
          -0.0932567505300294,
          -0.09167778715089099,
          -0.09009882377175259,
          -0.08851986039261418,
          -0.08694089701347578,
          -0.08536193363433738,
          -0.08378297025519897,
          -0.08220400687606057,
          -0.08062504349692215,
          -0.07904608011778375,
          -0.07746711673864534,
          -0.07588815335950694,
          -0.07430918998036853,
          -0.07273022660123013,
          -0.07115126322209173,
          -0.06957229984295332,
          -0.06799333646381492,
          -0.06641437308467651,
          -0.06483540970553811,
          -0.0632564463263997,
          -0.061677482947261296,
          -0.06009851956812289,
          -0.05851955618898449,
          -0.056940592809846084,
          -0.05536162943070768,
          -0.053782666051569276,
          -0.052203702672430866,
          -0.05062473929329246,
          -0.04904577591415406,
          -0.047466812535015654,
          -0.04588784915587725,
          -0.044308885776738846,
          -0.04272992239760044,
          -0.04115095901846204,
          -0.039571995639323634,
          -0.03799303226018522,
          -0.03641406888104681,
          -0.03483510550190841,
          -0.033256142122770005,
          -0.0316771787436316,
          -0.030098215364493197,
          -0.028519251985354793,
          -0.02694028860621639,
          -0.025361325227077985,
          -0.02378236184793958,
          -0.022203398468801178,
          -0.020624435089662774,
          -0.01904547171052437,
          -0.017466508331385952,
          -0.015887544952247548,
          -0.014308581573109144,
          -0.01272961819397074,
          -0.011150654814832336,
          -0.009571691435693933,
          -0.007992728056555529,
          -0.006413764677417125,
          -0.004834801298278721,
          -0.003255837919140317,
          -0.001676874540001913,
          -0.00009791116086350915,
          0.0014810522182748947,
          0.0030600155974133125,
          0.004638978976551716,
          0.00621794235569012,
          0.007796905734828524,
          0.009375869113966928,
          0.010954832493105332,
          0.012533795872243736,
          0.01411275925138214,
          0.015691722630520544,
          0.017270686009658948,
          0.01884964938879735,
          0.020428612767935755,
          0.02200757614707416,
          0.023586539526212563,
          0.025165502905350967,
          0.02674446628448937,
          0.028323429663627775,
          0.02990239304276618,
          0.03148135642190458,
          0.033060319801043014,
          0.03463928318018142,
          0.03621824655931982,
          0.037797209938458226,
          0.03937617331759663,
          0.040955136696735034,
          0.04253410007587344,
          0.04411306345501184,
          0.045692026834150246,
          0.04727099021328865,
          0.04884995359242705,
          0.05042891697156546,
          0.05200788035070386,
          0.053586843729842265,
          0.05516580710898067,
          0.05674477048811907,
          0.05832373386725748,
          0.05990269724639588,
          0.061481660625534285,
          0.06306062400467269,
          0.06463958738381109,
          0.0662185507629495,
          0.0677975141420879,
          0.0693764775212263,
          0.07095544090036471,
          0.07253440427950311,
          0.07411336765864154,
          0.07569233103777995,
          0.07727129441691835,
          0.07885025779605676,
          0.08042922117519516,
          0.08200818455433356,
          0.08358714793347197,
          0.08516611131261037,
          0.08674507469174877,
          0.08832403807088718,
          0.08990300145002558,
          0.09148196482916399,
          0.09306092820830239,
          0.0946398915874408,
          0.0962188549665792,
          0.0977978183457176,
          0.099376781724856,
          0.10095574510399441,
          0.10253470848313281,
          0.10411367186227122,
          0.10569263524140962,
          0.10727159862054803,
          0.10885056199968643,
          0.11042952537882483,
          0.11200848875796324,
          0.11358745213710167,
          0.11516641551624007,
          0.11674537889537848,
          0.11832434227451688,
          0.11990330565365528,
          0.12148226903279369,
          0.12306123241193209,
          0.1246401957910705,
          0.1262191591702089,
          0.1277981225493473,
          0.1293770859284857,
          0.1309560493076241,
          0.13253501268676252,
          0.13411397606590092,
          0.13569293944503932,
          0.13727190282417773,
          0.13885086620331613,
          0.14042982958245454,
          0.14200879296159297,
          0.14358775634073134,
          0.14516671971986977,
          0.14674568309900815,
          0.14832464647814658,
          0.14990360985728496,
          0.1514825732364234,
          0.15306153661556177,
          0.1546404999947002,
          0.15621946337383857,
          0.157798426752977,
          0.15937739013211538,
          0.1609563535112538,
          0.1625353168903922,
          0.16411428026953062,
          0.165693243648669,
          0.16727220702780743,
          0.1688511704069458,
          0.17043013378608424,
          0.1720090971652226,
          0.17358806054436104,
          0.17516702392349948,
          0.17674598730263785,
          0.17832495068177628,
          0.17990391406091466,
          0.1814828774400531,
          0.18306184081919147,
          0.1846408041983299,
          0.18621976757746828,
          0.1877987309566067,
          0.18937769433574508,
          0.19095665771488352,
          0.1925356210940219,
          0.19411458447316032,
          0.1956935478522987,
          0.19727251123143713,
          0.1988514746105755,
          0.20043043798971394,
          0.20200940136885231,
          0.20358836474799075,
          0.20516732812712912
         ],
         "y": [
          0.010918159263357688,
          0.013606805454562677,
          0.01688324611263623,
          0.020857350411411065,
          0.02565526568881829,
          0.03142094698689313,
          0.03831765967942537,
          0.0465294164567486,
          0.05626230473955128,
          0.06774565582493317,
          0.08123300294433065,
          0.09700277215390403,
          0.11535864779797184,
          0.13662955338575372,
          0.16116918927950494,
          0.18935507075677732,
          0.22158701389376675,
          0.25828502239289464,
          0.2998865359756376,
          0.34684301026798775,
          0.3996158091663098,
          0.4586714033932197,
          0.5244758832097022,
          0.5974888088840266,
          0.6781564393458802,
          0.7669043972651929,
          0.8641298473515282,
          0.9701932837018634,
          1.0854100412227248,
          1.2100416651580963,
          1.34428729114678,
          1.4882752055183648,
          1.6420547711391205,
          1.8055889173729205,
          1.9787474028764207,
          2.161301066175328,
          2.352917280390153,
          2.5531568241986204,
          2.7614723702722124,
          2.9772087742319857,
          3.1996053210212647,
          3.4278000511145104,
          3.6608362461112423,
          3.897671102324002,
          4.137186562726643,
          4.378202213332827,
          4.619490081470878,
          4.859791102736481,
          5.097832953294425,
          5.332348877662492,
          5.562097082362331,
          5.785880216151107,
          6.002564421134425,
          6.211097418789495,
          6.410525093193965,
          6.600006052283655,
          6.778823687643897,
          6.946395314108106,
          7.102278051191649,
          7.246171206965231,
          7.377915038180407,
          7.497485884183687,
          7.6049878015067245,
          7.70064095555108,
          7.784767149744522,
          7.857772985160355,
          7.920131239370352,
          7.9723611273347315,
          8.015008155366104,
          8.048624298688084,
          8.073749222186597,
          8.090893222389145,
          8.10052249774951,
          8.103047256665336,
          8.09881305237366,
          8.08809559619866,
          8.071099151751392,
          8.047958459433636,
          8.018743990115459,
          7.983470186225297,
          7.942106224382769,
          7.894588732023998,
          7.840835816044731,
          7.780761717804874,
          7.714291397852148,
          7.641374375735498,
          7.561997203916198,
          7.476194037057729,
          7.384054864431017,
          7.285731098126546,
          7.1814383466071305,
          7.071456344682522,
          6.956126149877842,
          6.835844844265355,
          6.71105809361473,
          6.582251006650016,
          6.449937802021836,
          6.314650826561898,
          6.1769294743848135,
          6.037309533034547,
          5.89631343236965,
          5.75444179795245,
          5.612166618297661,
          5.46992623031133,
          5.328122216027472,
          5.1871181928998675,
          5.047240375757051,
          4.908779696786257,
          4.771995195333983,
          4.637118335442217,
          4.5043578780376645,
          4.37390492724186,
          4.24593778560038,
          4.120626289016714,
          3.9981353455404136,
          3.878627468721221,
          3.7622641712345293,
          3.6492061628884356,
          3.5396123740016967,
          3.433637895956562,
          3.3314309916130935,
          3.233129376238465,
          3.13885600269718,
          3.0487146019950804,
          2.9627852320714814,
          2.8811200751718826,
          2.8037396992192636,
          2.730629963973708,
          2.6617397114628174,
          2.5969793353655195,
          2.536220278840687,
          2.479295467512122,
          2.4260006462815173,
          2.376096557070664,
          2.329311870552164,
          2.285346768789689,
          2.243877067206099,
          2.204558762606523,
          2.167032897848969,
          2.130930641640623,
          2.0958784921863933,
          2.0615035244065116,
          2.027438610730992,
          1.9933275539249051,
          1.9588300762331534,
          1.92362661201286,
          1.8874228510284665,
          1.8499539771947904,
          1.810988543567528,
          1.770331919832035,
          1.72782924458467,
          1.683367812496937,
          1.6368788270527144,
          1.5883384537951217,
          1.5377681174636622,
          1.4852339992507297,
          1.4308457074964376,
          1.3747541159452517,
          1.3171483873523155,
          1.2582522256294755,
          1.1983194255523484,
          1.137628813909503,
          1.0764786984691563,
          1.0151809599780024,
          0.9540549364935821,
          0.8934212578521035,
          0.833595790470798,
          0.7748838488046033,
          0.717574819798313,
          0.6619373311035825,
          0.6082150734632661,
          0.5566233635334527,
          0.5073465067113628,
          0.46053599154673036,
          0.41630951932839155,
          0.3747508456850424,
          0.33591038662058154,
          0.2998065202389186,
          0.26642749820077516,
          0.2357338681537056,
          0.20766130019736795,
          0.18212370686075144,
          0.15901654683284144,
          0.13822020737511384,
          0.11960336838208882,
          0.10302626177441185,
          0.08834375258271247,
          0.07540818197435104,
          0.06407192688136075,
          0.05418964515972628,
          0.04562018878660877,
          0.03822818002589309,
          0.03188525641850638,
          0.026470999652146082,
          0.021873570714875005,
          0.017990079218070495,
          0.014726718452020927,
          0.011998699747329528,
          0.009730020244493303,
          0.007853097444483502
         ]
        }
       ],
       "layout": {
        "showlegend": true,
        "template": {
         "data": {
          "bar": [
           {
            "error_x": {
             "color": "#2a3f5f"
            },
            "error_y": {
             "color": "#2a3f5f"
            },
            "marker": {
             "line": {
              "color": "#E5ECF6",
              "width": 0.5
             },
             "pattern": {
              "fillmode": "overlay",
              "size": 10,
              "solidity": 0.2
             }
            },
            "type": "bar"
           }
          ],
          "barpolar": [
           {
            "marker": {
             "line": {
              "color": "#E5ECF6",
              "width": 0.5
             },
             "pattern": {
              "fillmode": "overlay",
              "size": 10,
              "solidity": 0.2
             }
            },
            "type": "barpolar"
           }
          ],
          "carpet": [
           {
            "aaxis": {
             "endlinecolor": "#2a3f5f",
             "gridcolor": "white",
             "linecolor": "white",
             "minorgridcolor": "white",
             "startlinecolor": "#2a3f5f"
            },
            "baxis": {
             "endlinecolor": "#2a3f5f",
             "gridcolor": "white",
             "linecolor": "white",
             "minorgridcolor": "white",
             "startlinecolor": "#2a3f5f"
            },
            "type": "carpet"
           }
          ],
          "choropleth": [
           {
            "colorbar": {
             "outlinewidth": 0,
             "ticks": ""
            },
            "type": "choropleth"
           }
          ],
          "contour": [
           {
            "colorbar": {
             "outlinewidth": 0,
             "ticks": ""
            },
            "colorscale": [
             [
              0,
              "#0d0887"
             ],
             [
              0.1111111111111111,
              "#46039f"
             ],
             [
              0.2222222222222222,
              "#7201a8"
             ],
             [
              0.3333333333333333,
              "#9c179e"
             ],
             [
              0.4444444444444444,
              "#bd3786"
             ],
             [
              0.5555555555555556,
              "#d8576b"
             ],
             [
              0.6666666666666666,
              "#ed7953"
             ],
             [
              0.7777777777777778,
              "#fb9f3a"
             ],
             [
              0.8888888888888888,
              "#fdca26"
             ],
             [
              1,
              "#f0f921"
             ]
            ],
            "type": "contour"
           }
          ],
          "contourcarpet": [
           {
            "colorbar": {
             "outlinewidth": 0,
             "ticks": ""
            },
            "type": "contourcarpet"
           }
          ],
          "heatmap": [
           {
            "colorbar": {
             "outlinewidth": 0,
             "ticks": ""
            },
            "colorscale": [
             [
              0,
              "#0d0887"
             ],
             [
              0.1111111111111111,
              "#46039f"
             ],
             [
              0.2222222222222222,
              "#7201a8"
             ],
             [
              0.3333333333333333,
              "#9c179e"
             ],
             [
              0.4444444444444444,
              "#bd3786"
             ],
             [
              0.5555555555555556,
              "#d8576b"
             ],
             [
              0.6666666666666666,
              "#ed7953"
             ],
             [
              0.7777777777777778,
              "#fb9f3a"
             ],
             [
              0.8888888888888888,
              "#fdca26"
             ],
             [
              1,
              "#f0f921"
             ]
            ],
            "type": "heatmap"
           }
          ],
          "heatmapgl": [
           {
            "colorbar": {
             "outlinewidth": 0,
             "ticks": ""
            },
            "colorscale": [
             [
              0,
              "#0d0887"
             ],
             [
              0.1111111111111111,
              "#46039f"
             ],
             [
              0.2222222222222222,
              "#7201a8"
             ],
             [
              0.3333333333333333,
              "#9c179e"
             ],
             [
              0.4444444444444444,
              "#bd3786"
             ],
             [
              0.5555555555555556,
              "#d8576b"
             ],
             [
              0.6666666666666666,
              "#ed7953"
             ],
             [
              0.7777777777777778,
              "#fb9f3a"
             ],
             [
              0.8888888888888888,
              "#fdca26"
             ],
             [
              1,
              "#f0f921"
             ]
            ],
            "type": "heatmapgl"
           }
          ],
          "histogram": [
           {
            "marker": {
             "pattern": {
              "fillmode": "overlay",
              "size": 10,
              "solidity": 0.2
             }
            },
            "type": "histogram"
           }
          ],
          "histogram2d": [
           {
            "colorbar": {
             "outlinewidth": 0,
             "ticks": ""
            },
            "colorscale": [
             [
              0,
              "#0d0887"
             ],
             [
              0.1111111111111111,
              "#46039f"
             ],
             [
              0.2222222222222222,
              "#7201a8"
             ],
             [
              0.3333333333333333,
              "#9c179e"
             ],
             [
              0.4444444444444444,
              "#bd3786"
             ],
             [
              0.5555555555555556,
              "#d8576b"
             ],
             [
              0.6666666666666666,
              "#ed7953"
             ],
             [
              0.7777777777777778,
              "#fb9f3a"
             ],
             [
              0.8888888888888888,
              "#fdca26"
             ],
             [
              1,
              "#f0f921"
             ]
            ],
            "type": "histogram2d"
           }
          ],
          "histogram2dcontour": [
           {
            "colorbar": {
             "outlinewidth": 0,
             "ticks": ""
            },
            "colorscale": [
             [
              0,
              "#0d0887"
             ],
             [
              0.1111111111111111,
              "#46039f"
             ],
             [
              0.2222222222222222,
              "#7201a8"
             ],
             [
              0.3333333333333333,
              "#9c179e"
             ],
             [
              0.4444444444444444,
              "#bd3786"
             ],
             [
              0.5555555555555556,
              "#d8576b"
             ],
             [
              0.6666666666666666,
              "#ed7953"
             ],
             [
              0.7777777777777778,
              "#fb9f3a"
             ],
             [
              0.8888888888888888,
              "#fdca26"
             ],
             [
              1,
              "#f0f921"
             ]
            ],
            "type": "histogram2dcontour"
           }
          ],
          "mesh3d": [
           {
            "colorbar": {
             "outlinewidth": 0,
             "ticks": ""
            },
            "type": "mesh3d"
           }
          ],
          "parcoords": [
           {
            "line": {
             "colorbar": {
              "outlinewidth": 0,
              "ticks": ""
             }
            },
            "type": "parcoords"
           }
          ],
          "pie": [
           {
            "automargin": true,
            "type": "pie"
           }
          ],
          "scatter": [
           {
            "fillpattern": {
             "fillmode": "overlay",
             "size": 10,
             "solidity": 0.2
            },
            "type": "scatter"
           }
          ],
          "scatter3d": [
           {
            "line": {
             "colorbar": {
              "outlinewidth": 0,
              "ticks": ""
             }
            },
            "marker": {
             "colorbar": {
              "outlinewidth": 0,
              "ticks": ""
             }
            },
            "type": "scatter3d"
           }
          ],
          "scattercarpet": [
           {
            "marker": {
             "colorbar": {
              "outlinewidth": 0,
              "ticks": ""
             }
            },
            "type": "scattercarpet"
           }
          ],
          "scattergeo": [
           {
            "marker": {
             "colorbar": {
              "outlinewidth": 0,
              "ticks": ""
             }
            },
            "type": "scattergeo"
           }
          ],
          "scattergl": [
           {
            "marker": {
             "colorbar": {
              "outlinewidth": 0,
              "ticks": ""
             }
            },
            "type": "scattergl"
           }
          ],
          "scattermapbox": [
           {
            "marker": {
             "colorbar": {
              "outlinewidth": 0,
              "ticks": ""
             }
            },
            "type": "scattermapbox"
           }
          ],
          "scatterpolar": [
           {
            "marker": {
             "colorbar": {
              "outlinewidth": 0,
              "ticks": ""
             }
            },
            "type": "scatterpolar"
           }
          ],
          "scatterpolargl": [
           {
            "marker": {
             "colorbar": {
              "outlinewidth": 0,
              "ticks": ""
             }
            },
            "type": "scatterpolargl"
           }
          ],
          "scatterternary": [
           {
            "marker": {
             "colorbar": {
              "outlinewidth": 0,
              "ticks": ""
             }
            },
            "type": "scatterternary"
           }
          ],
          "surface": [
           {
            "colorbar": {
             "outlinewidth": 0,
             "ticks": ""
            },
            "colorscale": [
             [
              0,
              "#0d0887"
             ],
             [
              0.1111111111111111,
              "#46039f"
             ],
             [
              0.2222222222222222,
              "#7201a8"
             ],
             [
              0.3333333333333333,
              "#9c179e"
             ],
             [
              0.4444444444444444,
              "#bd3786"
             ],
             [
              0.5555555555555556,
              "#d8576b"
             ],
             [
              0.6666666666666666,
              "#ed7953"
             ],
             [
              0.7777777777777778,
              "#fb9f3a"
             ],
             [
              0.8888888888888888,
              "#fdca26"
             ],
             [
              1,
              "#f0f921"
             ]
            ],
            "type": "surface"
           }
          ],
          "table": [
           {
            "cells": {
             "fill": {
              "color": "#EBF0F8"
             },
             "line": {
              "color": "white"
             }
            },
            "header": {
             "fill": {
              "color": "#C8D4E3"
             },
             "line": {
              "color": "white"
             }
            },
            "type": "table"
           }
          ]
         },
         "layout": {
          "annotationdefaults": {
           "arrowcolor": "#2a3f5f",
           "arrowhead": 0,
           "arrowwidth": 1
          },
          "autotypenumbers": "strict",
          "coloraxis": {
           "colorbar": {
            "outlinewidth": 0,
            "ticks": ""
           }
          },
          "colorscale": {
           "diverging": [
            [
             0,
             "#8e0152"
            ],
            [
             0.1,
             "#c51b7d"
            ],
            [
             0.2,
             "#de77ae"
            ],
            [
             0.3,
             "#f1b6da"
            ],
            [
             0.4,
             "#fde0ef"
            ],
            [
             0.5,
             "#f7f7f7"
            ],
            [
             0.6,
             "#e6f5d0"
            ],
            [
             0.7,
             "#b8e186"
            ],
            [
             0.8,
             "#7fbc41"
            ],
            [
             0.9,
             "#4d9221"
            ],
            [
             1,
             "#276419"
            ]
           ],
           "sequential": [
            [
             0,
             "#0d0887"
            ],
            [
             0.1111111111111111,
             "#46039f"
            ],
            [
             0.2222222222222222,
             "#7201a8"
            ],
            [
             0.3333333333333333,
             "#9c179e"
            ],
            [
             0.4444444444444444,
             "#bd3786"
            ],
            [
             0.5555555555555556,
             "#d8576b"
            ],
            [
             0.6666666666666666,
             "#ed7953"
            ],
            [
             0.7777777777777778,
             "#fb9f3a"
            ],
            [
             0.8888888888888888,
             "#fdca26"
            ],
            [
             1,
             "#f0f921"
            ]
           ],
           "sequentialminus": [
            [
             0,
             "#0d0887"
            ],
            [
             0.1111111111111111,
             "#46039f"
            ],
            [
             0.2222222222222222,
             "#7201a8"
            ],
            [
             0.3333333333333333,
             "#9c179e"
            ],
            [
             0.4444444444444444,
             "#bd3786"
            ],
            [
             0.5555555555555556,
             "#d8576b"
            ],
            [
             0.6666666666666666,
             "#ed7953"
            ],
            [
             0.7777777777777778,
             "#fb9f3a"
            ],
            [
             0.8888888888888888,
             "#fdca26"
            ],
            [
             1,
             "#f0f921"
            ]
           ]
          },
          "colorway": [
           "#636efa",
           "#EF553B",
           "#00cc96",
           "#ab63fa",
           "#FFA15A",
           "#19d3f3",
           "#FF6692",
           "#B6E880",
           "#FF97FF",
           "#FECB52"
          ],
          "font": {
           "color": "#2a3f5f"
          },
          "geo": {
           "bgcolor": "white",
           "lakecolor": "white",
           "landcolor": "#E5ECF6",
           "showlakes": true,
           "showland": true,
           "subunitcolor": "white"
          },
          "hoverlabel": {
           "align": "left"
          },
          "hovermode": "closest",
          "mapbox": {
           "style": "light"
          },
          "paper_bgcolor": "white",
          "plot_bgcolor": "#E5ECF6",
          "polar": {
           "angularaxis": {
            "gridcolor": "white",
            "linecolor": "white",
            "ticks": ""
           },
           "bgcolor": "#E5ECF6",
           "radialaxis": {
            "gridcolor": "white",
            "linecolor": "white",
            "ticks": ""
           }
          },
          "scene": {
           "xaxis": {
            "backgroundcolor": "#E5ECF6",
            "gridcolor": "white",
            "gridwidth": 2,
            "linecolor": "white",
            "showbackground": true,
            "ticks": "",
            "zerolinecolor": "white"
           },
           "yaxis": {
            "backgroundcolor": "#E5ECF6",
            "gridcolor": "white",
            "gridwidth": 2,
            "linecolor": "white",
            "showbackground": true,
            "ticks": "",
            "zerolinecolor": "white"
           },
           "zaxis": {
            "backgroundcolor": "#E5ECF6",
            "gridcolor": "white",
            "gridwidth": 2,
            "linecolor": "white",
            "showbackground": true,
            "ticks": "",
            "zerolinecolor": "white"
           }
          },
          "shapedefaults": {
           "line": {
            "color": "#2a3f5f"
           }
          },
          "ternary": {
           "aaxis": {
            "gridcolor": "white",
            "linecolor": "white",
            "ticks": ""
           },
           "baxis": {
            "gridcolor": "white",
            "linecolor": "white",
            "ticks": ""
           },
           "bgcolor": "#E5ECF6",
           "caxis": {
            "gridcolor": "white",
            "linecolor": "white",
            "ticks": ""
           }
          },
          "title": {
           "x": 0.05
          },
          "xaxis": {
           "automargin": true,
           "gridcolor": "white",
           "linecolor": "white",
           "ticks": "",
           "title": {
            "standoff": 15
           },
           "zerolinecolor": "white",
           "zerolinewidth": 2
          },
          "yaxis": {
           "automargin": true,
           "gridcolor": "white",
           "linecolor": "white",
           "ticks": "",
           "title": {
            "standoff": 15
           },
           "zerolinecolor": "white",
           "zerolinewidth": 2
          }
         }
        },
        "xaxis": {
         "title": {
          "text": "pct change Value"
         }
        },
        "yaxis": {
         "title": {
          "text": "Density"
         }
        }
       }
      }
     },
     "metadata": {},
     "output_type": "display_data"
    }
   ],
   "source": [
    "\n",
    "# Create Plotly figure\n",
    "fig = plgo.Figure()\n",
    "\n",
    "# Add KDE line\n",
    "fig.add_trace(plgo.Scatter(x=brent_x_values, y=brent_kde_values, mode='lines', name='Brent'))\n",
    "fig.add_trace(plgo.Scatter(x=wti_x_values, y=wti_kde_values, mode='lines', name='WTI'))\n",
    "fig.add_trace(plgo.Scatter(x=henry_x_values, y=henry_kde_values, mode='lines', name='Henry'))\n",
    "fig.add_trace(plgo.Scatter(x=probs_x_values, y=probs_kde_values, mode='lines', name='Prediction Market'))\n",
    "\n",
    "# Update layout\n",
    "#title='Kernel Density Estimate (KDE) of Commodities and Prediction Market Values',\n",
    "fig.update_layout(xaxis=dict(title='pct change Value'),\n",
    "                  yaxis=dict(title='Density'),\n",
    "                  showlegend=True)\n",
    "\n",
    "# Show plot\n",
    "fig.show()"
   ]
  },
  {
   "cell_type": "code",
   "execution_count": 100,
   "metadata": {},
   "outputs": [
    {
     "data": {
      "application/vnd.plotly.v1+json": {
       "config": {
        "plotlyServerURL": "https://plot.ly"
       },
       "data": [
        {
         "mode": "lines",
         "name": "Brent",
         "type": "scatter",
         "x": [
          -0.0045774529342720305,
          -0.0036574167576612915,
          -0.0036316506469219467,
          -0.002571750229852121,
          -0.0016911535028988345,
          -0.0004185623530567062,
          -0.0002989468225460534,
          0.00021758120972137363,
          0.001093847416941962,
          0.0011071048227559999,
          0.0020633816612256606,
          0.0023902521686856026,
          0.002392438315294454,
          0.002399757945986458,
          0.0027556495694607275,
          0.004170795309859976,
          0.004304887313243855,
          0.0043195405976965695,
          0.004322955771693282,
          0.00492795060463691,
          0.005012531328320691,
          0.006219532694570651,
          0.00630786557156382,
          0.006448598799160488,
          0.0066247474564467,
          0.00675790350019545,
          0.007975688537901648,
          0.008806687447052042,
          0.009090655975052986,
          0.009309324331139734,
          0.009859276828656283,
          0.010120302697756545,
          0.010833678710477468,
          0.011198949053565332,
          0.011474887842025217,
          0.011540865486083796,
          0.013302647796109568,
          0.014743106262752104,
          null
         ],
         "y": [
          0.02564102564102564,
          0.05128205128205128,
          0.07692307692307693,
          0.10256410256410256,
          0.1282051282051282,
          0.15384615384615385,
          0.1794871794871795,
          0.20512820512820512,
          0.23076923076923078,
          0.2564102564102564,
          0.28205128205128205,
          0.3076923076923077,
          0.3333333333333333,
          0.358974358974359,
          0.38461538461538464,
          0.41025641025641024,
          0.4358974358974359,
          0.46153846153846156,
          0.48717948717948717,
          0.5128205128205128,
          0.5384615384615384,
          0.5641025641025641,
          0.5897435897435898,
          0.6153846153846154,
          0.6410256410256411,
          0.6666666666666666,
          0.6923076923076923,
          0.717948717948718,
          0.7435897435897436,
          0.7692307692307693,
          0.7948717948717948,
          0.8205128205128205,
          0.8461538461538461,
          0.8717948717948718,
          0.8974358974358975,
          0.9230769230769231,
          0.9487179487179487,
          0.9743589743589743,
          1
         ]
        },
        {
         "mode": "lines",
         "name": "WTI",
         "type": "scatter",
         "x": [
          -0.004401133553110337,
          -0.003828877987171131,
          -0.0037760017743427854,
          -0.003065567080818732,
          -0.0016365933131199384,
          -0.0014189110889001322,
          -0.0006103698690989035,
          -0.00012843716862176446,
          -0.00012376381019796323,
          0.00008677143919411101,
          0.00013017410188242984,
          0.00016642729142279933,
          0.0008290177150895861,
          0.0015871784173695502,
          0.002390831999894205,
          0.003149753213376849,
          0.004398465823302944,
          0.0044304075097600926,
          0.004960923729663058,
          0.005406570329456795,
          0.005539853742777323,
          0.005739622050317861,
          0.0063026735902482756,
          0.006565347774186936,
          0.007079596747098904,
          0.0077940019192586085,
          0.008164629518548239,
          0.0096114312075406,
          0.010878099838933952,
          0.01146383204377277,
          0.011993372449583095,
          0.01204527784790943,
          0.012315401701628925,
          0.012972755072354625,
          0.013287858870747682,
          0.01418154529515503,
          0.014628041432201089,
          0.016805377821738743,
          null
         ],
         "y": [
          0.02564102564102564,
          0.05128205128205128,
          0.07692307692307693,
          0.10256410256410256,
          0.1282051282051282,
          0.15384615384615385,
          0.1794871794871795,
          0.20512820512820512,
          0.23076923076923078,
          0.2564102564102564,
          0.28205128205128205,
          0.3076923076923077,
          0.3333333333333333,
          0.358974358974359,
          0.38461538461538464,
          0.41025641025641024,
          0.4358974358974359,
          0.46153846153846156,
          0.48717948717948717,
          0.5128205128205128,
          0.5384615384615384,
          0.5641025641025641,
          0.5897435897435898,
          0.6153846153846154,
          0.6410256410256411,
          0.6666666666666666,
          0.6923076923076923,
          0.717948717948718,
          0.7435897435897436,
          0.7692307692307693,
          0.7948717948717948,
          0.8205128205128205,
          0.8461538461538461,
          0.8717948717948718,
          0.8974358974358975,
          0.9230769230769231,
          0.9487179487179487,
          0.9743589743589743,
          1
         ]
        },
        {
         "mode": "lines",
         "name": "Henry",
         "type": "scatter",
         "x": [
          -0.06945347312789807,
          -0.05869975328886501,
          -0.05310821460722004,
          -0.04455692708420156,
          -0.03294933522773813,
          -0.03033990418998278,
          -0.02338644563155523,
          -0.02008602719858099,
          -0.01591278747060121,
          -0.01200422383661126,
          -0.007708129997100133,
          -0.002393555072773945,
          -0.0008912655971479166,
          0.0008718190620640165,
          0.0013094409865148648,
          0.0013918560238235234,
          0.0038655961938744987,
          0.006290984814296463,
          0.0068567435419355505,
          0.007947161361075317,
          0.00852424641977767,
          0.008779488663607449,
          0.00952637261967304,
          0.010811463907407948,
          0.012064560555844484,
          0.016785150078988842,
          0.01680792220473193,
          0.01924592794112523,
          0.019840337362144522,
          0.02109034570930124,
          0.025524820882437904,
          0.02972707976425215,
          0.030557540592580645,
          0.044914142389974154,
          0.050839298994848736,
          0.05169252186370965,
          0.09685134999855771,
          0.10016131244204729,
          null
         ],
         "y": [
          0.02564102564102564,
          0.05128205128205128,
          0.07692307692307693,
          0.10256410256410256,
          0.1282051282051282,
          0.15384615384615385,
          0.1794871794871795,
          0.20512820512820512,
          0.23076923076923078,
          0.2564102564102564,
          0.28205128205128205,
          0.3076923076923077,
          0.3333333333333333,
          0.358974358974359,
          0.38461538461538464,
          0.41025641025641024,
          0.4358974358974359,
          0.46153846153846156,
          0.48717948717948717,
          0.5128205128205128,
          0.5384615384615384,
          0.5641025641025641,
          0.5897435897435898,
          0.6153846153846154,
          0.6410256410256411,
          0.6666666666666666,
          0.6923076923076923,
          0.717948717948718,
          0.7435897435897436,
          0.7692307692307693,
          0.7948717948717948,
          0.8205128205128205,
          0.8461538461538461,
          0.8717948717948718,
          0.8974358974358975,
          0.9230769230769231,
          0.9487179487179487,
          0.9743589743589743,
          1
         ]
        },
        {
         "mode": "lines",
         "name": "Prediction Market",
         "type": "scatter",
         "x": [
          -0.04133859499112791,
          -0.039063564129592,
          -0.027878535779047087,
          -0.026294543700596917,
          -0.018008480938586424,
          -0.017160283896909267,
          -0.017116935319320015,
          -0.017096891365813716,
          -0.013521271664782675,
          -0.012654077272428732,
          -0.01201865986967654,
          -0.00546521632866015,
          -0.0045190109878726625,
          0.0029060389763895245,
          0.0063042622963978,
          0.007056025832249624,
          0.013539952228782681,
          0.015158182205706527,
          0.023885887669031547,
          0.025217984043361286,
          0.026817423880463265,
          0.02692887331008742,
          0.027470578521321176,
          0.032489279890559386,
          0.03586802538920364,
          0.03723603926246999,
          0.03824560533273469,
          0.0465826792863393,
          0.06053897783315043,
          0.06238239788421218,
          0.06716261109071842,
          0.06890297703228132,
          0.07086055188205442,
          0.09379894698889202,
          0.10199226745973422,
          0.11484440919302497,
          0.13224260115882913,
          0.13745953879684358,
          null
         ],
         "y": [
          0.02564102564102564,
          0.05128205128205128,
          0.07692307692307693,
          0.10256410256410256,
          0.1282051282051282,
          0.15384615384615385,
          0.1794871794871795,
          0.20512820512820512,
          0.23076923076923078,
          0.2564102564102564,
          0.28205128205128205,
          0.3076923076923077,
          0.3333333333333333,
          0.358974358974359,
          0.38461538461538464,
          0.41025641025641024,
          0.4358974358974359,
          0.46153846153846156,
          0.48717948717948717,
          0.5128205128205128,
          0.5384615384615384,
          0.5641025641025641,
          0.5897435897435898,
          0.6153846153846154,
          0.6410256410256411,
          0.6666666666666666,
          0.6923076923076923,
          0.717948717948718,
          0.7435897435897436,
          0.7692307692307693,
          0.7948717948717948,
          0.8205128205128205,
          0.8461538461538461,
          0.8717948717948718,
          0.8974358974358975,
          0.9230769230769231,
          0.9487179487179487,
          0.9743589743589743,
          1
         ]
        }
       ],
       "layout": {
        "showlegend": true,
        "template": {
         "data": {
          "bar": [
           {
            "error_x": {
             "color": "#2a3f5f"
            },
            "error_y": {
             "color": "#2a3f5f"
            },
            "marker": {
             "line": {
              "color": "#E5ECF6",
              "width": 0.5
             },
             "pattern": {
              "fillmode": "overlay",
              "size": 10,
              "solidity": 0.2
             }
            },
            "type": "bar"
           }
          ],
          "barpolar": [
           {
            "marker": {
             "line": {
              "color": "#E5ECF6",
              "width": 0.5
             },
             "pattern": {
              "fillmode": "overlay",
              "size": 10,
              "solidity": 0.2
             }
            },
            "type": "barpolar"
           }
          ],
          "carpet": [
           {
            "aaxis": {
             "endlinecolor": "#2a3f5f",
             "gridcolor": "white",
             "linecolor": "white",
             "minorgridcolor": "white",
             "startlinecolor": "#2a3f5f"
            },
            "baxis": {
             "endlinecolor": "#2a3f5f",
             "gridcolor": "white",
             "linecolor": "white",
             "minorgridcolor": "white",
             "startlinecolor": "#2a3f5f"
            },
            "type": "carpet"
           }
          ],
          "choropleth": [
           {
            "colorbar": {
             "outlinewidth": 0,
             "ticks": ""
            },
            "type": "choropleth"
           }
          ],
          "contour": [
           {
            "colorbar": {
             "outlinewidth": 0,
             "ticks": ""
            },
            "colorscale": [
             [
              0,
              "#0d0887"
             ],
             [
              0.1111111111111111,
              "#46039f"
             ],
             [
              0.2222222222222222,
              "#7201a8"
             ],
             [
              0.3333333333333333,
              "#9c179e"
             ],
             [
              0.4444444444444444,
              "#bd3786"
             ],
             [
              0.5555555555555556,
              "#d8576b"
             ],
             [
              0.6666666666666666,
              "#ed7953"
             ],
             [
              0.7777777777777778,
              "#fb9f3a"
             ],
             [
              0.8888888888888888,
              "#fdca26"
             ],
             [
              1,
              "#f0f921"
             ]
            ],
            "type": "contour"
           }
          ],
          "contourcarpet": [
           {
            "colorbar": {
             "outlinewidth": 0,
             "ticks": ""
            },
            "type": "contourcarpet"
           }
          ],
          "heatmap": [
           {
            "colorbar": {
             "outlinewidth": 0,
             "ticks": ""
            },
            "colorscale": [
             [
              0,
              "#0d0887"
             ],
             [
              0.1111111111111111,
              "#46039f"
             ],
             [
              0.2222222222222222,
              "#7201a8"
             ],
             [
              0.3333333333333333,
              "#9c179e"
             ],
             [
              0.4444444444444444,
              "#bd3786"
             ],
             [
              0.5555555555555556,
              "#d8576b"
             ],
             [
              0.6666666666666666,
              "#ed7953"
             ],
             [
              0.7777777777777778,
              "#fb9f3a"
             ],
             [
              0.8888888888888888,
              "#fdca26"
             ],
             [
              1,
              "#f0f921"
             ]
            ],
            "type": "heatmap"
           }
          ],
          "heatmapgl": [
           {
            "colorbar": {
             "outlinewidth": 0,
             "ticks": ""
            },
            "colorscale": [
             [
              0,
              "#0d0887"
             ],
             [
              0.1111111111111111,
              "#46039f"
             ],
             [
              0.2222222222222222,
              "#7201a8"
             ],
             [
              0.3333333333333333,
              "#9c179e"
             ],
             [
              0.4444444444444444,
              "#bd3786"
             ],
             [
              0.5555555555555556,
              "#d8576b"
             ],
             [
              0.6666666666666666,
              "#ed7953"
             ],
             [
              0.7777777777777778,
              "#fb9f3a"
             ],
             [
              0.8888888888888888,
              "#fdca26"
             ],
             [
              1,
              "#f0f921"
             ]
            ],
            "type": "heatmapgl"
           }
          ],
          "histogram": [
           {
            "marker": {
             "pattern": {
              "fillmode": "overlay",
              "size": 10,
              "solidity": 0.2
             }
            },
            "type": "histogram"
           }
          ],
          "histogram2d": [
           {
            "colorbar": {
             "outlinewidth": 0,
             "ticks": ""
            },
            "colorscale": [
             [
              0,
              "#0d0887"
             ],
             [
              0.1111111111111111,
              "#46039f"
             ],
             [
              0.2222222222222222,
              "#7201a8"
             ],
             [
              0.3333333333333333,
              "#9c179e"
             ],
             [
              0.4444444444444444,
              "#bd3786"
             ],
             [
              0.5555555555555556,
              "#d8576b"
             ],
             [
              0.6666666666666666,
              "#ed7953"
             ],
             [
              0.7777777777777778,
              "#fb9f3a"
             ],
             [
              0.8888888888888888,
              "#fdca26"
             ],
             [
              1,
              "#f0f921"
             ]
            ],
            "type": "histogram2d"
           }
          ],
          "histogram2dcontour": [
           {
            "colorbar": {
             "outlinewidth": 0,
             "ticks": ""
            },
            "colorscale": [
             [
              0,
              "#0d0887"
             ],
             [
              0.1111111111111111,
              "#46039f"
             ],
             [
              0.2222222222222222,
              "#7201a8"
             ],
             [
              0.3333333333333333,
              "#9c179e"
             ],
             [
              0.4444444444444444,
              "#bd3786"
             ],
             [
              0.5555555555555556,
              "#d8576b"
             ],
             [
              0.6666666666666666,
              "#ed7953"
             ],
             [
              0.7777777777777778,
              "#fb9f3a"
             ],
             [
              0.8888888888888888,
              "#fdca26"
             ],
             [
              1,
              "#f0f921"
             ]
            ],
            "type": "histogram2dcontour"
           }
          ],
          "mesh3d": [
           {
            "colorbar": {
             "outlinewidth": 0,
             "ticks": ""
            },
            "type": "mesh3d"
           }
          ],
          "parcoords": [
           {
            "line": {
             "colorbar": {
              "outlinewidth": 0,
              "ticks": ""
             }
            },
            "type": "parcoords"
           }
          ],
          "pie": [
           {
            "automargin": true,
            "type": "pie"
           }
          ],
          "scatter": [
           {
            "fillpattern": {
             "fillmode": "overlay",
             "size": 10,
             "solidity": 0.2
            },
            "type": "scatter"
           }
          ],
          "scatter3d": [
           {
            "line": {
             "colorbar": {
              "outlinewidth": 0,
              "ticks": ""
             }
            },
            "marker": {
             "colorbar": {
              "outlinewidth": 0,
              "ticks": ""
             }
            },
            "type": "scatter3d"
           }
          ],
          "scattercarpet": [
           {
            "marker": {
             "colorbar": {
              "outlinewidth": 0,
              "ticks": ""
             }
            },
            "type": "scattercarpet"
           }
          ],
          "scattergeo": [
           {
            "marker": {
             "colorbar": {
              "outlinewidth": 0,
              "ticks": ""
             }
            },
            "type": "scattergeo"
           }
          ],
          "scattergl": [
           {
            "marker": {
             "colorbar": {
              "outlinewidth": 0,
              "ticks": ""
             }
            },
            "type": "scattergl"
           }
          ],
          "scattermapbox": [
           {
            "marker": {
             "colorbar": {
              "outlinewidth": 0,
              "ticks": ""
             }
            },
            "type": "scattermapbox"
           }
          ],
          "scatterpolar": [
           {
            "marker": {
             "colorbar": {
              "outlinewidth": 0,
              "ticks": ""
             }
            },
            "type": "scatterpolar"
           }
          ],
          "scatterpolargl": [
           {
            "marker": {
             "colorbar": {
              "outlinewidth": 0,
              "ticks": ""
             }
            },
            "type": "scatterpolargl"
           }
          ],
          "scatterternary": [
           {
            "marker": {
             "colorbar": {
              "outlinewidth": 0,
              "ticks": ""
             }
            },
            "type": "scatterternary"
           }
          ],
          "surface": [
           {
            "colorbar": {
             "outlinewidth": 0,
             "ticks": ""
            },
            "colorscale": [
             [
              0,
              "#0d0887"
             ],
             [
              0.1111111111111111,
              "#46039f"
             ],
             [
              0.2222222222222222,
              "#7201a8"
             ],
             [
              0.3333333333333333,
              "#9c179e"
             ],
             [
              0.4444444444444444,
              "#bd3786"
             ],
             [
              0.5555555555555556,
              "#d8576b"
             ],
             [
              0.6666666666666666,
              "#ed7953"
             ],
             [
              0.7777777777777778,
              "#fb9f3a"
             ],
             [
              0.8888888888888888,
              "#fdca26"
             ],
             [
              1,
              "#f0f921"
             ]
            ],
            "type": "surface"
           }
          ],
          "table": [
           {
            "cells": {
             "fill": {
              "color": "#EBF0F8"
             },
             "line": {
              "color": "white"
             }
            },
            "header": {
             "fill": {
              "color": "#C8D4E3"
             },
             "line": {
              "color": "white"
             }
            },
            "type": "table"
           }
          ]
         },
         "layout": {
          "annotationdefaults": {
           "arrowcolor": "#2a3f5f",
           "arrowhead": 0,
           "arrowwidth": 1
          },
          "autotypenumbers": "strict",
          "coloraxis": {
           "colorbar": {
            "outlinewidth": 0,
            "ticks": ""
           }
          },
          "colorscale": {
           "diverging": [
            [
             0,
             "#8e0152"
            ],
            [
             0.1,
             "#c51b7d"
            ],
            [
             0.2,
             "#de77ae"
            ],
            [
             0.3,
             "#f1b6da"
            ],
            [
             0.4,
             "#fde0ef"
            ],
            [
             0.5,
             "#f7f7f7"
            ],
            [
             0.6,
             "#e6f5d0"
            ],
            [
             0.7,
             "#b8e186"
            ],
            [
             0.8,
             "#7fbc41"
            ],
            [
             0.9,
             "#4d9221"
            ],
            [
             1,
             "#276419"
            ]
           ],
           "sequential": [
            [
             0,
             "#0d0887"
            ],
            [
             0.1111111111111111,
             "#46039f"
            ],
            [
             0.2222222222222222,
             "#7201a8"
            ],
            [
             0.3333333333333333,
             "#9c179e"
            ],
            [
             0.4444444444444444,
             "#bd3786"
            ],
            [
             0.5555555555555556,
             "#d8576b"
            ],
            [
             0.6666666666666666,
             "#ed7953"
            ],
            [
             0.7777777777777778,
             "#fb9f3a"
            ],
            [
             0.8888888888888888,
             "#fdca26"
            ],
            [
             1,
             "#f0f921"
            ]
           ],
           "sequentialminus": [
            [
             0,
             "#0d0887"
            ],
            [
             0.1111111111111111,
             "#46039f"
            ],
            [
             0.2222222222222222,
             "#7201a8"
            ],
            [
             0.3333333333333333,
             "#9c179e"
            ],
            [
             0.4444444444444444,
             "#bd3786"
            ],
            [
             0.5555555555555556,
             "#d8576b"
            ],
            [
             0.6666666666666666,
             "#ed7953"
            ],
            [
             0.7777777777777778,
             "#fb9f3a"
            ],
            [
             0.8888888888888888,
             "#fdca26"
            ],
            [
             1,
             "#f0f921"
            ]
           ]
          },
          "colorway": [
           "#636efa",
           "#EF553B",
           "#00cc96",
           "#ab63fa",
           "#FFA15A",
           "#19d3f3",
           "#FF6692",
           "#B6E880",
           "#FF97FF",
           "#FECB52"
          ],
          "font": {
           "color": "#2a3f5f"
          },
          "geo": {
           "bgcolor": "white",
           "lakecolor": "white",
           "landcolor": "#E5ECF6",
           "showlakes": true,
           "showland": true,
           "subunitcolor": "white"
          },
          "hoverlabel": {
           "align": "left"
          },
          "hovermode": "closest",
          "mapbox": {
           "style": "light"
          },
          "paper_bgcolor": "white",
          "plot_bgcolor": "#E5ECF6",
          "polar": {
           "angularaxis": {
            "gridcolor": "white",
            "linecolor": "white",
            "ticks": ""
           },
           "bgcolor": "#E5ECF6",
           "radialaxis": {
            "gridcolor": "white",
            "linecolor": "white",
            "ticks": ""
           }
          },
          "scene": {
           "xaxis": {
            "backgroundcolor": "#E5ECF6",
            "gridcolor": "white",
            "gridwidth": 2,
            "linecolor": "white",
            "showbackground": true,
            "ticks": "",
            "zerolinecolor": "white"
           },
           "yaxis": {
            "backgroundcolor": "#E5ECF6",
            "gridcolor": "white",
            "gridwidth": 2,
            "linecolor": "white",
            "showbackground": true,
            "ticks": "",
            "zerolinecolor": "white"
           },
           "zaxis": {
            "backgroundcolor": "#E5ECF6",
            "gridcolor": "white",
            "gridwidth": 2,
            "linecolor": "white",
            "showbackground": true,
            "ticks": "",
            "zerolinecolor": "white"
           }
          },
          "shapedefaults": {
           "line": {
            "color": "#2a3f5f"
           }
          },
          "ternary": {
           "aaxis": {
            "gridcolor": "white",
            "linecolor": "white",
            "ticks": ""
           },
           "baxis": {
            "gridcolor": "white",
            "linecolor": "white",
            "ticks": ""
           },
           "bgcolor": "#E5ECF6",
           "caxis": {
            "gridcolor": "white",
            "linecolor": "white",
            "ticks": ""
           }
          },
          "title": {
           "x": 0.05
          },
          "xaxis": {
           "automargin": true,
           "gridcolor": "white",
           "linecolor": "white",
           "ticks": "",
           "title": {
            "standoff": 15
           },
           "zerolinecolor": "white",
           "zerolinewidth": 2
          },
          "yaxis": {
           "automargin": true,
           "gridcolor": "white",
           "linecolor": "white",
           "ticks": "",
           "title": {
            "standoff": 15
           },
           "zerolinecolor": "white",
           "zerolinewidth": 2
          }
         }
        },
        "xaxis": {
         "title": {
          "text": "Percent Change Value"
         }
        },
        "yaxis": {
         "title": {
          "text": "Density"
         }
        }
       }
      }
     },
     "metadata": {},
     "output_type": "display_data"
    }
   ],
   "source": [
    "def ecdf(data):\n",
    "    x = np.sort(data)\n",
    "    y = np.arange(1, len(data) + 1) / len(data)\n",
    "    return x, y\n",
    "\n",
    "\n",
    "x_brent, y_brent = ecdf(brent_df['pctchange'])\n",
    "x_wti, y_wti = ecdf(wti_df['pctchange'])\n",
    "x_henry, y_henry = ecdf(henry_df['pctchange'])\n",
    "x_probs, y_probs = ecdf(df_probs_grouped['pctchange'])\n",
    "\n",
    "fig = plgo.Figure()\n",
    "\n",
    "# Add KDE line\n",
    "fig.add_trace(plgo.Scatter(x=x_brent, y=y_brent, mode='lines', name='Brent'))\n",
    "fig.add_trace(plgo.Scatter(x=x_wti, y=y_wti, mode='lines', name='WTI'))\n",
    "fig.add_trace(plgo.Scatter(x=x_henry, y=y_henry, mode='lines', name='Henry'))\n",
    "fig.add_trace(plgo.Scatter(x=x_probs, y=y_probs, mode='lines', name='Prediction Market'))\n",
    "\n",
    "# Update layout\n",
    "#title='ECDF of Commodities and Prediction Market Values',\n",
    "fig.update_layout(xaxis=dict(title='Percent Change Value'),\n",
    "                  yaxis=dict(title='Density'),\n",
    "                  showlegend=True)\n",
    "\n",
    "# Show plot\n",
    "fig.show()"
   ]
  },
  {
   "cell_type": "code",
   "execution_count": 60,
   "metadata": {},
   "outputs": [
    {
     "name": "stdout",
     "output_type": "stream",
     "text": [
      "KstestResult(statistic=0.5384615384615384, pvalue=1.5620116895752575e-05, statistic_location=0.013302647796109568, statistic_sign=1)\n",
      "KstestResult(statistic=0.5128205128205128, pvalue=4.9326684933955495e-05, statistic_location=0.014628041432201089, statistic_sign=1)\n",
      "KstestResult(statistic=0.3076923076923077, pvalue=0.04926851591609082, statistic_location=0.02109034570930124, statistic_sign=1)\n"
     ]
    }
   ],
   "source": [
    "from scipy.stats import ks_2samp\n",
    "\n",
    "# Perform KS test\n",
    " \n",
    "print(ks_2samp(brent_df['pctchange'], df_probs_grouped['pctchange']))\n",
    "print(ks_2samp(wti_df['pctchange'], df_probs_grouped['pctchange']))\n",
    "print(ks_2samp(henry_df['pctchange'], df_probs_grouped['pctchange']))"
   ]
  },
  {
   "cell_type": "code",
   "execution_count": null,
   "metadata": {},
   "outputs": [],
   "source": []
  }
 ],
 "metadata": {
  "kernelspec": {
   "display_name": "base",
   "language": "python",
   "name": "python3"
  },
  "language_info": {
   "codemirror_mode": {
    "name": "ipython",
    "version": 3
   },
   "file_extension": ".py",
   "mimetype": "text/x-python",
   "name": "python",
   "nbconvert_exporter": "python",
   "pygments_lexer": "ipython3",
   "version": "3.10.9"
  },
  "orig_nbformat": 4
 },
 "nbformat": 4,
 "nbformat_minor": 2
}
